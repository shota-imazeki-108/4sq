{
 "cells": [
  {
   "cell_type": "code",
   "execution_count": 1,
   "metadata": {
    "ExecuteTime": {
     "end_time": "2022-07-04T12:22:06.433392Z",
     "start_time": "2022-07-04T12:22:06.182732Z"
    },
    "execution": {
     "iopub.execute_input": "2022-06-25T00:09:03.474793Z",
     "iopub.status.busy": "2022-06-25T00:09:03.474223Z",
     "iopub.status.idle": "2022-06-25T00:09:03.481057Z",
     "shell.execute_reply": "2022-06-25T00:09:03.479509Z",
     "shell.execute_reply.started": "2022-06-25T00:09:03.474733Z"
    }
   },
   "outputs": [],
   "source": [
    "#nadare_data_dir = \"/kaggle/input/nadare-4sq-data\"\n",
    "#nadare_feature_dir = \"/kaggle/input/nadare-4sq-data/FEAT20/\"\n",
    "#nadare_util_dir = \"/kaggle/input/nadare-4sq-data/common_utils/\"\n",
    "nadare_feature_dir = \"../feature/FEAT30/\"\n",
    "nadare_util_dir = \"../feature/common_utils/\"\n",
    "\n",
    "\n",
    "import os\n",
    "import numpy as np\n",
    "import pandas as pd"
   ]
  },
  {
   "cell_type": "code",
   "execution_count": 2,
   "metadata": {
    "ExecuteTime": {
     "end_time": "2022-06-25T11:17:48.103193Z",
     "start_time": "2022-06-25T11:17:48.059193Z"
    },
    "execution": {
     "iopub.execute_input": "2022-06-25T00:09:03.823919Z",
     "iopub.status.busy": "2022-06-25T00:09:03.823498Z",
     "iopub.status.idle": "2022-06-25T00:09:04.655763Z",
     "shell.execute_reply": "2022-06-25T00:09:04.654317Z",
     "shell.execute_reply.started": "2022-06-25T00:09:03.823885Z"
    }
   },
   "outputs": [
    {
     "name": "stderr",
     "output_type": "stream",
     "text": [
      "'unzip' は、内部コマンドまたは外部コマンド、\n",
      "操作可能なプログラムまたはバッチ ファイルとして認識されていません。\n"
     ]
    }
   ],
   "source": [
    "!unzip {nadare_util_dir}pykakasi_deps.dontopenthiskaggle/pykakasi_deps.dontopenthiskaggle -d ."
   ]
  },
  {
   "cell_type": "code",
   "execution_count": null,
   "metadata": {
    "ExecuteTime": {
     "start_time": "2022-06-25T11:17:48.298Z"
    },
    "execution": {
     "iopub.execute_input": "2022-06-25T00:09:04.658091Z",
     "iopub.status.busy": "2022-06-25T00:09:04.657714Z",
     "iopub.status.idle": "2022-06-25T00:09:41.372085Z",
     "shell.execute_reply": "2022-06-25T00:09:41.370799Z",
     "shell.execute_reply.started": "2022-06-25T00:09:04.658058Z"
    }
   },
   "outputs": [],
   "source": [
    "!conda install ./pykakasi_deps/offline_pykakasi.tar.bz2\n",
    "!conda install ./pykakasi_deps/offline_jaconv.tar.bz2\n",
    "!conda install ./pykakasi_deps/offline_deprecated.tar.bz2"
   ]
  },
  {
   "cell_type": "code",
   "execution_count": 5,
   "metadata": {
    "execution": {
     "iopub.execute_input": "2022-06-25T00:09:41.374402Z",
     "iopub.status.busy": "2022-06-25T00:09:41.373755Z",
     "iopub.status.idle": "2022-06-25T00:10:48.940816Z",
     "shell.execute_reply": "2022-06-25T00:10:48.939707Z",
     "shell.execute_reply.started": "2022-06-25T00:09:41.374359Z"
    }
   },
   "outputs": [],
   "source": [
    "!pip install {nadare_util_dir}tensorflow_text-2.6.0-cp37-cp37m-manylinux1_x86_64.whl --no-deps\n",
    "!pip install {nadare_util_dir}tensorflow_ranking-0.5.0-py2.py3-none-any.whl --no-deps\n",
    "!pip install {nadare_util_dir}mojimoji-0.0.12-cp37-cp37m-manylinux_2_17_x86_64.manylinux2014_x86_64.whl --no-deps"
   ]
  },
  {
   "cell_type": "code",
   "execution_count": 6,
   "metadata": {
    "execution": {
     "iopub.execute_input": "2022-06-25T00:10:48.945074Z",
     "iopub.status.busy": "2022-06-25T00:10:48.944035Z",
     "iopub.status.idle": "2022-06-25T00:12:50.293863Z",
     "shell.execute_reply": "2022-06-25T00:12:50.291934Z",
     "shell.execute_reply.started": "2022-06-25T00:10:48.945025Z"
    }
   },
   "outputs": [],
   "source": [
    "!pip install {nadare_util_dir}SudachiPy-0.6.5-cp37-cp37m-manylinux_2_5_x86_64.manylinux1_x86_64.manylinux_2_12_x86_64.manylinux2010_x86_64.whl --no-deps\n",
    "!pip install {nadare_util_dir}SudachiDict_core-20220519-py3-none-any.whl --no-deps\n",
    "!pip install {nadare_util_dir}SudachiDict_full-20220519-py3-none-any.whl --no-deps\n",
    "!pip install {nadare_util_dir}pythainlp-3.0.8-py3-none-any.whl --no-deps\n",
    "!pip install {nadare_util_dir}tinydb-4.7.0-py3-none-any.whl --no-deps"
   ]
  },
  {
   "cell_type": "code",
   "execution_count": 2,
   "metadata": {
    "ExecuteTime": {
     "end_time": "2022-07-04T12:22:10.305175Z",
     "start_time": "2022-07-04T12:22:08.855761Z"
    },
    "execution": {
     "iopub.execute_input": "2022-06-25T00:16:43.620665Z",
     "iopub.status.busy": "2022-06-25T00:16:43.620249Z",
     "iopub.status.idle": "2022-06-25T00:16:43.626774Z",
     "shell.execute_reply": "2022-06-25T00:16:43.625677Z",
     "shell.execute_reply.started": "2022-06-25T00:16:43.620631Z"
    }
   },
   "outputs": [],
   "source": [
    "import pandas as pd\n",
    "import numpy as np\n",
    "\n",
    "import matplotlib.pyplot as plt\n",
    "import tensorflow as tf\n",
    "import tensorflow_text as tf_text\n",
    "\n",
    "from tqdm.notebook import tqdm\n",
    "import re\n",
    "\n",
    "import gc"
   ]
  },
  {
   "cell_type": "code",
   "execution_count": 3,
   "metadata": {
    "ExecuteTime": {
     "end_time": "2022-07-04T12:22:10.321237Z",
     "start_time": "2022-07-04T12:22:10.306178Z"
    },
    "execution": {
     "iopub.execute_input": "2022-06-25T00:16:43.938096Z",
     "iopub.status.busy": "2022-06-25T00:16:43.936956Z",
     "iopub.status.idle": "2022-06-25T00:16:43.942856Z",
     "shell.execute_reply": "2022-06-25T00:16:43.941780Z",
     "shell.execute_reply.started": "2022-06-25T00:16:43.938053Z"
    }
   },
   "outputs": [],
   "source": [
    "import pandas as pd"
   ]
  },
  {
   "cell_type": "code",
   "execution_count": 4,
   "metadata": {
    "ExecuteTime": {
     "end_time": "2022-07-04T12:22:12.845494Z",
     "start_time": "2022-07-04T12:22:10.322194Z"
    },
    "execution": {
     "iopub.execute_input": "2022-06-25T00:30:30.512040Z",
     "iopub.status.busy": "2022-06-25T00:30:30.511592Z",
     "iopub.status.idle": "2022-06-25T00:30:38.131942Z",
     "shell.execute_reply": "2022-06-25T00:30:38.130897Z",
     "shell.execute_reply.started": "2022-06-25T00:30:30.512003Z"
    },
    "papermill": {
     "duration": 7.72778,
     "end_time": "2022-05-04T10:21:02.526592",
     "exception": false,
     "start_time": "2022-05-04T10:20:54.798812",
     "status": "completed"
    },
    "tags": []
   },
   "outputs": [],
   "source": [
    "#train_df = pd.read_csv(\"../input/foursquare-location-matching/train.csv\", encoding=\"utf-8\")\n",
    "test_df = pd.read_csv(\"../input/foursquare-location-matching/train.csv\", encoding=\"utf-8\")\n",
    "#test_df.loc[0, \"name\"] = np.NaN"
   ]
  },
  {
   "cell_type": "code",
   "execution_count": 5,
   "metadata": {
    "ExecuteTime": {
     "end_time": "2022-07-04T12:22:13.412092Z",
     "start_time": "2022-07-04T12:22:12.846495Z"
    },
    "execution": {
     "iopub.execute_input": "2022-06-25T00:30:38.134140Z",
     "iopub.status.busy": "2022-06-25T00:30:38.133765Z",
     "iopub.status.idle": "2022-06-25T00:30:38.152869Z",
     "shell.execute_reply": "2022-06-25T00:30:38.151413Z",
     "shell.execute_reply.started": "2022-06-25T00:30:38.134106Z"
    },
    "papermill": {
     "duration": 2.936041,
     "end_time": "2022-05-04T10:21:31.818613",
     "exception": false,
     "start_time": "2022-05-04T10:21:28.882572",
     "status": "completed"
    },
    "tags": []
   },
   "outputs": [],
   "source": [
    "test_id_map = {v: i for i, v in enumerate(test_df[\"id\"].values)}\n",
    "test_df[\"ix\"] = test_df[\"id\"].map(test_id_map)\n",
    "test_df[\"categories\"] = test_df[\"categories\"].fillna(\"\")\n",
    "test_df[\"pid\"] = -1\n",
    "test_df[\"group\"] = -1"
   ]
  },
  {
   "cell_type": "code",
   "execution_count": 6,
   "metadata": {
    "ExecuteTime": {
     "end_time": "2022-07-04T12:22:26.756574Z",
     "start_time": "2022-07-04T12:22:13.413094Z"
    },
    "execution": {
     "iopub.execute_input": "2022-06-25T00:30:38.155503Z",
     "iopub.status.busy": "2022-06-25T00:30:38.154989Z",
     "iopub.status.idle": "2022-06-25T00:30:38.589901Z",
     "shell.execute_reply": "2022-06-25T00:30:38.588769Z",
     "shell.execute_reply.started": "2022-06-25T00:30:38.155428Z"
    }
   },
   "outputs": [],
   "source": [
    "from fasttext import load_model\n",
    "ft_model = load_model(nadare_util_dir + \"lid.176.bin\")\n",
    "def predict_language(text):\n",
    "    label, prob = ft_model.predict(text, 1)\n",
    "    return list(zip([l.replace(\"__label__\", \"\") for l in label], prob))[0][0]\n",
    "\n",
    "test_df[\"name_language\"] = np.vectorize(predict_language)(test_df[\"name\"].fillna(\"\"))\n",
    "test_df[\"address_language\"] = np.vectorize(predict_language)(test_df[\"address\"].fillna(\"\"))\n",
    "\n",
    "def language_pattern(country, language):\n",
    "    if country == \"JP\":\n",
    "        return 0\n",
    "    elif country == \"TH\":\n",
    "        return 1\n",
    "    elif country == \"CN\":\n",
    "        return 2\n",
    "    elif language == \"ja\":\n",
    "        return 0\n",
    "    elif language == \"th\":\n",
    "        return 1\n",
    "    elif language == \"zh\":\n",
    "        return 2\n",
    "    else:\n",
    "        return 3\n",
    "    \n",
    "test_df[\"name_handle_pattern\"] = np.vectorize(language_pattern)(test_df[\"country\"], test_df[\"name_language\"])     \n",
    "test_df[\"address_handle_pattern\"] = np.vectorize(language_pattern)(test_df[\"country\"], test_df[\"address_language\"])   \n",
    "lang_vc = test_df[\"name_language\"].value_counts()\n",
    "del ft_model"
   ]
  },
  {
   "cell_type": "code",
   "execution_count": 7,
   "metadata": {
    "ExecuteTime": {
     "end_time": "2022-07-04T12:22:27.692588Z",
     "start_time": "2022-07-04T12:22:26.757576Z"
    }
   },
   "outputs": [
    {
     "data": {
      "application/vnd.jupyter.widget-view+json": {
       "model_id": "2c4f4b86265d449da27eb7a2b8f2209e",
       "version_major": 2,
       "version_minor": 0
      },
      "text/plain": [
       "  0%|          | 0/16 [00:00<?, ?it/s]"
      ]
     },
     "metadata": {},
     "output_type": "display_data"
    }
   ],
   "source": [
    "from num2words import num2words\n",
    "from collections import defaultdict\n",
    "\n",
    "num2words_languages = ['en', 'tr', 'ru', 'es', 'de', 'th', 'id', 'fr', 'pt', 'it', 'nl',\n",
    "       'ko', 'ar', 'sv', 'uk', \"pl\"]\n",
    "\n",
    "word_number_df = []\n",
    "for lang in tqdm(num2words_languages):\n",
    "    for i in range(1001):\n",
    "        try:\n",
    "            word = num2words(i, lang=lang)\n",
    "        except:\n",
    "            word = np.NaN\n",
    "        try:\n",
    "            ordinal = num2words(i, lang=lang, to=\"ordinal\")\n",
    "        except:\n",
    "            ordinal = np.NaN\n",
    "        try:\n",
    "            ordinal_num = num2words(i, lang=lang, to=\"ordinal_num\")\n",
    "        except:\n",
    "            ordinal_num = np.NaN\n",
    "        if (pd.isna(ordinal)) or (pd.isna(ordinal_num)) or (ordinal == ordinal_num):\n",
    "            ordinal_num = i\n",
    "        if lang == \"ko\" and not pd.isna(ordinal):\n",
    "            ordinal = ordinal[:-3]\n",
    "            ordinal_num = ordinal_num[:-3] \n",
    "        \n",
    "        word_number_df.append({\"lang\": lang,\n",
    "                               \"number\": i,\n",
    "                               \"word\": word,\n",
    "                               \"ordinal\": ordinal,\n",
    "                               \"ordinal_num\": ordinal_num})\n",
    "\n",
    "word_number_df = pd.DataFrame(word_number_df)\n",
    "word_number_df[\"lang_count\"] = word_number_df[\"lang\"].apply(lambda x: lang_vc.get(x, 0))\n",
    "\n",
    "word2num_dict = {}\n",
    "possibly_have_next_dict = {}\n",
    "\n",
    "for i, row in word_number_df.sort_values(by=\"lang_count\").iterrows():\n",
    "    if not pd.isna(row[\"word\"]):\n",
    "        word = row[\"word\"]\n",
    "        if not word in possibly_have_next_dict.keys():\n",
    "            possibly_have_next_dict[word] = False\n",
    "\n",
    "        word2num_dict[word] = str(row[\"number\"])\n",
    "        word2num_dict[word.replace(\"-\", \" \")] = str(row[\"number\"])\n",
    "        \n",
    "        wsp = word.split()\n",
    "        for i in range(1, len(wsp)-1):\n",
    "            possibly_have_next_dict[\" \".join(wsp[:i])] = True\n",
    "        wsp = word.replace(\"-\", \" \").split()[:-1]\n",
    "        for i in range(1, len(wsp)-1):\n",
    "            possibly_have_next_dict[\" \".join(wsp[:i])] = True\n",
    "        \n",
    "    if (not pd.isna(row[\"ordinal\"])) and (not pd.isna(row[\"ordinal_num\"])):\n",
    "        word = row[\"ordinal\"]\n",
    "        if not word in possibly_have_next_dict.keys():\n",
    "            possibly_have_next_dict[word] = False\n",
    "        word2num_dict[word] = str(row[\"ordinal_num\"])\n",
    "        word2num_dict[word.replace(\"-\", \" \")] = str(row[\"ordinal_num\"])\n",
    "        \n",
    "        wsp = word.split()\n",
    "        for i in range(1, len(wsp)-1):\n",
    "            possibly_have_next_dict[\" \".join(wsp[:i])] = True\n",
    "        wsp = word.replace(\"-\", \" \").split()[:-1]\n",
    "        for i in range(1, len(wsp)-1):\n",
    "            possibly_have_next_dict[\" \".join(wsp[:i])] = True\n",
    "        "
   ]
  },
  {
   "cell_type": "code",
   "execution_count": 8,
   "metadata": {
    "ExecuteTime": {
     "end_time": "2022-07-04T12:22:30.760264Z",
     "start_time": "2022-07-04T12:22:27.693595Z"
    },
    "execution": {
     "iopub.execute_input": "2022-06-25T00:30:38.594012Z",
     "iopub.status.busy": "2022-06-25T00:30:38.593478Z",
     "iopub.status.idle": "2022-06-25T00:30:39.868026Z",
     "shell.execute_reply": "2022-06-25T00:30:39.866874Z",
     "shell.execute_reply.started": "2022-06-25T00:30:38.593958Z"
    }
   },
   "outputs": [
    {
     "name": "stderr",
     "output_type": "stream",
     "text": [
      "C:\\Users\\nadare\\AppData\\Local\\Temp/ipykernel_22560/2681526445.py:22: DeprecationWarning: Call to deprecated method setMode. (Old API will be removed in v3.0.) -- Deprecated since version 2.1.\n",
      "  kakasi.setMode('H', 'a')  # Convert Hiragana into alphabet\n",
      "C:\\Users\\nadare\\AppData\\Local\\Temp/ipykernel_22560/2681526445.py:23: DeprecationWarning: Call to deprecated method setMode. (Old API will be removed in v3.0.) -- Deprecated since version 2.1.\n",
      "  kakasi.setMode('K', 'a')  # Convert Katakana into alphabet\n",
      "C:\\Users\\nadare\\AppData\\Local\\Temp/ipykernel_22560/2681526445.py:24: DeprecationWarning: Call to deprecated method setMode. (Old API will be removed in v3.0.) -- Deprecated since version 2.1.\n",
      "  kakasi.setMode('J', 'a')  # Convert Kanji into alphabet\n",
      "C:\\Users\\nadare\\AppData\\Local\\Temp/ipykernel_22560/2681526445.py:25: DeprecationWarning: Call to deprecated method getConverter. (Old API will be removed in v3.0.) -- Deprecated since version 2.1.\n",
      "  conversion = kakasi.getConverter()\n",
      "C:\\Users\\nadare\\AppData\\Local\\Temp/ipykernel_22560/2681526445.py:28: DeprecationWarning: Call to deprecated method setMode. (Old API will be removed in v3.0.) -- Deprecated since version 2.1.\n",
      "  kakasi.setMode('H', 'K')  # Convert Hiragana into alphabet\n",
      "C:\\Users\\nadare\\AppData\\Local\\Temp/ipykernel_22560/2681526445.py:29: DeprecationWarning: Call to deprecated method setMode. (Old API will be removed in v3.0.) -- Deprecated since version 2.1.\n",
      "  kakasi.setMode('K', 'K')  # Convert Katakana into alphabet\n",
      "C:\\Users\\nadare\\AppData\\Local\\Temp/ipykernel_22560/2681526445.py:30: DeprecationWarning: Call to deprecated method setMode. (Old API will be removed in v3.0.) -- Deprecated since version 2.1.\n",
      "  force_katakana.setMode('J', 'K')  # Convert Hiragana into alphabet\n",
      "C:\\Users\\nadare\\AppData\\Local\\Temp/ipykernel_22560/2681526445.py:31: DeprecationWarning: Call to deprecated method getConverter. (Old API will be removed in v3.0.) -- Deprecated since version 2.1.\n",
      "  force_katakana_conversion = force_katakana.getConverter()\n",
      "C:\\Users\\nadare\\AppData\\Local\\Temp/ipykernel_22560/2681526445.py:33: DeprecationWarning: Parameter dict_type of Dictionary() is deprecated, use dict instead\n",
      "  sudachi_tokenizer = Dictionary(dict_type=\"full\").create()\n"
     ]
    }
   ],
   "source": [
    "import string\n",
    "import pycnnum\n",
    "import pythainlp\n",
    "from pythainlp.util import thai_digit_to_arabic_digit\n",
    "from sudachipy import Dictionary, SplitMode\n",
    "import mojimoji\n",
    "import pykakasi\n",
    "from unidecode import unidecode\n",
    "import emoji\n",
    "\n",
    "emoji_set = set()\n",
    "for k, v in emoji.UNICODE_EMOJI.items():\n",
    "    emoji_set.update(v.keys())\n",
    "thai_word2num_dict = {num2words(i, lang=\"th\"):str(i) for i in range(10001)}\n",
    "CHINESE_DIGITS_PATTERN = re.compile(r'[〇〇零一二三四五六七八九零壹贰叁肆伍陆柒捌玖十百千万拾佰仟萬]+')\n",
    "remove_punctuations = '!\"#$%\\'()*+,./:;<=>?@[\\\\]^_`{|}~'\n",
    "punctuation_translater = str.maketrans(remove_punctuations, \" \"*len(remove_punctuations))\n",
    "japanese_char2num_translater = str.maketrans(\"〇零一壱二弐三参四肆五伍六陸七漆八捌九玖\", \"00112233445566778899\")\n",
    "\n",
    "\n",
    "kakasi = pykakasi.kakasi()\n",
    "kakasi.setMode('H', 'a')  # Convert Hiragana into alphabet\n",
    "kakasi.setMode('K', 'a')  # Convert Katakana into alphabet\n",
    "kakasi.setMode('J', 'a')  # Convert Kanji into alphabet\n",
    "conversion = kakasi.getConverter()\n",
    "\n",
    "force_katakana = pykakasi.kakasi()\n",
    "kakasi.setMode('H', 'K')  # Convert Hiragana into alphabet\n",
    "kakasi.setMode('K', 'K')  # Convert Katakana into alphabet\n",
    "force_katakana.setMode('J', 'K')  # Convert Hiragana into alphabet\n",
    "force_katakana_conversion = force_katakana.getConverter()\n",
    "\n",
    "sudachi_tokenizer = Dictionary(dict_type=\"full\").create()\n",
    "sudachi_tokenize_mode = SplitMode.A\n",
    "\n",
    "zh_segmenter = tf_text.HubModuleTokenizer(nadare_util_dir + \"zh_segmentation\")\n",
    "\n",
    "def remove_emoji(x):\n",
    "    return ''.join([c for c in x if c not in emoji_set])\n",
    "\n",
    "def remove_marks(x):\n",
    "    x = re.sub(r'[^a-zA-Z0-9& ]', ' ', x)\n",
    "    x = re.sub(r' +', ' ', x)\n",
    "    return x\n",
    "\n",
    "def zenhan_normalize(x):\n",
    "    return mojimoji.han_to_zen(mojimoji.zen_to_han(x, kana=False), digit=False, ascii=False)\n",
    "\n",
    "def japanese_wakachi_reading(morphemes):\n",
    "    readings = []\n",
    "    for m in morphemes:\n",
    "        if (m.normalized_form() == \" \") or (m.reading_form() == \"キゴウ\"):\n",
    "            continue\n",
    "        if m.normalized_form().endswith(\"丁目\") and m.normalized_form() != \"丁目\":\n",
    "            norm = m.normalized_form().translate(japanese_char2num_translater)\n",
    "            norm = re.sub(r\"(\\d+)\", r\" \\1 \", \"6丁目\")\n",
    "            rs = japanese_wakachi_reading(sudachi_tokenizer.tokenize(norm, sudachi_tokenize_mode))\n",
    "            readings.extend(rs)\n",
    "        elif m.normalized_form().isdigit():\n",
    "            readings.append(m.normalized_form())\n",
    "        else:\n",
    "            readings.append(force_katakana_conversion.do(m.reading_form()))\n",
    "    return readings\n",
    "\n",
    "def handle_japanese(x):\n",
    "    x = zenhan_normalize(x)\n",
    "    morphemes = sudachi_tokenizer.tokenize(x, sudachi_tokenize_mode)\n",
    "    reading_forms = japanese_wakachi_reading(morphemes)\n",
    "    romanize_forms = conversion.do(\" \".join(reading_forms))\n",
    "    return \" \".join(reading_forms), romanize_forms\n",
    "\n",
    "def decode_list(x):\n",
    "    if type(x) is list:\n",
    "        return list(map(decode_list, x))\n",
    "    return x.decode(\"UTF-8\")\n",
    "\n",
    "def decode_utf8_tensor(x):\n",
    "    return list(map(decode_list, x.to_list()))\n",
    "\n",
    "def handle_chinese(x):\n",
    "    x = x.replace(\"'\", \"\").translate(punctuation_translater).lower()\n",
    "    if re.fullmatch(\"\\s*\", x):\n",
    "        return \"\", \"\"\n",
    "    with tf.device(\"CPU:0\"):\n",
    "        words_list = decode_utf8_tensor(zh_segmenter.tokenize(x.split()))\n",
    "        \n",
    "    number_words = []\n",
    "    romanized_words = []\n",
    "    for words in words_list:\n",
    "        num_word = []\n",
    "        roman_word = []\n",
    "        for word in words:\n",
    "            if re.fullmatch(CHINESE_DIGITS_PATTERN, word):\n",
    "                word = str(pycnnum.cn2num(word))\n",
    "            if (word[0]) == \"第\" and re.fullmatch(CHINESE_DIGITS_PATTERN, word[1:]):\n",
    "                num = str(pycnnum.cn2num(word[1:]))\n",
    "                word = \"第\"\n",
    "                num_word.append(word + num)\n",
    "                roman_word.append(unidecode(word[0]).lower().replace(\" \", \"\") + \" \" + num)\n",
    "            else:\n",
    "                num_word.append(word)\n",
    "                roman_word.append(unidecode(word).lower().replace(\" \", \"\"))\n",
    "        number_words.append(\"\".join(num_word))\n",
    "        romanized_words.append(\" \".join(roman_word))\n",
    "    return \" \".join(number_words), \" \".join(romanized_words)\n",
    "\n",
    "def handle_thai(x):\n",
    "    x = thai_digit_to_arabic_digit(x)\n",
    "    tokenized_word = pythainlp.tokenize.word_tokenize(x, engine=\"newmm\")\n",
    "    number_words = []\n",
    "    romanized_words = []\n",
    "    for word in tokenized_word:\n",
    "        word = thai_word2num_dict.get(word, word)\n",
    "        number_words.append(word)\n",
    "        try:\n",
    "            romanized_words.append(pythainlp.romanize(word, engine='royin'))\n",
    "        except:\n",
    "            pass\n",
    "    return \"\".join(number_words), \" \".join(romanized_words)\n",
    "\n",
    "\n",
    "def language_normalize(word):\n",
    "    result = []\n",
    "    word = word.replace(\"'\", \"\").translate(punctuation_translater).lower()\n",
    "    tmp = \"\"\n",
    "    for w in word.split():\n",
    "        if len(tmp):\n",
    "            tmp = tmp + \" \" + w\n",
    "            if tmp in possibly_have_next_dict.keys():\n",
    "                if possibly_have_next_dict[tmp]:\n",
    "                    continue\n",
    "                else:\n",
    "                    result.append(word2num_dict[tmp])\n",
    "                    tmp = \"\"\n",
    "        else:\n",
    "            if w in possibly_have_next_dict.keys():\n",
    "                if possibly_have_next_dict[w]:\n",
    "                    tmp = w\n",
    "                    continue\n",
    "                else:\n",
    "                    result.append(word2num_dict[w])\n",
    "            else:\n",
    "                result.append(w)\n",
    "    if len(tmp):\n",
    "        result.append(word2num_dict.get(tmp, tmp))\n",
    "            \n",
    "    return re.sub(r' +', ' ', \" \".join(result))\n",
    "\n",
    "def language_handle(handle_pattern, text):\n",
    "    if handle_pattern == 0:\n",
    "        normalized, romanized = handle_japanese(text)\n",
    "    elif handle_pattern == 1:\n",
    "        normalized, romanized = handle_thai(text)\n",
    "    elif handle_pattern == 2:\n",
    "        normalized, romanized = handle_chinese(text)\n",
    "    return normalized, romanized\n"
   ]
  },
  {
   "cell_type": "code",
   "execution_count": 9,
   "metadata": {
    "ExecuteTime": {
     "end_time": "2022-07-04T12:23:39.295745Z",
     "start_time": "2022-07-04T12:22:30.760264Z"
    },
    "execution": {
     "iopub.execute_input": "2022-06-25T00:30:39.889218Z",
     "iopub.status.busy": "2022-06-25T00:30:39.888702Z",
     "iopub.status.idle": "2022-06-25T00:30:43.316464Z",
     "shell.execute_reply": "2022-06-25T00:30:43.315242Z",
     "shell.execute_reply.started": "2022-06-25T00:30:39.889174Z"
    }
   },
   "outputs": [
    {
     "data": {
      "application/vnd.jupyter.widget-view+json": {
       "model_id": "6b8a7c0a584a438282cf95e98bedc289",
       "version_major": 2,
       "version_minor": 0
      },
      "text/plain": [
       "  0%|          | 0/150443 [00:00<?, ?it/s]"
      ]
     },
     "metadata": {},
     "output_type": "display_data"
    },
    {
     "name": "stderr",
     "output_type": "stream",
     "text": [
      "C:\\Users\\nadare\\AppData\\Local\\Temp/ipykernel_22560/2681526445.py:62: DeprecationWarning: Call to deprecated method do. (Old API will be removed in v3.0.) -- Deprecated since version 2.1.\n",
      "  readings.append(force_katakana_conversion.do(m.reading_form()))\n",
      "C:\\Users\\nadare\\AppData\\Local\\Temp/ipykernel_22560/2681526445.py:69: DeprecationWarning: Call to deprecated method do. (Old API will be removed in v3.0.) -- Deprecated since version 2.1.\n",
      "  romanize_forms = conversion.do(\" \".join(reading_forms))\n"
     ]
    }
   ],
   "source": [
    "name_handle_index = np.where((test_df[\"name_handle_pattern\"] <= 2) & (~test_df[\"name\"].isna()))[0]\n",
    "\n",
    "name_normalized = []\n",
    "name_romanized = []\n",
    "for pattern, name in tqdm(zip(test_df[\"name_handle_pattern\"].values[name_handle_index],\n",
    "                              test_df[\"name\"].fillna(\"\").astype(str).values[name_handle_index]), total=len(name_handle_index)):\n",
    "    normalized, romanized = language_handle(pattern, name)\n",
    "    name_normalized.append(normalized)\n",
    "    name_romanized.append(romanized)"
   ]
  },
  {
   "cell_type": "code",
   "execution_count": 10,
   "metadata": {
    "ExecuteTime": {
     "end_time": "2022-07-04T12:24:15.380756Z",
     "start_time": "2022-07-04T12:23:39.296748Z"
    },
    "execution": {
     "iopub.execute_input": "2022-06-25T00:30:43.318590Z",
     "iopub.status.busy": "2022-06-25T00:30:43.318060Z",
     "iopub.status.idle": "2022-06-25T00:30:47.968535Z",
     "shell.execute_reply": "2022-06-25T00:30:47.967496Z",
     "shell.execute_reply.started": "2022-06-25T00:30:43.318541Z"
    }
   },
   "outputs": [
    {
     "data": {
      "application/vnd.jupyter.widget-view+json": {
       "model_id": "7b91278b5f374b62bcdaa344e9c29c0d",
       "version_major": 2,
       "version_minor": 0
      },
      "text/plain": [
       "  0%|          | 0/90478 [00:00<?, ?it/s]"
      ]
     },
     "metadata": {},
     "output_type": "display_data"
    },
    {
     "name": "stderr",
     "output_type": "stream",
     "text": [
      "C:\\Users\\nadare\\AppData\\Local\\Temp/ipykernel_22560/2681526445.py:62: DeprecationWarning: Call to deprecated method do. (Old API will be removed in v3.0.) -- Deprecated since version 2.1.\n",
      "  readings.append(force_katakana_conversion.do(m.reading_form()))\n",
      "C:\\Users\\nadare\\AppData\\Local\\Temp/ipykernel_22560/2681526445.py:69: DeprecationWarning: Call to deprecated method do. (Old API will be removed in v3.0.) -- Deprecated since version 2.1.\n",
      "  romanize_forms = conversion.do(\" \".join(reading_forms))\n"
     ]
    }
   ],
   "source": [
    "address_handle_index = np.where((test_df[\"address_handle_pattern\"] <= 2) & (~test_df[\"address\"].isna()))[0]\n",
    "\n",
    "address_normalized = []\n",
    "address_romanized = []\n",
    "for pattern, address in tqdm(zip(test_df[\"address_handle_pattern\"].values[address_handle_index],\n",
    "                              test_df[\"address\"].fillna(\"\").astype(str).values[address_handle_index]), total=len(address_handle_index)):\n",
    "    normalized, romanized = language_handle(pattern, address)\n",
    "    address_normalized.append(normalized)\n",
    "    address_romanized.append(romanized)"
   ]
  },
  {
   "cell_type": "code",
   "execution_count": 11,
   "metadata": {
    "ExecuteTime": {
     "end_time": "2022-07-04T12:24:15.832739Z",
     "start_time": "2022-07-04T12:24:15.382276Z"
    },
    "execution": {
     "iopub.execute_input": "2022-06-25T00:30:47.971469Z",
     "iopub.status.busy": "2022-06-25T00:30:47.970209Z",
     "iopub.status.idle": "2022-06-25T00:30:49.794248Z",
     "shell.execute_reply": "2022-06-25T00:30:49.793025Z",
     "shell.execute_reply.started": "2022-06-25T00:30:47.971392Z"
    }
   },
   "outputs": [
    {
     "data": {
      "text/plain": [
       "10804"
      ]
     },
     "execution_count": 11,
     "metadata": {},
     "output_type": "execute_result"
    }
   ],
   "source": [
    "import gc\n",
    "del zh_segmenter, kakasi, conversion, sudachi_tokenizer\n",
    "gc.collect()"
   ]
  },
  {
   "cell_type": "code",
   "execution_count": 12,
   "metadata": {
    "ExecuteTime": {
     "end_time": "2022-07-04T12:24:29.871355Z",
     "start_time": "2022-07-04T12:24:15.833250Z"
    },
    "execution": {
     "iopub.execute_input": "2022-06-25T00:30:49.796554Z",
     "iopub.status.busy": "2022-06-25T00:30:49.796012Z",
     "iopub.status.idle": "2022-06-25T00:30:49.949864Z",
     "shell.execute_reply": "2022-06-25T00:30:49.948850Z",
     "shell.execute_reply.started": "2022-06-25T00:30:49.796505Z"
    }
   },
   "outputs": [],
   "source": [
    "test_df[\"name_normalized\"] = np.vectorize(language_normalize)(test_df[\"name\"].fillna(\"\").astype(str))\n",
    "test_df[\"address_normalized\"] = np.vectorize(language_normalize)(test_df[\"address\"].fillna(\"\").astype(str))\n",
    "\n",
    "\n",
    "from_cols = [\"name_normalized\", \"address_normalized\"]\n",
    "to_cols = ['sp_name', \"sp_address_raw\"]\n",
    "\n",
    "for from_, to_ in zip(from_cols, to_cols):\n",
    "    test_df[to_] = test_df[from_].fillna('').apply(unidecode)\n",
    "    \n",
    "test_df.loc[name_handle_index, \"name_normalized\"] = name_normalized\n",
    "test_df.loc[name_handle_index, \"sp_name\"] = name_romanized\n",
    "\n",
    "test_df.loc[address_handle_index, \"address_normalized\"] = address_normalized\n",
    "test_df.loc[address_handle_index, \"sp_address_raw\"] = address_romanized\n",
    "\n",
    "for from_, to_ in zip(from_cols, to_cols):\n",
    "    test_df[to_] = test_df[to_].apply(unidecode)\n",
    "    test_df[to_] = test_df[to_].str.lower()\n",
    "    test_df[to_] = test_df[to_].apply(remove_emoji)\n",
    "    test_df[to_] = test_df[to_].apply(remove_marks)"
   ]
  },
  {
   "cell_type": "code",
   "execution_count": 13,
   "metadata": {
    "ExecuteTime": {
     "end_time": "2022-07-04T12:26:07.722057Z",
     "start_time": "2022-07-04T12:24:29.872360Z"
    },
    "execution": {
     "iopub.execute_input": "2022-06-25T00:30:49.953926Z",
     "iopub.status.busy": "2022-06-25T00:30:49.953513Z",
     "iopub.status.idle": "2022-06-25T00:30:50.534091Z",
     "shell.execute_reply": "2022-06-25T00:30:50.533053Z",
     "shell.execute_reply.started": "2022-06-25T00:30:49.953893Z"
    }
   },
   "outputs": [],
   "source": [
    "from sklearn.neighbors import KNeighborsRegressor\n",
    "address_index = np.where(~np.vectorize(lambda x: bool(re.fullmatch(\"\\s*\", x)))(test_df[\"sp_address_raw\"].fillna(\"\")))[0]\n",
    "knn = KNeighborsRegressor(n_neighbors=min(3, (~test_df[\"address\"].isna()).sum()), \n",
    "                          metric='haversine', \n",
    "                          n_jobs=-1)\n",
    "knn.fit(np.deg2rad(test_df[['latitude','longitude']].values)[address_index], address_index)\n",
    "address_neiighbor = address_index[knn.kneighbors(np.deg2rad(test_df[['latitude','longitude']].values))[1]]\n",
    "test_df[\"sp_address\"] = np.vectorize(lambda x: \" \".join(x))(pd.Series(test_df[\"sp_address_raw\"].values[address_neiighbor].tolist()))\n"
   ]
  },
  {
   "cell_type": "code",
   "execution_count": 14,
   "metadata": {
    "ExecuteTime": {
     "end_time": "2022-07-04T12:26:12.258914Z",
     "start_time": "2022-07-04T12:26:07.723063Z"
    }
   },
   "outputs": [],
   "source": [
    "test_df[\"sp_name\"] = test_df[\"sp_name\"].apply(remove_marks)\n",
    "test_df[\"sp_address\"] = test_df[\"sp_address\"].apply(remove_marks)"
   ]
  },
  {
   "cell_type": "code",
   "execution_count": 15,
   "metadata": {
    "ExecuteTime": {
     "end_time": "2022-07-04T12:26:12.273860Z",
     "start_time": "2022-07-04T12:26:12.259917Z"
    }
   },
   "outputs": [],
   "source": [
    "#test_df[[\"sp_name\", \"sp_address\", \"sp_address_raw\"]].to_csv(\"../processed/sp_input2.csv\", index=None)"
   ]
  },
  {
   "cell_type": "code",
   "execution_count": 16,
   "metadata": {
    "ExecuteTime": {
     "end_time": "2022-07-04T12:26:12.289860Z",
     "start_time": "2022-07-04T12:26:12.274860Z"
    }
   },
   "outputs": [],
   "source": [
    "#test_df[[\"sp_name\", \"sp_address\", \"sp_address_raw\"]] = pd.read_csv(\"../processed/sp_input2.csv\").fillna(\" \")"
   ]
  },
  {
   "cell_type": "code",
   "execution_count": 17,
   "metadata": {
    "ExecuteTime": {
     "end_time": "2022-07-04T12:26:12.320430Z",
     "start_time": "2022-07-04T12:26:12.290861Z"
    },
    "execution": {
     "iopub.execute_input": "2022-06-25T00:30:50.536191Z",
     "iopub.status.busy": "2022-06-25T00:30:50.535612Z",
     "iopub.status.idle": "2022-06-25T00:30:50.576560Z",
     "shell.execute_reply": "2022-06-25T00:30:50.575613Z",
     "shell.execute_reply.started": "2022-06-25T00:30:50.536139Z"
    }
   },
   "outputs": [],
   "source": [
    "import os\n",
    "\n",
    "country_index_df = pd.read_csv(nadare_feature_dir + 'country_tsp_index.csv', encoding=\"utf-8\")\n",
    "state_index_df = pd.read_csv(nadare_feature_dir + 'state_tsp_index.csv', encoding=\"utf-8\")\n",
    "city_index_df = pd.read_csv(nadare_feature_dir + 'city_tsp_index.csv', encoding=\"utf-8\")\n",
    "geo_name_index_df = pd.read_csv(nadare_feature_dir + 'geo_name_tsp_index.csv', encoding=\"utf-8\")\n",
    "category_index_df = pd.read_csv(nadare_feature_dir + 'category_tsp_index.csv', encoding=\"utf-8\").fillna(\"nan\")\n"
   ]
  },
  {
   "cell_type": "code",
   "execution_count": 18,
   "metadata": {
    "ExecuteTime": {
     "end_time": "2022-07-04T12:26:12.336168Z",
     "start_time": "2022-07-04T12:26:12.321433Z"
    },
    "execution": {
     "iopub.execute_input": "2022-06-25T00:30:50.582760Z",
     "iopub.status.busy": "2022-06-25T00:30:50.581889Z",
     "iopub.status.idle": "2022-06-25T00:30:50.624620Z",
     "shell.execute_reply": "2022-06-25T00:30:50.623363Z",
     "shell.execute_reply.started": "2022-06-25T00:30:50.582710Z"
    }
   },
   "outputs": [],
   "source": [
    "country_index_map = {country: i for country, i in country_index_df[[\"country\", \"country_index\"]].values}\n",
    "state_index_map = {state: i for state, i in state_index_df[[\"state\", \"state_index\"]].values}\n",
    "city_index_map = {city: i for city, i in city_index_df[[\"city\", \"city_index\"]].values}\n",
    "geo_name_index_map = {geo_name: i for geo_name, i in geo_name_index_df[[\"geo_name\", \"geo_name_index\"]].values}"
   ]
  },
  {
   "cell_type": "code",
   "execution_count": 19,
   "metadata": {
    "ExecuteTime": {
     "end_time": "2022-07-04T12:26:12.352037Z",
     "start_time": "2022-07-04T12:26:12.337169Z"
    }
   },
   "outputs": [],
   "source": [
    "def haversine(X, Y):\n",
    "    delta = Y - X\n",
    "    x_lats = tf.gather(X, 0, axis=-1)\n",
    "    y_lats = tf.gather(Y, 0, axis=-1)\n",
    "    dlat = tf.gather(delta, 0, axis=-1)\n",
    "    dlon = tf.gather(delta, 1, axis=-1)\n",
    "\n",
    "    a = tf.sin(dlat/2) * tf.sin(dlat/2) + tf.cos(x_lats) * tf.cos(y_lats) * tf.sin(dlon/2) * tf.sin(dlon/2)\n",
    "    c = 2 * tf.math.atan2(tf.sqrt(a), tf.sqrt(1-a))\n",
    "    return c"
   ]
  },
  {
   "cell_type": "code",
   "execution_count": 20,
   "metadata": {
    "ExecuteTime": {
     "end_time": "2022-07-04T12:26:12.367483Z",
     "start_time": "2022-07-04T12:26:12.352472Z"
    },
    "execution": {
     "iopub.execute_input": "2022-06-25T00:30:50.626723Z",
     "iopub.status.busy": "2022-06-25T00:30:50.626204Z",
     "iopub.status.idle": "2022-06-25T00:30:50.638167Z",
     "shell.execute_reply": "2022-06-25T00:30:50.636953Z",
     "shell.execute_reply.started": "2022-06-25T00:30:50.626675Z"
    }
   },
   "outputs": [],
   "source": [
    "category_ix_dict = {k: v for k, v in category_index_df[[\"category\", \"category_ix\"]].values}"
   ]
  },
  {
   "cell_type": "code",
   "execution_count": 21,
   "metadata": {
    "ExecuteTime": {
     "end_time": "2022-07-04T12:26:12.383043Z",
     "start_time": "2022-07-04T12:26:12.368485Z"
    },
    "execution": {
     "iopub.execute_input": "2022-06-25T00:30:50.641339Z",
     "iopub.status.busy": "2022-06-25T00:30:50.640083Z",
     "iopub.status.idle": "2022-06-25T00:30:50.649951Z",
     "shell.execute_reply": "2022-06-25T00:30:50.648854Z",
     "shell.execute_reply.started": "2022-06-25T00:30:50.641286Z"
    }
   },
   "outputs": [
    {
     "data": {
      "text/plain": [
       "911"
      ]
     },
     "execution_count": 21,
     "metadata": {},
     "output_type": "execute_result"
    }
   ],
   "source": [
    "len(category_ix_dict)"
   ]
  },
  {
   "cell_type": "code",
   "execution_count": 22,
   "metadata": {
    "ExecuteTime": {
     "end_time": "2022-07-04T12:26:13.301292Z",
     "start_time": "2022-07-04T12:26:12.384043Z"
    },
    "execution": {
     "iopub.execute_input": "2022-06-25T00:30:50.652360Z",
     "iopub.status.busy": "2022-06-25T00:30:50.651576Z",
     "iopub.status.idle": "2022-06-25T00:30:50.699415Z",
     "shell.execute_reply": "2022-06-25T00:30:50.698300Z",
     "shell.execute_reply.started": "2022-06-25T00:30:50.652311Z"
    }
   },
   "outputs": [],
   "source": [
    "def get_value_with_default(dict_, value, default=0):\n",
    "    return np.vectorize(lambda x: dict_.get(x, default))(value)\n",
    "\n",
    "def get_category_ix(df, category_ix_dict):\n",
    "    cat_pairs = []\n",
    "    all_category = set()\n",
    "    for row in df[\"categories\"].drop_duplicates().dropna().values:\n",
    "        for cat in row.split(\", \"):\n",
    "            if len(cat):\n",
    "                cat_pairs.append([row, cat])\n",
    "                all_category.add(cat)\n",
    "\n",
    "    category_df = pd.DataFrame(cat_pairs, columns=[\"categories\", \"category\"])\n",
    "    categories_df = df[[\"ix\", \"categories\"]].merge(category_df, on=\"categories\", how=\"left\").sort_values(by=\"ix\")\n",
    "\n",
    "    categories_df[\"category_ix\"] = get_value_with_default(category_ix_dict, categories_df[\"category\"].values, -1)\n",
    "    categories_df = categories_df[categories_df[\"category_ix\"] >= 0]\n",
    "    categories_ix = tf.RaggedTensor.from_value_rowids(values=tf.constant(categories_df[\"category_ix\"].values, \"int32\"),\n",
    "                                                              value_rowids=tf.constant(categories_df[\"ix\"].values, \"int32\"),\n",
    "                                                              nrows=len(df))\n",
    "    return categories_ix\n",
    "category_ix_dict = {k: v for k, v in category_index_df[[\"category\", \"category_ix\"]].values}\n",
    "test_categories_ix = get_category_ix(test_df, category_ix_dict)"
   ]
  },
  {
   "cell_type": "code",
   "execution_count": 23,
   "metadata": {
    "ExecuteTime": {
     "end_time": "2022-07-04T12:26:18.478555Z",
     "start_time": "2022-07-04T12:26:13.302300Z"
    },
    "execution": {
     "iopub.execute_input": "2022-06-25T00:30:51.648652Z",
     "iopub.status.busy": "2022-06-25T00:30:51.648177Z",
     "iopub.status.idle": "2022-06-25T00:30:51.886907Z",
     "shell.execute_reply": "2022-06-25T00:30:51.885797Z",
     "shell.execute_reply.started": "2022-06-25T00:30:51.648620Z"
    }
   },
   "outputs": [],
   "source": [
    "from sklearn.neighbors import KNeighborsRegressor\n",
    "knn = KNeighborsRegressor(n_neighbors=1, \n",
    "                          metric='haversine', \n",
    "                          n_jobs=-1)\n",
    "knn.fit(np.deg2rad(city_index_df[['latitude','longitude']]), city_index_df[\"city_index\"])\n",
    "pseudo_index = knn.kneighbors(np.deg2rad(test_df[['latitude','longitude']]))[1].T[0]\n",
    "test_df[\"pseudo_city\"] = np.where(test_df[\"city\"].isin(city_index_df[\"city\"].values), test_df[\"city\"].values, city_index_df[\"city\"][pseudo_index].values)\n",
    "test_df[\"pseudo_city_ix\"] = test_df[\"pseudo_city\"].map(city_index_map)"
   ]
  },
  {
   "cell_type": "code",
   "execution_count": 24,
   "metadata": {
    "ExecuteTime": {
     "end_time": "2022-07-04T12:26:25.634213Z",
     "start_time": "2022-07-04T12:26:18.479557Z"
    },
    "execution": {
     "iopub.execute_input": "2022-06-25T00:30:52.019953Z",
     "iopub.status.busy": "2022-06-25T00:30:52.019594Z",
     "iopub.status.idle": "2022-06-25T00:30:52.150313Z",
     "shell.execute_reply": "2022-06-25T00:30:52.149349Z",
     "shell.execute_reply.started": "2022-06-25T00:30:52.019920Z"
    }
   },
   "outputs": [],
   "source": [
    "from sklearn.neighbors import KNeighborsRegressor\n",
    "knn = KNeighborsRegressor(n_neighbors=1, \n",
    "                          metric='haversine', \n",
    "                          n_jobs=-1)\n",
    "knn.fit(np.deg2rad(state_index_df[['latitude','longitude']]), state_index_df[\"state_index\"])\n",
    "pseudo_index = knn.kneighbors(np.deg2rad(test_df[['latitude','longitude']]))[1].T[0]\n",
    "test_df[\"pseudo_state\"] = np.where(test_df[\"state\"].isin(state_index_df[\"state\"].values), test_df[\"state\"].values, state_index_df[\"state\"][pseudo_index].values)\n",
    "test_df[\"pseudo_state_ix\"] = test_df[\"pseudo_state\"].map(state_index_map)"
   ]
  },
  {
   "cell_type": "code",
   "execution_count": 25,
   "metadata": {
    "ExecuteTime": {
     "end_time": "2022-07-04T12:26:32.314949Z",
     "start_time": "2022-07-04T12:26:25.635215Z"
    }
   },
   "outputs": [],
   "source": [
    "from sklearn.neighbors import KNeighborsRegressor\n",
    "knn = KNeighborsRegressor(n_neighbors=1, \n",
    "                          metric='haversine', \n",
    "                          n_jobs=-1)\n",
    "knn.fit(np.deg2rad(geo_name_index_df[['latitude','longitude']]), geo_name_index_df[\"geo_name_index\"])\n",
    "pseudo_index = knn.kneighbors(np.deg2rad(test_df[['latitude','longitude']]))[1].T[0]\n",
    "test_df[\"pseudo_geo_name_ix\"] = pseudo_index"
   ]
  },
  {
   "cell_type": "code",
   "execution_count": 26,
   "metadata": {
    "ExecuteTime": {
     "end_time": "2022-07-04T12:26:32.409455Z",
     "start_time": "2022-07-04T12:26:32.315950Z"
    },
    "execution": {
     "iopub.execute_input": "2022-06-25T00:30:52.151750Z",
     "iopub.status.busy": "2022-06-25T00:30:52.151403Z",
     "iopub.status.idle": "2022-06-25T00:30:52.160345Z",
     "shell.execute_reply": "2022-06-25T00:30:52.159384Z",
     "shell.execute_reply.started": "2022-06-25T00:30:52.151719Z"
    }
   },
   "outputs": [],
   "source": [
    "test_df[\"country_ix\"] = get_value_with_default(country_index_map, test_df[\"country\"], np.where(country_index_df[\"country\"] == \"NAN\")[0][0])\n"
   ]
  },
  {
   "cell_type": "code",
   "execution_count": 27,
   "metadata": {
    "ExecuteTime": {
     "end_time": "2022-07-04T12:26:32.425454Z",
     "start_time": "2022-07-04T12:26:32.410454Z"
    },
    "execution": {
     "iopub.execute_input": "2022-06-25T00:30:53.798737Z",
     "iopub.status.busy": "2022-06-25T00:30:53.798301Z",
     "iopub.status.idle": "2022-06-25T00:30:53.816125Z",
     "shell.execute_reply": "2022-06-25T00:30:53.815291Z",
     "shell.execute_reply.started": "2022-06-25T00:30:53.798701Z"
    }
   },
   "outputs": [],
   "source": [
    "ix_params_dict = {\"country\": {\"dimention\": 64, \"num_category\": len(country_index_df)+1},\n",
    "                  \"state\": {\"dimention\": 64, \"num_category\": len(state_index_df)},\n",
    "                  \"city\": {\"dimention\": 64, \"num_category\": len(city_index_df)},\n",
    "                  \"geo_name\": {\"dimention\": 64, \"num_category\": len(geo_name_index_df)}\n",
    "                  }\n",
    "test_ix_values = {\"country\": tf.convert_to_tensor(test_df[\"country_ix\"].values.astype(np.int32)),\n",
    "                   \"state\": tf.convert_to_tensor(test_df[\"pseudo_state_ix\"].values.astype(np.int32)),\n",
    "                   \"city\": tf.convert_to_tensor(test_df[\"pseudo_city_ix\"].values.astype(np.int32)),\n",
    "                   \"geo_name\": tf.convert_to_tensor(test_df[\"pseudo_geo_name_ix\"].values.astype(np.int32)),\n",
    "                   }\n",
    "\n",
    "class IxEmbeddingLayer(tf.keras.layers.Layer):\n",
    "    def __init__(self, ix_params_dict, num_layer=1, out_dim=128):\n",
    "        super(IxEmbeddingLayer, self).__init__()\n",
    "        self.ix_params_dict = ix_params_dict\n",
    "        self.num_layer = num_layer\n",
    "        self.out_dim = out_dim\n",
    "        self.embedding_layers = {k: tf.keras.layers.Embedding(v[\"num_category\"], v[\"dimention\"]) for k, v in ix_params_dict.items()}\n",
    "        self.denses = [tf.keras.layers.Dense(out_dim, activation=\"gelu\")]\n",
    "        self.out = tf.keras.layers.Dense(out_dim)\n",
    "        self.drop_out = tf.keras.layers.Dropout(0.1)\n",
    "    \n",
    "    def call(self, ix_values):\n",
    "        results = []\n",
    "        for k, v in ix_values.items():\n",
    "            results.append(self.embedding_layers[k](v))\n",
    "        X = tf.concat(results, axis=-1)\n",
    "        \n",
    "        for i in range(self.num_layer):\n",
    "            X = self.drop_out(self.denses[i](X))\n",
    "        return self.out(X)\n",
    "        "
   ]
  },
  {
   "cell_type": "code",
   "execution_count": 28,
   "metadata": {
    "ExecuteTime": {
     "end_time": "2022-07-04T12:26:32.441452Z",
     "start_time": "2022-07-04T12:26:32.426454Z"
    },
    "execution": {
     "iopub.execute_input": "2022-06-25T00:30:53.818204Z",
     "iopub.status.busy": "2022-06-25T00:30:53.817257Z",
     "iopub.status.idle": "2022-06-25T00:30:53.829691Z",
     "shell.execute_reply": "2022-06-25T00:30:53.828661Z",
     "shell.execute_reply.started": "2022-06-25T00:30:53.818166Z"
    }
   },
   "outputs": [],
   "source": [
    "def approx_ranks(logits):\n",
    "    r\"\"\"Computes approximate ranks given a list of logits.\n",
    "    Given a list of logits, the rank of an item in the list is one plus the total\n",
    "    number of items with a larger logit. In other words,\n",
    "    rank_i = 1 + \\sum_{j \\neq i} I_{s_j > s_i},\n",
    "    where \"I\" is the indicator function. The indicator function can be\n",
    "    approximated by a generalized sigmoid:\n",
    "    I_{s_j < s_i} \\approx 1/(1 + exp(-(s_j - s_i)/temperature)).\n",
    "    This function approximates the rank of an item using this sigmoid\n",
    "    approximation to the indicator function. This technique is at the core\n",
    "    of \"A general approximation framework for direct optimization of\n",
    "    information retrieval measures\" by Qin et al.\n",
    "    Args:\n",
    "    logits: A `Tensor` with shape [batch_size, list_size]. Each value is the\n",
    "      ranking score of the corresponding item.\n",
    "    Returns:\n",
    "    A `Tensor` of ranks with the same shape as logits.\n",
    "    \"\"\"\n",
    "    list_size = tf.shape(input=logits)[1]\n",
    "    x = tf.tile(tf.expand_dims(logits, 2), [1, 1, list_size])\n",
    "    y = tf.tile(tf.expand_dims(logits, 1), [1, list_size, 1])\n",
    "    pairs = tf.sigmoid(y - x)\n",
    "    return tf.reduce_sum(input_tensor=pairs, axis=-1) + .5\n",
    "    \n",
    "    \n",
    "class RankMSE(tf.keras.layers.Layer):\n",
    "    def __init__(self):\n",
    "        super(RankMSE, self).__init__()\n",
    "    \n",
    "    def call(self, y_true, y_pred):        \n",
    "        weight = 1 / y_true\n",
    "        rmse = tf.reduce_sum(tf.math.sqrt(tf.math.square(y_true - y_pred))*weight, axis=-1) / tf.reduce_sum(weight, axis=1)\n",
    "        \n",
    "        return tf.reduce_mean(rmse)"
   ]
  },
  {
   "cell_type": "code",
   "execution_count": 29,
   "metadata": {
    "ExecuteTime": {
     "end_time": "2022-07-04T12:26:32.456452Z",
     "start_time": "2022-07-04T12:26:32.443455Z"
    },
    "execution": {
     "iopub.execute_input": "2022-06-25T00:30:53.831849Z",
     "iopub.status.busy": "2022-06-25T00:30:53.831209Z",
     "iopub.status.idle": "2022-06-25T00:30:53.862997Z",
     "shell.execute_reply": "2022-06-25T00:30:53.862090Z",
     "shell.execute_reply.started": "2022-06-25T00:30:53.831812Z"
    }
   },
   "outputs": [],
   "source": [
    "class MixerModel(tf.keras.Model):\n",
    "    \n",
    "    def __init__(self, name_model, address_model, ix_emb_layer, cat_emb_layer, num_layer=2, num_dim=128):\n",
    "        super(MixerModel, self).__init__()\n",
    "        self.num_layer = num_layer\n",
    "        self.num_dim = num_dim\n",
    "        self.name_model = name_model\n",
    "        self.address_model = address_model\n",
    "        self.ix_emb_layer = ix_emb_layer\n",
    "        self.cat_emb_layer = cat_emb_layer\n",
    "        \n",
    "        self.tokenize_norm = [tf.keras.layers.LayerNormalization() for i in range(4)]\n",
    "    \n",
    "        self.drop_out = tf.keras.layers.Dropout(0.1)\n",
    "        \n",
    "        self.filter_denses = [tf.keras.layers.DepthwiseConv2D(kernel_size=(1, 4),\n",
    "                                                              strides=1,\n",
    "                                                              padding=\"valid\",\n",
    "                                                              depth_multiplier=4,\n",
    "                                                              activation=\"gelu\") for _ in range(self.num_layer)]\n",
    "        self.out_denses = [tf.keras.layers.Dense(num_dim) for _ in range(self.num_layer)]\n",
    "        \n",
    "        #self.pointwise_filter_denses = [tf.keras.layers.Dense(num_dim, activation=\"gelu\") for _ in range(self.num_layer)]\n",
    "        #self.pointwise_out_denses = [tf.keras.layers.Dense(num_dim) for _ in range(self.num_layer)]\n",
    "        self.norm_layers = [tf.keras.layers.LayerNormalization() for _ in range(self.num_layer)]\n",
    "        \n",
    "    def check_tensor(self, x, ix):\n",
    "        if isinstance(x, tf.RaggedTensor):\n",
    "            x = x.to_tensor()\n",
    "        return x\n",
    "        \n",
    "    def call(self, info, training=False):\n",
    "        ix, name, address, position, ix_values, categories, pids, size = info\n",
    "        X_name = self.tokenize_norm[0](tf.reduce_sum(self.name_model(name), axis=-2))\n",
    "        X_address = self.tokenize_norm[1](tf.reduce_sum(self.address_model(address), axis=-2))\n",
    "        X_ix = self.tokenize_norm[2](self.drop_out(self.ix_emb_layer(ix_values)))\n",
    "        X_categories = self.tokenize_norm[3](tf.reduce_sum(self.drop_out(self.cat_emb_layer(categories)), axis=-2))\n",
    "        \n",
    "        X = tf.stack([X_name, X_address, X_ix, X_categories], axis=-2)\n",
    "        original_shape = tf.shape(X)\n",
    "        X = tf.expand_dims(X, axis=1)\n",
    "        expand_shape = tf.shape(X)\n",
    "        for i in range(self.num_layer):\n",
    "            X_ = self.norm_layers[i](X)\n",
    "            X_ = self.out_denses[i](tf.reshape(self.filter_denses[i](X_), expand_shape))\n",
    "            X = X + X_\n",
    "        X = tf.reshape(X, original_shape)\n",
    "        return tf.reduce_mean(X, axis=-2)\n",
    "\n",
    "def simcse_task(mixer_model, loss_func, neighbor_info):\n",
    "    X_a = tf.nn.l2_normalize(mixer_model(neighbor_info, training=True), axis=-1)\n",
    "    X_b = tf.nn.l2_normalize(mixer_model(neighbor_info, training=True), axis=-1)\n",
    "    \n",
    "    X_p = tf.reshape(neighbor_info[-2], [-1, neighbor_info[-1]])\n",
    "    \n",
    "    N = tf.shape(X_p)[0]\n",
    "    R = tf.shape(X_p)[1]\n",
    "    \n",
    "    shape = tf.shape(X_a)\n",
    "    X_a = tf.reshape(X_a, [-1, neighbor_info[-1], shape[-1]])\n",
    "    X_b = tf.reshape(X_b, [-1, neighbor_info[-1], shape[-1]])\n",
    "    shape = tf.shape(X_a)\n",
    "    \n",
    "    cossim_c = tf.reshape(tf.einsum(\"nad,nbd->nab\", X_a, X_b), [shape[0]*shape[1], shape[1]])\n",
    "    cossim_r = tf.reshape(tf.einsum(\"nad,nbd->nab\", tf.transpose(X_a, [1, 0, 2]), tf.transpose(X_b, [1, 0, 2])), [shape[0]*shape[1], shape[0]])\n",
    " \n",
    "    mask_c = tf.reshape(tf.expand_dims(X_p, axis=1) != tf.expand_dims(X_p, axis=2), [shape[0]*shape[1], shape[1]])\n",
    "    mask_r = tf.reshape(tf.expand_dims(X_p, axis=0) != tf.expand_dims(X_p, axis=1), [shape[0]*shape[1], shape[0]])    \n",
    "\n",
    "    label_c = tf.reshape(tf.repeat(tf.expand_dims(tf.eye(tf.shape(X_a)[1]), axis=0), tf.shape(X_a)[0], axis=0), tf.shape(cossim_c))\n",
    "    label_r = tf.reshape(tf.repeat(tf.expand_dims(tf.eye(tf.shape(X_a)[0]), axis=1), tf.shape(X_a)[1], axis=0), tf.shape(cossim_r))\n",
    "    \n",
    "    mask_c = tf.math.logical_or(label_c == 1., mask_c)\n",
    "    mask_r = tf.math.logical_or(label_r == 1., mask_r)\n",
    "    \n",
    "    cossim_c = tf.where(mask_c, cossim_c, -1.)\n",
    "    cossim_r = tf.where(mask_r, cossim_r, -1.)\n",
    "    \n",
    "    scale_c = tf.sqrt(2.) * tf.math.log(tf.cast(tf.shape(label_c)[1], \"float32\") - 1.)\n",
    "    scale_r = tf.sqrt(2.) * tf.math.log(tf.cast(tf.shape(label_r)[1], \"float32\") - 1.)\n",
    "    loss = loss_func(label_c, cossim_c * scale_c) + loss_func(label_r, cossim_r * scale_r)\n",
    "    return loss\n"
   ]
  },
  {
   "cell_type": "code",
   "execution_count": 30,
   "metadata": {
    "ExecuteTime": {
     "end_time": "2022-07-04T12:26:32.471453Z",
     "start_time": "2022-07-04T12:26:32.457453Z"
    },
    "execution": {
     "iopub.execute_input": "2022-06-25T00:30:53.894667Z",
     "iopub.status.busy": "2022-06-25T00:30:53.893813Z",
     "iopub.status.idle": "2022-06-25T00:30:53.911881Z",
     "shell.execute_reply": "2022-06-25T00:30:53.911038Z",
     "shell.execute_reply.started": "2022-06-25T00:30:53.894627Z"
    }
   },
   "outputs": [],
   "source": [
    "class CategoryEmbeddingLayer(tf.keras.layers.Layer):\n",
    "    \n",
    "    def __init__(self, num_categories, dim_categories, init_embedding=None):\n",
    "        super(CategoryEmbeddingLayer, self).__init__()\n",
    "        self.num_categories = num_categories\n",
    "        self.dim_categories = dim_categories\n",
    "        self.category_dense = tf.Variable(tf.keras.initializers.GlorotUniform()(shape=(num_categories, dim_categories)), trainable=True, name=self.name + \"/category_embedding\")\n",
    "        if not init_embedding is None:\n",
    "            self.category_dense.assign(init_embedding)\n",
    "            \n",
    "    def call(self, C):\n",
    "        X = tf.gather(self.category_dense, C)\n",
    "        return X"
   ]
  },
  {
   "cell_type": "code",
   "execution_count": 31,
   "metadata": {
    "ExecuteTime": {
     "end_time": "2022-07-04T12:26:32.503452Z",
     "start_time": "2022-07-04T12:26:32.472454Z"
    },
    "execution": {
     "iopub.execute_input": "2022-06-25T00:30:53.917011Z",
     "iopub.status.busy": "2022-06-25T00:30:53.915933Z",
     "iopub.status.idle": "2022-06-25T00:30:53.974002Z",
     "shell.execute_reply": "2022-06-25T00:30:53.973023Z",
     "shell.execute_reply.started": "2022-06-25T00:30:53.916953Z"
    }
   },
   "outputs": [],
   "source": [
    "import tensorflow as tf\n",
    "from tensorflow_text import SentencepieceTokenizer\n",
    "\n",
    "class SupervisedContrastiveLoss(tf.keras.layers.Layer):\n",
    "    def __init__(self, from_logits=False):\n",
    "        super(SupervisedContrastiveLoss, self).__init__()\n",
    "        if not from_logits:\n",
    "            NotImplementedError\n",
    "        \n",
    "    @tf.function\n",
    "    def call(self, true, pred, sample_weight=None):\n",
    "        if sample_weight is None:\n",
    "            sample_weight = tf.ones(tf.shape(pred), dtype=tf.float32)\n",
    "        epred = tf.exp(pred) * sample_weight\n",
    "        scale = tf.reduce_sum(epred, axis=1, keepdims=True)\n",
    "        loss = tf.reduce_sum((tf.math.log(scale - epred * true) - true*pred) * true * sample_weight) / tf.reduce_sum(true*sample_weight)\n",
    "        return loss\n",
    "    \n",
    "class SentencePieceEmbeddingLayer(tf.keras.layers.Layer):\n",
    "    \n",
    "    def __init__(self, vocab_size, out_dim, sp_model_path, init_embedding=None):\n",
    "        super(SentencePieceEmbeddingLayer, self).__init__()\n",
    "        self.vocab_size = vocab_size\n",
    "        self.out_dim = out_dim\n",
    "        model = open(sp_model_path, \"rb\").read()\n",
    "        self.tokenizer = SentencepieceTokenizer(model)\n",
    "        self.embedding = tf.keras.layers.Embedding(vocab_size, out_dim)\n",
    "        if not init_embedding is None:\n",
    "            self.embedding(0)\n",
    "            self.embedding.trainable_variables[0].assign(init_embedding)\n",
    "        self.drop_out = tf.keras.layers.Dropout(0.1)\n",
    "    \n",
    "    def call(self, X):\n",
    "        token = self.tokenizer.tokenize(X)\n",
    "        X = self.drop_out(self.embedding(token))\n",
    "        return X\n",
    "    \n",
    "class DpConvWrapper(tf.keras.layers.Layer):\n",
    "    \n",
    "    def __init__(self, sp_layer, num_layer=2):\n",
    "        super(DpConvWrapper, self).__init__()\n",
    "        self.sp_layer = sp_layer\n",
    "        self.num_layer = num_layer\n",
    "        self.out_dim = self.sp_layer.out_dim\n",
    "        self.norms = [tf.keras.layers.LayerNormalization() for i in range(num_layer)]\n",
    "        self.dep_convs = [tf.keras.layers.DepthwiseConv1D(kernel_size=3, strides=1, padding=\"same\", activation=\"gelu\") for _ in range(num_layer)]\n",
    "        self.denses = [tf.keras.layers.Dense(sp_layer.out_dim) for _ in range(num_layer)]\n",
    "        self.drop_out = tf.keras.layers.Dropout(0.1)\n",
    "        \n",
    "        \n",
    "    def call(self, X):\n",
    "        token = name_dpc.sp_layer.tokenizer.tokenize(X) + 1\n",
    "        start = tf.cast(tf.concat([tf.zeros([1], dtype=\"int64\"), tf.cumsum(token.row_lengths())], axis=0), \"int32\")\n",
    "        row_ids = tf.cast(token.value_rowids(), \"int32\")\n",
    "        col_ids = tf.range(tf.shape(token.value_rowids())[0], dtype=\"int32\") - tf.gather(start, token.value_rowids())\n",
    "        X = self.drop_out(name_dpc.sp_layer.embedding(token.to_tensor(default_value=2)))\n",
    "        rank = tf.rank(X)\n",
    "        shape = tf.shape(X)\n",
    "        \n",
    "        for i in range(name_dpc.num_layer):\n",
    "            X_ = name_dpc.norms[i](X)\n",
    "            X_ = name_dpc.dep_convs[i](X_)\n",
    "            X_ = name_dpc.denses[i](X_)\n",
    "            X += X_\n",
    "            \n",
    "        X = tf.RaggedTensor.from_value_rowids(tf.gather_nd(X, tf.stack([row_ids, col_ids], axis=1)),\n",
    "                                              token.value_rowids(),\n",
    "                                              nrows=tf.cast(shape[0], \"int64\"))\n",
    "        return X        \n",
    "\n",
    "    \n",
    "class SkipgramModel(tf.keras.Model):\n",
    "    \n",
    "    def __init__(self, name_spe):\n",
    "        super(SkipgramModel, self).__init__()\n",
    "        self.name_spe = name_spe\n",
    "        \n",
    "    #@tf.function(experimental_relax_shapes=True)\n",
    "    def call(self, name, n_name, n_pid):\n",
    "        X = skipgram_model.name_spe(name)\n",
    "        X_sum_neighbor = tf.reduce_sum(skipgram_model.name_spe(tf.slice(n_name, [0, 1], [-1, -1])), axis=2).to_tensor()\n",
    "        name_skip_loss = skipgram_model.skipgram_task(X, X_sum_neighbor, n_pid)\n",
    "\n",
    "        return name_skip_loss\n",
    "    \n",
    "    #@tf.function(experimental_relax_shapes=True)\n",
    "    def skipgram_task(self, X, X_sum_neighbor, n_pid):\n",
    "\n",
    "        my_pid, other_pid = tf.split(n_pid, [1, tf.shape(n_pid)[1]-1], axis=1)\n",
    "        \n",
    "        X_sum = tf.reduce_sum(X, axis=1)\n",
    "        X_sum_other = tf.gather(X_sum, X.value_rowids()) - X.values\n",
    "\n",
    "        \n",
    "        X_sum_norm = tf.nn.l2_normalize(X_sum, axis=1)\n",
    "        X_sum_other_norm = tf.nn.l2_normalize(X_sum_other, axis=1)\n",
    "        X_sum_neighbor_norm = tf.slice(tf.gather(tf.nn.l2_normalize(X_sum_neighbor, axis=-1), X.value_rowids()), [0, 1, 0], [-1, -1, -1])\n",
    "        X_value_norm = tf.nn.l2_normalize(X.values, axis=1)\n",
    "        \n",
    "\n",
    "        correct_cossim = tf.expand_dims(tf.einsum(\"Vd,Vd->V\", X_value_norm, X_sum_other_norm), axis=1)\n",
    "        wrong_cossim = tf.einsum(\"Vd,Nd->VN\", X_value_norm, X_sum_norm)\n",
    "        neighbor_cossim = tf.einsum(\"Vd,VNd->VN\", X_value_norm, X_sum_neighbor_norm)\n",
    "        cossim = tf.concat([correct_cossim, wrong_cossim, neighbor_cossim], axis=1)\n",
    "\n",
    "        rowwise_mask = tf.expand_dims(tf.gather(X.row_lengths(), X.value_rowids()) > 1, axis=1)\n",
    "        sameid_mask = tf.concat([tf.expand_dims(tf.cast(X.value_rowids(), \"int32\"), axis=1) != tf.expand_dims(tf.range(tf.shape(X.row_lengths())[0] + 1)-1, axis=0),\n",
    "                                 tf.ones(tf.gather(tf.shape(X_sum_neighbor_norm), [0, 1], axis=0), dtype=\"bool\")], axis=1)\n",
    "        same_pid_mask = tf.concat([tf.gather(my_pid, X.value_rowids(), axis=0) != tf.linalg.matrix_transpose(my_pid),\n",
    "                                   tf.gather(my_pid, X.value_rowids()) != tf.gather(other_pid, X.value_rowids())], axis=1)\n",
    "        \n",
    "        mask = tf.math.logical_and(tf.math.logical_and(rowwise_mask, sameid_mask), same_pid_mask)\n",
    "        label = tf.concat([tf.ones(tf.shape(correct_cossim)), tf.zeros(tf.shape(wrong_cossim)), tf.zeros(tf.shape(neighbor_cossim))], axis=1)\n",
    "        \n",
    "        # Fixed AdaCos paramet2r\n",
    "        scale = tf.sqrt(2.) * tf.math.log(tf.cast(tf.shape(label)[1], \"float32\") - 1.)\n",
    "\n",
    "        label = tf.where(mask, label, tf.zeros(tf.shape(mask)))\n",
    "        pred = tf.where(mask, scale * cossim, scale * -1.)\n",
    "        loss = tf.math.reduce_mean(tf.keras.losses.categorical_crossentropy(label, pred, from_logits=True))\n",
    "        return loss   \n",
    "    \n",
    "class ClassifyTrainModel(tf.keras.Model):\n",
    "    \n",
    "    def __init__(self, name_model, address_model, ix_emb_layer, cat_emb_layer):\n",
    "        super(ClassifyTrainModel, self).__init__()\n",
    "        self.name_model = name_model\n",
    "        self.address_model = address_model\n",
    "        self.ix_emb_layer = ix_emb_layer\n",
    "        self.cat_emb_layer = cat_emb_layer\n",
    "        self.dense = tf.keras.layers.Dense(cat_emb_layer.dim_categories, use_bias=True)\n",
    "        self.scale = tf.sqrt(2.) * tf.math.log(tf.cast(cat_emb_layer.num_categories, \"float32\") - 1.)\n",
    "        self.loss_function = SupervisedContrastiveLoss(from_logits=True)\n",
    "        \n",
    "        self.layer_norms = [tf.keras.layers.LayerNormalization() for i in range(3)]\n",
    "        self.drop_out = tf.keras.layers.Dropout(0.1)\n",
    "        self.nan_mask = tf.concat([tf.zeros([1, 1]), tf.ones([1, cat_emb_layer.num_categories-1])], axis=1)\n",
    "        \n",
    "    def transform(self, name, address, ix_values):\n",
    "        X_name = self.layer_norms[0](tf.reduce_sum(self.drop_out(self.name_model(name)), axis=1))\n",
    "        X_address = self.layer_norms[1](tf.reduce_sum(self.drop_out(self.address_model(address)), axis=1))\n",
    "        X_ix = self.layer_norms[2](self.ix_emb_layer(ix_values))\n",
    "        X = self.dense(tf.concat([X_name, X_address, X_ix], axis=-1))\n",
    "        return X\n",
    "        \n",
    "    def call(self, name, address, ix_values, categories):\n",
    "        X = self.transform(name, address, ix_values)\n",
    "        classify_loss = self.classify_task(X, categories)\n",
    "        return classify_loss\n",
    "    \n",
    "    def classify_task(self, X, C):\n",
    "        cossim = tf.einsum(\"ND,CD->NC\", tf.nn.l2_normalize(X, axis=1), tf.nn.l2_normalize(self.cat_emb_layer.category_dense, axis=1))\n",
    "        \n",
    "        true = tf.scatter_nd(tf.stack([C.value_rowids(), C.values], axis=1),\n",
    "                              tf.ones(tf.shape(C.values)),\n",
    "                              [tf.shape(X)[0], self.cat_emb_layer.num_categories])\n",
    "        true = true * self.nan_mask\n",
    "        calc_loc = tf.where(tf.reduce_sum(true, axis=1) > 0.)\n",
    "        pred = self.scale * cossim\n",
    "        loss = self.loss_function(tf.gather_nd(true, calc_loc), tf.gather_nd(pred, calc_loc))\n",
    "        return loss"
   ]
  },
  {
   "cell_type": "code",
   "execution_count": 32,
   "metadata": {
    "ExecuteTime": {
     "end_time": "2022-07-04T12:26:32.519454Z",
     "start_time": "2022-07-04T12:26:32.504454Z"
    },
    "execution": {
     "iopub.execute_input": "2022-06-25T00:30:53.976468Z",
     "iopub.status.busy": "2022-06-25T00:30:53.975613Z",
     "iopub.status.idle": "2022-06-25T00:30:54.023554Z",
     "shell.execute_reply": "2022-06-25T00:30:54.022783Z",
     "shell.execute_reply.started": "2022-06-25T00:30:53.976392Z"
    }
   },
   "outputs": [],
   "source": [
    "def haversine(X, Y):\n",
    "    delta = Y - X\n",
    "    x_lats = tf.gather(X, 0, axis=-1)\n",
    "    y_lats = tf.gather(Y, 0, axis=-1)\n",
    "    dlat = tf.gather(delta, 0, axis=-1)\n",
    "    dlon = tf.gather(delta, 1, axis=-1)\n",
    "\n",
    "    a = tf.sin(dlat/2) * tf.sin(dlat/2) + tf.cos(x_lats) * tf.cos(y_lats) * tf.sin(dlon/2) * tf.sin(dlon/2)\n",
    "    c = 2 * tf.math.atan2(tf.sqrt(a), tf.sqrt(1-a))\n",
    "    return c\n",
    "\n",
    "\n",
    "class TFMiniBatchHKmeans(tf.keras.Model):\n",
    "    def __init__(self, n_cluster=64, learning_rate=0.1):\n",
    "        super(TFMiniBatchHKmeans, self).__init__()\n",
    "        self.n_cluster = n_cluster\n",
    "        self.learning_rate = learning_rate\n",
    "        self.centroids = tf.Variable(tf.zeros((n_cluster, 2), dtype=\"float32\"), trainable=False)\n",
    "    \n",
    "    def init_centroid(self, X):\n",
    "        new_centroids = []\n",
    "        choosed = tf.zeros(len(X), dtype=\"bool\")\n",
    "\n",
    "        ix = tf.cast(tf.random.uniform([1], maxval=len(X))//1, \"int32\")[0]\n",
    "        choosed = tf.where(tf.range(len(X)) == ix, True, choosed)\n",
    "        new_centroids.append(tf.gather(X, ix))\n",
    "        dist = tf.ones([tf.shape(X)[0]]) * tf.float32.max / 10\n",
    "\n",
    "        for i in tqdm(range(self.n_cluster-1)):\n",
    "            centroid = tf.gather(X, ix)\n",
    "    \n",
    "            dist = tf.where(choosed, tf.keras.backend.epsilon() , tf.minimum(dist, tf.math.square(hkmeans.haversine(centroid, X))))\n",
    "            prob = dist / tf.reduce_sum(dist, axis=0, keepdims=True)\n",
    "            logit = tf.math.log(prob) - tf.math.log(1-prob)        \n",
    "            gumbel = logit - tf.math.log(-tf.math.log(tf.random.uniform(tf.shape(logit))))\n",
    "            ix = tf.cast(tf.argmax(gumbel), \"int32\")\n",
    "            choosed = tf.where(tf.range(len(X)) == ix, True, choosed)\n",
    "            new_centroids.append(tf.gather(X, ix))\n",
    "        self.centroids.assign(tf.stack(new_centroids, axis=0))\n",
    "        \n",
    "    def partial_fit(self, X):\n",
    "        score = self.haversine(tf.expand_dims(X, axis=1), tf.expand_dims(self.centroids, axis=0))\n",
    "        maxix = tf.argmin(score, axis=1)\n",
    "        new_centroids = tf.math.unsorted_segment_mean(X, maxix, num_segments=self.n_cluster)\n",
    "        num_member = tf.math.unsorted_segment_sum(tf.ones((len(X), 1)), maxix, num_segments=self.n_cluster)\n",
    "        new_centroids = tf.where(num_member > 0, new_centroids, self.centroids)\n",
    "        new_centroids = new_centroids * self.learning_rate + self.centroids * (1 - self.learning_rate)\n",
    "        dist = tf.reduce_mean(tf.reduce_min(score, axis=1))\n",
    "        self.centroids.assign(new_centroids)\n",
    "        return dist\n",
    "    \n",
    "    def haversine(self, X, Y):\n",
    "        delta = Y - X\n",
    "        x_lats = tf.gather(X, 0, axis=-1)\n",
    "        y_lats = tf.gather(Y, 0, axis=-1)\n",
    "        dlat = tf.gather(delta, 0, axis=-1)\n",
    "        dlon = tf.gather(delta, 1, axis=-1)\n",
    "\n",
    "        a = tf.sin(dlat/2) * tf.sin(dlat/2) + tf.cos(x_lats) * tf.cos(y_lats) * tf.sin(dlon/2) * tf.sin(dlon/2)\n",
    "        c = tf.math.atan2(tf.sqrt(a), tf.sqrt(1-a))\n",
    "        return c\n",
    "    \n",
    "    def transform(self, X, return_score=False):\n",
    "        score = tf.math.log(self.haversine(tf.expand_dims(X, axis=1), tf.expand_dims(self.centroids, axis=0)) + tf.keras.backend.epsilon())\n",
    "        res = tf.argmin(score, axis=-1)\n",
    "        if return_score:\n",
    "            dist = tf.reduce_min(score, axis=-1)\n",
    "            return res, dist\n",
    "        else:\n",
    "            return res\n",
    "\n",
    "class TFMiniBatchSKmeans(tf.keras.Model):\n",
    "    def __init__(self, n_cluster=64, n_dim=100, alpha=3/2, learning_rate=0.1):\n",
    "        super(TFMiniBatchSKmeans, self).__init__()\n",
    "        self.n_dim = n_dim\n",
    "        self.n_cluster = n_cluster\n",
    "        self.alpha = alpha\n",
    "        self.learning_rate = learning_rate\n",
    "\n",
    "        self.centroids = tf.Variable(tf.zeros((n_cluster, n_dim), dtype=\"float32\"), trainable=False)\n",
    "    \n",
    "    def init_centroid(self, X):\n",
    "        new_centroids = []\n",
    "        X = tf.nn.l2_normalize(X, axis=-1)\n",
    "        choosed = tf.zeros(len(X), dtype=\"bool\")\n",
    "\n",
    "        ix = tf.cast(tf.random.uniform([1], maxval=len(X))//1, \"int32\")[0]\n",
    "        choosed = tf.where(tf.range(len(X)) == ix, True, choosed)\n",
    "        new_centroids.append(tf.gather(X, ix))\n",
    "        \n",
    "        dist = tf.ones([tf.shape(X)[0]]) * tf.float32.max / 10\n",
    "\n",
    "        for i in tqdm(range(self.n_cluster-1)):\n",
    "            centroid = tf.gather(X, ix)\n",
    "            cos = tf.einsum(\"d,nd->n\", centroid, X)\n",
    "            dist = tf.where(choosed, tf.keras.backend.epsilon() , tf.maximum(tf.keras.backend.epsilon(), tf.minimum(dist, 1. - cos)))         \n",
    "            prob = dist / tf.reduce_sum(dist, axis=0, keepdims=True)\n",
    "            logit = tf.math.log(prob) - tf.math.log(1-prob)        \n",
    "            gumbel = logit - tf.math.log(-tf.math.log(tf.random.uniform(tf.shape(logit))))\n",
    "            ix = tf.cast(tf.argmax(gumbel), \"int32\")\n",
    "            choosed = tf.where(tf.range(len(X)) == ix, True, choosed)\n",
    "            new_centroids.append(X[ix])\n",
    "        self.centroids.assign(tf.stack(new_centroids, axis=0))\n",
    "        \n",
    "    @tf.function\n",
    "    def partial_fit(self, X):\n",
    "        score = tf.einsum(\"nd,kd->nk\", X, self.centroids)\n",
    "        maxix = tf.argmax(score, axis=1)\n",
    "        new_centroids = tf.math.unsorted_segment_mean(X, maxix, num_segments=self.n_cluster)\n",
    "        num_member = tf.math.unsorted_segment_sum(tf.ones((len(X), 1)), maxix, num_segments=self.n_cluster)\n",
    "        new_centroids = tf.where(num_member > 0, new_centroids, self.centroids)\n",
    "        new_centroids = tf.nn.l2_normalize(new_centroids, axis=1)\n",
    "        new_centroids = new_centroids * self.learning_rate + self.centroids * (1 - self.learning_rate)\n",
    "        new_centroids = tf.nn.l2_normalize(new_centroids, axis=1)\n",
    "        dist = tf.reduce_mean(self.alpha - tf.reduce_max(score, axis=1))\n",
    "        self.centroids.assign(new_centroids)\n",
    "        return dist\n",
    "    \n",
    "    def transform(self, X, return_score=False):\n",
    "        score = tf.einsum(\"...d,kd->...k\", X, self.centroids)\n",
    "        res = tf.argmax(score, axis=-1)\n",
    "        if return_score:\n",
    "            cossim = tf.reduce_max(score, axis=-1)\n",
    "            return res, cossim\n",
    "        else:\n",
    "            return res"
   ]
  },
  {
   "cell_type": "code",
   "execution_count": 33,
   "metadata": {
    "ExecuteTime": {
     "end_time": "2022-07-04T12:26:32.535455Z",
     "start_time": "2022-07-04T12:26:32.520454Z"
    },
    "execution": {
     "iopub.execute_input": "2022-06-25T00:30:54.025840Z",
     "iopub.status.busy": "2022-06-25T00:30:54.025170Z",
     "iopub.status.idle": "2022-06-25T00:30:54.064029Z",
     "shell.execute_reply": "2022-06-25T00:30:54.062758Z",
     "shell.execute_reply.started": "2022-06-25T00:30:54.025791Z"
    }
   },
   "outputs": [],
   "source": [
    "class DataContainer():\n",
    "    def __init__(self, df, ix_values, category_ix, positive_ix, neighbor_ix, neighbor_dist):\n",
    "        self.name = tf.constant(df[\"sp_name\"].values)\n",
    "        self.address = tf.constant(df[\"sp_address\"].values)\n",
    "        self.position = tf.expand_dims(tf.constant(np.deg2rad(df[[\"latitude\", \"longitude\"]].astype(np.float32).values), dtype=\"float32\"), axis=0)\n",
    "        self.pid = tf.constant(df[\"pid\"].astype(np.int32).values, dtype=\"int32\")\n",
    "        self.group = tf.constant(df[\"group\"].astype(np.int32).values, dtype=\"int32\")\n",
    "        self.ix_values = ix_values\n",
    "        self.category_ix = category_ix\n",
    "        self.positive_ix = positive_ix\n",
    "        self.neighbor_ix = neighbor_ix\n",
    "        self.neighbor_dist = neighbor_dist\n",
    "        \n",
    "    def get_position(self, ix):\n",
    "        return tf.gather(tf.gather(self.position, ix, axis=1), 0)\n",
    "\n",
    "    def call(self, ix, size=1):\n",
    "        name = tf.gather(self.name, ix)\n",
    "        address = tf.gather(self.address, ix)\n",
    "        position = self.get_position(ix)\n",
    "        categories = tf.gather(self.category_ix, ix)\n",
    "        ix_values = {k: tf.gather(self.ix_values[k], ix) for k in self.ix_values.keys()}\n",
    "        pids = tf.gather(self.pid, ix)\n",
    "        return ix, name, address, position, ix_values, categories, pids, size\n",
    "    \n",
    "    @tf.function(experimental_relax_shapes=True)\n",
    "    def log_haversine(self, X, Y):\n",
    "        delta = Y - X\n",
    "        x_lats = tf.gather(X, 0, axis=-1)\n",
    "        y_lats = tf.gather(Y, 0, axis=-1)\n",
    "        dlat = tf.gather(delta, 0, axis=-1)\n",
    "        dlon = tf.gather(delta, 1, axis=-1)\n",
    "\n",
    "        a = tf.sin(dlat/2) * tf.sin(dlat/2) + tf.cos(x_lats) * tf.cos(y_lats) * tf.sin(dlon/2) * tf.sin(dlon/2)\n",
    "        c = tf.math.log(2 * tf.math.atan2(tf.sqrt(a), tf.sqrt(1-a)) + tf.keras.backend.epsilon())\n",
    "        return c\n",
    "    \n",
    "    @tf.function(experimental_relax_shapes=True)\n",
    "    def negative_sample_by_score_top_k(self, ix, score, except_loc=None, k=128, distcut=4):\n",
    "        pos_ix = tf.gather(self.positive_ix, tf.gather(self.pid, ix))\n",
    "        score = tf.tensor_scatter_nd_update(score,\n",
    "                                            tf.stack([tf.cast(pos_ix.value_rowids(), \"int32\"), pos_ix.values], axis=1),\n",
    "                                            tf.ones([tf.shape(pos_ix.values)[0]])*tf.float32.min/10.)\n",
    "        if not except_loc is None:\n",
    "            score = tf.tensor_scatter_nd_update(score,\n",
    "                                                except_loc,\n",
    "                                                tf.ones([tf.shape(except_loc)[0]])*tf.float32.min/10.)            \n",
    "        score, neighbor = tf.math.top_k(score, k=k)\n",
    "        _, order = tf.math.top_k(tf.random.uniform([tf.shape(ix)[0], k]), k=k)\n",
    "        score = tf.gather(score, order, batch_dims=1)\n",
    "        neighbor = tf.gather(neighbor, order, batch_dims=1)\n",
    "        \n",
    "        score = tf.reverse_sequence(score, \n",
    "                                    tf.ones([tf.shape(score)[0]], dtype=\"int32\") * tf.shape(score)[1],\n",
    "                                    seq_axis=1)\n",
    "        neighbor = tf.reverse_sequence(neighbor,\n",
    "                                  tf.ones([tf.shape(neighbor)[0]], dtype=\"int32\") * tf.shape(neighbor)[1],\n",
    "                                  seq_axis=1)\n",
    "        return [score, neighbor]\n",
    "    \n",
    "    def get_positive_info(self, ix):\n",
    "        pos_ix = tf.gather(self.positive_ix, tf.gather(self.pid, ix))\n",
    "        Y = self.get_position(pos_ix)\n",
    "        X = self.get_position(tf.gather(ix, pos_ix.value_rowids()))\n",
    "        pos_dist = tf.RaggedTensor.from_value_rowids(self.log_haversine(X, Y.values), Y.value_rowids())\n",
    "        pos_ix = pos_ix.to_tensor(default_value=-1)\n",
    "        pos_ix = tf.where(tf.expand_dims(ix, axis=1) != pos_ix, pos_ix, -1)\n",
    "        pos_dist = pos_dist.to_tensor(default_value=0.)\n",
    "        return pos_dist, pos_ix\n",
    "    \n",
    "    @tf.function(experimental_relax_shapes=True)\n",
    "    def random_walk_sampling(self, query_ix, step, top_k):\n",
    "        query_ix = tf.cast(query_ix, \"int32\")\n",
    "        searched = tf.expand_dims(query_ix, axis=1)\n",
    "        current = tf.identity(query_ix)\n",
    "\n",
    "        for i in range(step):\n",
    "            n_ix = tf.gather(self.neighbor_ix, current)\n",
    "            n_dist = tf.gather(self.neighbor_dist, current)\n",
    "            n_dist = tf.where(tf.reduce_any(tf.expand_dims(n_ix, axis=2) == tf.expand_dims(searched, axis=1), axis=2), tf.keras.backend.epsilon(), n_dist)\n",
    "\n",
    "            prob = n_dist / tf.reduce_sum(n_dist, axis=1, keepdims=True)\n",
    "            logit = tf.math.log(prob) - tf.math.log(1-prob)        \n",
    "            gumbel = logit - tf.math.log(-tf.math.log(tf.random.uniform(tf.shape(logit))))\n",
    "            nexts_ = tf.gather(n_ix, tf.math.top_k(gumbel, k=top_k)[1], batch_dims=1)\n",
    "            searched = tf.concat([searched, nexts_], axis=1)\n",
    "            current = tf.gather(nexts_, 0, axis=1)\n",
    "        return tf.reshape(searched, [-1]), step*top_k + 1"
   ]
  },
  {
   "cell_type": "code",
   "execution_count": 34,
   "metadata": {
    "ExecuteTime": {
     "end_time": "2022-07-04T12:26:32.646452Z",
     "start_time": "2022-07-04T12:26:32.536455Z"
    },
    "execution": {
     "iopub.execute_input": "2022-06-25T00:30:54.109418Z",
     "iopub.status.busy": "2022-06-25T00:30:54.109036Z",
     "iopub.status.idle": "2022-06-25T00:30:54.224744Z",
     "shell.execute_reply": "2022-06-25T00:30:54.223988Z",
     "shell.execute_reply.started": "2022-06-25T00:30:54.109384Z"
    }
   },
   "outputs": [],
   "source": [
    "DIMSIZE = 256\n",
    "WALK_STEP = 128\n",
    "WALK_TOPK = 2\n",
    "num_categories = max(category_ix_dict.values()) + 1\n",
    "\n",
    "name_spe = SentencePieceEmbeddingLayer(32000, DIMSIZE, nadare_feature_dir + \"sp_name.model\", None)\n",
    "address_spe = SentencePieceEmbeddingLayer(32000, DIMSIZE, nadare_feature_dir + \"sp_address.model\", None)\n",
    "\n",
    "ix_emb_layer = IxEmbeddingLayer(ix_params_dict, num_layer=1, out_dim=DIMSIZE)\n",
    "cat_emb_layer = CategoryEmbeddingLayer(num_categories, DIMSIZE)\n",
    "\n",
    "#locrank_model = LocationModel(address_dpc, ix_emb_layer, num_rank=128)\n",
    "classify_model = ClassifyTrainModel(name_spe, address_spe, ix_emb_layer, cat_emb_layer)\n",
    "mixer_model = MixerModel(name_spe, address_spe, ix_emb_layer, cat_emb_layer, num_layer=3, num_dim=DIMSIZE)\n",
    "\n",
    "mixer_loss_func = tf.keras.losses.CategoricalCrossentropy(from_logits=True)\n",
    "\n",
    "\n",
    "name_spe.embedding(0)\n",
    "address_spe.embedding(0)\n",
    "for k, v in ix_emb_layer.embedding_layers.items():\n",
    "    v(0)"
   ]
  },
  {
   "cell_type": "code",
   "execution_count": 35,
   "metadata": {
    "ExecuteTime": {
     "end_time": "2022-07-04T12:26:32.852461Z",
     "start_time": "2022-07-04T12:26:32.647453Z"
    }
   },
   "outputs": [],
   "source": [
    "container_cols = [\"sp_name\", \"sp_address\", \"latitude\", \"longitude\", \"pid\", \"group\"] \n",
    "test_container =  DataContainer(test_df[container_cols],\n",
    "                                   test_ix_values,\n",
    "                                    test_categories_ix,\n",
    "                                    None,\n",
    "                                None,\n",
    "                                None)\n",
    "test_ixs = tf.range(len(test_container.name), dtype=\"int32\")"
   ]
  },
  {
   "cell_type": "code",
   "execution_count": 36,
   "metadata": {
    "ExecuteTime": {
     "end_time": "2022-07-04T12:26:34.133083Z",
     "start_time": "2022-07-04T12:26:32.853391Z"
    }
   },
   "outputs": [],
   "source": [
    "tmp_info = test_container.call([0])\n",
    "ix, name, address, position, ix_values, categories, pid, size = tmp_info\n",
    "classify_model.transform(name, address, ix_values)\n",
    "_ = mixer_model(tmp_info)"
   ]
  },
  {
   "cell_type": "code",
   "execution_count": 37,
   "metadata": {
    "ExecuteTime": {
     "end_time": "2022-07-04T12:26:34.322197Z",
     "start_time": "2022-07-04T12:26:34.133083Z"
    },
    "execution": {
     "iopub.execute_input": "2022-06-25T00:30:54.230572Z",
     "iopub.status.busy": "2022-06-25T00:30:54.228526Z",
     "iopub.status.idle": "2022-06-25T00:30:54.324410Z",
     "shell.execute_reply": "2022-06-25T00:30:54.323473Z",
     "shell.execute_reply.started": "2022-06-25T00:30:54.230529Z"
    }
   },
   "outputs": [
    {
     "data": {
      "text/plain": [
       "<tensorflow.python.training.tracking.util.CheckpointLoadStatus at 0x1a63aa97100>"
      ]
     },
     "execution_count": 37,
     "metadata": {},
     "output_type": "execute_result"
    }
   ],
   "source": [
    "classify_model.load_weights(nadare_feature_dir + \"classify_model\")\n",
    "mixer_model.load_weights(nadare_feature_dir + \"mixer_model\")"
   ]
  },
  {
   "cell_type": "code",
   "execution_count": 38,
   "metadata": {
    "ExecuteTime": {
     "end_time": "2022-07-04T12:28:20.073644Z",
     "start_time": "2022-07-04T12:26:34.323198Z"
    },
    "execution": {
     "iopub.execute_input": "2022-06-25T00:30:54.344724Z",
     "iopub.status.busy": "2022-06-25T00:30:54.343876Z",
     "iopub.status.idle": "2022-06-25T00:30:55.986255Z",
     "shell.execute_reply": "2022-06-25T00:30:55.985313Z",
     "shell.execute_reply.started": "2022-06-25T00:30:54.344687Z"
    }
   },
   "outputs": [
    {
     "data": {
      "application/vnd.jupyter.widget-view+json": {
       "model_id": "8d9a6be2526f465d9e14277389016391",
       "version_major": 2,
       "version_minor": 0
      },
      "text/plain": [
       "  0%|          | 0/8897 [00:00<?, ?it/s]"
      ]
     },
     "metadata": {},
     "output_type": "display_data"
    }
   ],
   "source": [
    "normalized_category_dense = tf.nn.l2_normalize(cat_emb_layer.category_dense, axis=1)\n",
    "pseudo_categories = []\n",
    "category_ix_dict_r = {v: k for k, v in category_ix_dict.items()}\n",
    "eval_ds = tf.data.Dataset.from_tensor_slices(test_ixs)\\\n",
    "                .batch(128)\\\n",
    "                .map(test_container.call)\n",
    "\n",
    "for ix, name, address, position, ix_values, categories, pid, size in tqdm(eval_ds):\n",
    "    X = tf.nn.l2_normalize(classify_model.transform(name, address, ix_values), axis=1)\n",
    "    label = tf.argmax(tf.einsum(\"nd,md->nm\", X, normalized_category_dense), axis=1)\n",
    "    for l in label.numpy():\n",
    "        pseudo_categories.append(\"nan, \" + category_ix_dict_r[l])\n",
    "        \n",
    "def remove_test_only_category(text):\n",
    "    res = []\n",
    "    for x in text.split(\", \"):\n",
    "        if x in category_ix_dict.keys():\n",
    "            res.append(x)\n",
    "    return \", \".join(res)\n",
    "\n",
    "test_df[\"categories\"] = np.vectorize(remove_test_only_category)(test_df[\"categories\"])\n",
    "test_df[\"categories\"] = np.where(test_df[\"categories\"] == \"\", pseudo_categories, test_df[\"categories\"])\n",
    "test_categories_ix = get_category_ix(test_df, category_ix_dict)"
   ]
  },
  {
   "cell_type": "code",
   "execution_count": 39,
   "metadata": {
    "ExecuteTime": {
     "end_time": "2022-07-04T12:28:34.237173Z",
     "start_time": "2022-07-04T12:28:20.074646Z"
    }
   },
   "outputs": [],
   "source": [
    "from sklearn.model_selection import KFold\n",
    "test_df[\"pid\"] = test_df[\"point_of_interest\"].map({v: i for i, v in enumerate(test_df[\"point_of_interest\"].unique())})\n",
    "\n",
    "group = -np.ones(len(test_df), dtype=\"int32\")\n",
    "g = 0\n",
    "for g, (dev_p_ids, val_p_ids) in enumerate(KFold(n_splits=5, shuffle=True, random_state=42).split(test_df[\"pid\"].unique())):\n",
    "    ix = test_df[\"pid\"].isin(val_p_ids)\n",
    "    group[ix] = g\n",
    "test_df[\"group\"] = group\n",
    "\n",
    "test_df[\"pid\"] = test_df[\"point_of_interest\"].map({v: i for i, v in enumerate(test_df[\"point_of_interest\"].unique())})\n",
    "\n",
    "container_cols = [\"sp_name\", \"sp_address\", \"latitude\", \"longitude\", \"pid\", \"group\"] \n",
    "test_container =  DataContainer(test_df[container_cols],\n",
    "                                   test_ix_values,\n",
    "                                    test_categories_ix,\n",
    "                                    tf.cast(tf.ragged.constant(test_df.groupby(\"pid\")[\"ix\"].unique().tolist()), \"int32\"),\n",
    "                                None,\n",
    "                                None)"
   ]
  },
  {
   "cell_type": "code",
   "execution_count": 40,
   "metadata": {
    "ExecuteTime": {
     "end_time": "2022-07-04T12:29:07.881407Z",
     "start_time": "2022-07-04T12:28:34.238174Z"
    },
    "execution": {
     "iopub.execute_input": "2022-06-25T00:39:11.930166Z",
     "iopub.status.busy": "2022-06-25T00:39:11.929687Z",
     "iopub.status.idle": "2022-06-25T00:39:13.359053Z",
     "shell.execute_reply": "2022-06-25T00:39:13.358013Z",
     "shell.execute_reply.started": "2022-06-25T00:39:11.930132Z"
    }
   },
   "outputs": [
    {
     "data": {
      "application/vnd.jupyter.widget-view+json": {
       "model_id": "8d1e5a3f9edb4cf8b5b170e96aaa6885",
       "version_major": 2,
       "version_minor": 0
      },
      "text/plain": [
       "  0%|          | 0/1113 [00:00<?, ?it/s]"
      ]
     },
     "metadata": {},
     "output_type": "display_data"
    }
   ],
   "source": [
    "# name\n",
    "test_ds = tf.data.Dataset.from_tensor_slices(tf.range(len(test_df)))\\\n",
    "                .batch(1024)\\\n",
    "                .map(test_container.call)\n",
    "\n",
    "name_embeddings = []\n",
    "address_embeddings = []\n",
    "ix_values_embeddings = []\n",
    "mix_embeddings = []\n",
    "for query_info in tqdm(test_ds):\n",
    "    ix, name, address, position, ix_values, categories, pid, size = query_info\n",
    "    name_embeddings.append(tf.nn.l2_normalize(tf.reduce_sum(name_spe(name), axis=1), axis=1))\n",
    "    address_embeddings.append(tf.nn.l2_normalize(tf.reduce_sum(address_spe(address), axis=1), axis=1))\n",
    "    ix_values_embeddings.append(tf.nn.l2_normalize(ix_emb_layer(ix_values), axis=1))\n",
    "    mix_embeddings.append(tf.nn.l2_normalize(mixer_model(query_info), axis=1))\n",
    "    \n",
    "\n",
    "name_embeddings = tf.nn.l2_normalize(tf.concat(name_embeddings, axis=0), axis=1)\n",
    "address_embeddings = tf.nn.l2_normalize(tf.concat(address_embeddings, axis=0), axis=1)\n",
    "ix_values_embeddings = tf.nn.l2_normalize(tf.concat(ix_values_embeddings, axis=0), axis=1)\n",
    "mix_embeddings = tf.nn.l2_normalize(tf.concat(mix_embeddings, axis=0), axis=1)\n",
    "\n",
    "category_embeddings = tf.nn.l2_normalize(tf.math.reduce_sum(tf.gather(cat_emb_layer.category_dense, test_categories_ix), axis=1), axis=1)\n"
   ]
  },
  {
   "cell_type": "code",
   "execution_count": 41,
   "metadata": {
    "ExecuteTime": {
     "end_time": "2022-07-04T12:29:07.897127Z",
     "start_time": "2022-07-04T12:29:07.882415Z"
    },
    "execution": {
     "iopub.execute_input": "2022-06-25T00:42:22.391001Z",
     "iopub.status.busy": "2022-06-25T00:42:22.390424Z",
     "iopub.status.idle": "2022-06-25T00:42:22.489390Z",
     "shell.execute_reply": "2022-06-25T00:42:22.488258Z",
     "shell.execute_reply.started": "2022-06-25T00:42:22.390953Z"
    }
   },
   "outputs": [],
   "source": [
    "hkmeans = TFMiniBatchHKmeans(255*8, learning_rate=1.)\n",
    "name_kmeans = TFMiniBatchSKmeans(255*8, n_dim=tf.shape(name_embeddings)[1], learning_rate=1.)\n",
    "address_kmeans = TFMiniBatchSKmeans(255*8, n_dim=tf.shape(address_embeddings)[1], learning_rate=1.)\n",
    "category_kmeans = TFMiniBatchSKmeans(255*8, n_dim=tf.shape(category_embeddings)[1], learning_rate=1.)\n",
    "ix_values_kmeans = TFMiniBatchSKmeans(255*8, n_dim=tf.shape(ix_values_embeddings)[1], learning_rate=1.)\n",
    "mix_kmeans = TFMiniBatchSKmeans(255*8, n_dim=tf.shape(mix_embeddings)[1], learning_rate=1.)\n",
    "brand_kmeans = TFMiniBatchSKmeans(255*8, n_dim=tf.shape(mix_embeddings)[1], learning_rate=1.)\n",
    "brand_pid_kmeans = TFMiniBatchSKmeans(255*8, n_dim=tf.shape(mix_embeddings)[1], learning_rate=1.)\n"
   ]
  },
  {
   "cell_type": "code",
   "execution_count": 42,
   "metadata": {
    "ExecuteTime": {
     "end_time": "2022-07-04T12:29:07.927963Z",
     "start_time": "2022-07-04T12:29:07.898128Z"
    }
   },
   "outputs": [
    {
     "data": {
      "text/plain": [
       "<tensorflow.python.training.tracking.util.CheckpointLoadStatus at 0x1a0003e61f0>"
      ]
     },
     "execution_count": 42,
     "metadata": {},
     "output_type": "execute_result"
    }
   ],
   "source": [
    "hkmeans.load_weights(nadare_feature_dir + \"haversine_kmeans\")\n",
    "name_kmeans.load_weights(nadare_feature_dir + \"name_kmeans\")\n",
    "address_kmeans.load_weights(nadare_feature_dir + \"address_kmeans\")\n",
    "ix_values_kmeans.load_weights(nadare_feature_dir + \"ix_value_kmeans\")\n",
    "mix_kmeans.load_weights(nadare_feature_dir + \"mix_kmeans\")\n",
    "category_kmeans.load_weights(nadare_feature_dir + \"category_kmeans\")\n",
    "brand_kmeans.load_weights(nadare_feature_dir + \"brand_kmeans\")\n",
    "brand_pid_kmeans.load_weights(nadare_feature_dir + \"brand_pid_kmeans\")\n"
   ]
  },
  {
   "cell_type": "code",
   "execution_count": 43,
   "metadata": {
    "ExecuteTime": {
     "end_time": "2022-07-04T12:29:17.431973Z",
     "start_time": "2022-07-04T12:29:07.928965Z"
    },
    "execution": {
     "iopub.execute_input": "2022-06-25T01:05:33.664856Z",
     "iopub.status.busy": "2022-06-25T01:05:33.663938Z",
     "iopub.status.idle": "2022-06-25T01:05:33.876367Z",
     "shell.execute_reply": "2022-06-25T01:05:33.875631Z",
     "shell.execute_reply.started": "2022-06-25T01:05:33.664803Z"
    }
   },
   "outputs": [
    {
     "data": {
      "application/vnd.jupyter.widget-view+json": {
       "model_id": "9aa07831d5064c61b036f2358d2416c7",
       "version_major": 2,
       "version_minor": 0
      },
      "text/plain": [
       "  0%|          | 0/114 [00:00<?, ?it/s]"
      ]
     },
     "metadata": {},
     "output_type": "display_data"
    },
    {
     "data": {
      "text/plain": [
       "545"
      ]
     },
     "execution_count": 43,
     "metadata": {},
     "output_type": "execute_result"
    }
   ],
   "source": [
    "BATCH_SIZE = 1024\n",
    "eval_ds = tf.data.Dataset.from_tensor_slices(test_ixs)\\\n",
    "                .batch(10000)\n",
    "hkmeans_labels = []\n",
    "name_kmeans_labels = []\n",
    "address_kmeans_labels = []\n",
    "ix_values_kmeans_labels = []\n",
    "mix_kmeans_labels = []\n",
    "category_kmeans_labels = []\n",
    "brand_kmeans_labels = []\n",
    "brand_pid_kmeans_labels = []\n",
    "\n",
    "\n",
    "hkmeans_scores = []\n",
    "name_kmeans_scores = []\n",
    "address_kmeans_scores = []\n",
    "ix_values_kmeans_scores = []\n",
    "mix_kmeans_scores = []\n",
    "category_kmeans_scores = []\n",
    "brand_kmeans_scores = []\n",
    "brand_pid_kmeans_scores = []\n",
    "\n",
    "\n",
    "for ix in tqdm(eval_ds):\n",
    "    res = hkmeans.transform(tf.gather(test_container.position[0], ix), return_score=True)\n",
    "    hkmeans_labels.append(res[0])\n",
    "    hkmeans_scores.append(res[1])\n",
    "    \n",
    "    res = name_kmeans.transform(tf.gather(name_embeddings, ix), return_score=True)\n",
    "    name_kmeans_labels.append(res[0])\n",
    "    name_kmeans_scores.append(res[1])\n",
    "\n",
    "    res = address_kmeans.transform(tf.gather(address_embeddings, ix), return_score=True)\n",
    "    address_kmeans_labels.append(res[0])\n",
    "    address_kmeans_scores.append(res[1])\n",
    "\n",
    "    res = ix_values_kmeans.transform(tf.gather(ix_values_embeddings, ix), return_score=True)\n",
    "    ix_values_kmeans_labels.append(res[0])\n",
    "    ix_values_kmeans_scores.append(res[1])\n",
    "\n",
    "    res = mix_kmeans.transform(tf.gather(mix_embeddings, ix), return_score=True)\n",
    "    mix_kmeans_labels.append(res[0])\n",
    "    mix_kmeans_scores.append(res[1])\n",
    "    \n",
    "    res = category_kmeans.transform(tf.gather(category_embeddings, ix), return_score=True)\n",
    "    category_kmeans_labels.append(res[0])\n",
    "    category_kmeans_scores.append(res[1])\n",
    "    \n",
    "    res = brand_kmeans.transform(tf.gather(name_embeddings, ix), return_score=True)\n",
    "    brand_kmeans_labels.append(res[0])\n",
    "    brand_kmeans_scores.append(res[1]) \n",
    "    \n",
    "    res = brand_pid_kmeans.transform(tf.gather(name_embeddings, ix), return_score=True)\n",
    "    brand_pid_kmeans_labels.append(res[0])\n",
    "    brand_pid_kmeans_scores.append(res[1]) \n",
    "\n",
    "    \n",
    "test_df[\"hkmeans_labels\"] = tf.concat(hkmeans_labels, axis=0).numpy().astype(np.int16)\n",
    "test_df[\"name_kmeans_labels\"] = tf.concat(name_kmeans_labels, axis=0).numpy().astype(np.int16)\n",
    "test_df[\"address_kmeans_labels\"] = tf.concat(address_kmeans_labels, axis=0).numpy().astype(np.int16)\n",
    "test_df[\"ix_values_kmeans_labels\"] = tf.concat(ix_values_kmeans_labels, axis=0).numpy().astype(np.int16)\n",
    "test_df[\"mix_kmeans_labels\"] = tf.concat(mix_kmeans_labels, axis=0).numpy().astype(np.int16)\n",
    "test_df[\"category_kmeans_labels\"] = tf.concat(category_kmeans_labels, axis=0).numpy().astype(np.int16)\n",
    "test_df[\"brand_kmeans_labels\"] = tf.concat(brand_kmeans_labels, axis=0).numpy().astype(np.int16)\n",
    "test_df[\"brand_pid_kmeans_labels\"] = tf.concat(brand_pid_kmeans_labels, axis=0).numpy().astype(np.int16)\n",
    "\n",
    "test_df[\"hkmeans_scores\"] = tf.concat(hkmeans_scores, axis=0).numpy().astype(np.float32)\n",
    "test_df[\"name_kmeans_scores\"] = tf.concat(name_kmeans_scores, axis=0).numpy().astype(np.float32)\n",
    "test_df[\"address_kmeans_scores\"] = tf.concat(address_kmeans_scores, axis=0).numpy().astype(np.float32)\n",
    "test_df[\"ix_values_kmeans_scores\"] = tf.concat(ix_values_kmeans_scores, axis=0).numpy().astype(np.float32)\n",
    "test_df[\"mix_kmeans_scores\"] = tf.concat(mix_kmeans_scores, axis=0).numpy().astype(np.float32)\n",
    "test_df[\"category_kmeans_scores\"] = tf.concat(category_kmeans_scores, axis=0).numpy().astype(np.float32)\n",
    "test_df[\"brand_kmeans_scores\"] = tf.concat(brand_kmeans_scores, axis=0).numpy().astype(np.float32)\n",
    "test_df[\"brand_pid_kmeans_scores\"] = tf.concat(brand_pid_kmeans_scores, axis=0).numpy().astype(np.float32)\n",
    "\n",
    "\n",
    "hkmeans_labels = []\n",
    "name_kmeans_labels = []\n",
    "address_kmeans_labels = []\n",
    "ix_values_kmeans_labels = []\n",
    "mix_kmeans_labels = []\n",
    "category_kmeans_labels = []\n",
    "brand_kmeans_labels = []\n",
    "brand_pid_kmeans_labels = []\n",
    "\n",
    "\n",
    "hkmeans_scores = []\n",
    "name_kmeans_scores = []\n",
    "address_kmeans_scores = []\n",
    "ix_values_kmeans_scores = []\n",
    "mix_kmeans_scores = []\n",
    "category_kmeans_scores = []\n",
    "brand_kmeans_scores = []\n",
    "brand_pid_kmeans_scores = []\n",
    "\n",
    "import gc\n",
    "gc.collect()"
   ]
  },
  {
   "cell_type": "code",
   "execution_count": 44,
   "metadata": {
    "ExecuteTime": {
     "end_time": "2022-07-04T12:29:17.823655Z",
     "start_time": "2022-07-04T12:29:17.432973Z"
    }
   },
   "outputs": [
    {
     "data": {
      "text/plain": [
       "0"
      ]
     },
     "execution_count": 44,
     "metadata": {},
     "output_type": "execute_result"
    }
   ],
   "source": [
    "import gc\n",
    "gc.collect()"
   ]
  },
  {
   "cell_type": "code",
   "execution_count": 45,
   "metadata": {
    "ExecuteTime": {
     "end_time": "2022-07-04T12:29:17.855224Z",
     "start_time": "2022-07-04T12:29:17.824657Z"
    },
    "execution": {
     "iopub.execute_input": "2022-06-25T01:05:38.092855Z",
     "iopub.status.busy": "2022-06-25T01:05:38.092261Z",
     "iopub.status.idle": "2022-06-25T01:05:38.162846Z",
     "shell.execute_reply": "2022-06-25T01:05:38.162055Z",
     "shell.execute_reply.started": "2022-06-25T01:05:38.092810Z"
    }
   },
   "outputs": [],
   "source": [
    "# simple version\n",
    "\n",
    "import tensorflow_ranking as tfr\n",
    "\n",
    "class LogisticModel(tf.keras.Model):\n",
    "    def __init__(self, dim):\n",
    "        super(LogisticModel, self).__init__()\n",
    "        self.scale = tf.Variable(tf.zeros([dim], dtype=\"float32\"), trainable=True)\n",
    "        self.loss_func = tfr.keras.losses.ApproxNDCGLoss()\n",
    "        \n",
    "    def call(self, X, Y):\n",
    "        logit = tf.einsum(\"nmd,d->nm\", X, self.scale)# + self.bias\n",
    "        loss = self.loss_func(Y, logit)\n",
    "        return loss    \n",
    "    \n"
   ]
  },
  {
   "cell_type": "code",
   "execution_count": 46,
   "metadata": {
    "ExecuteTime": {
     "end_time": "2022-07-04T12:29:34.528631Z",
     "start_time": "2022-07-04T12:29:17.856226Z"
    }
   },
   "outputs": [],
   "source": [
    "from sklearn.feature_extraction.text import TfidfVectorizer\n",
    "def count_unique_bigram(x):\n",
    "    split = x.split()\n",
    "    vocab = set()\n",
    "    for i in range(max(len(split)-1, 0)):\n",
    "        vocab.add(\"|\".join(split[i:i+2]))\n",
    "    return len(vocab)\n",
    "\n",
    "sp_name_unique = np.vectorize(lambda x: len(set(x.split())))(test_df[\"sp_name\"].str.lower())\n",
    "sp_name_word_vectorizer = TfidfVectorizer(min_df=2, binary=True, use_idf=False, norm=None, dtype=np.float32, ngram_range=(1, 1), token_pattern=r'[a-zA-Z0-9&]+')\n",
    "sp_name_word_bow = sp_name_word_vectorizer.fit_transform(test_df[\"sp_name\"]).tocoo()\n",
    "sp_name_cnt = tf.convert_to_tensor(sp_name_unique.astype(np.float32))\n",
    "sp_name_r_norm = 1 / (tf.math.sqrt(sp_name_cnt) + tf.keras.backend.epsilon())\n",
    "sp_name_word_bow_rag_data = tf.RaggedTensor.from_value_rowids(sp_name_word_bow.data, sp_name_word_bow.row, nrows=sp_name_word_bow.shape[0])\n",
    "sp_name_word_bow_rag_col = tf.RaggedTensor.from_value_rowids(sp_name_word_bow.col, sp_name_word_bow.row, nrows=sp_name_word_bow.shape[0])\n",
    "sp_name_word_bow_coo = tf.SparseTensor(tf.cast(tf.stack([sp_name_word_bow.row, sp_name_word_bow.col], axis=-1), \"int64\"), sp_name_word_bow.data, sp_name_word_bow.shape)\n",
    "del sp_name_word_bow, sp_name_word_vectorizer\n",
    "\n",
    "n_name_split_unique = np.vectorize(lambda x: len(set(x.split())))(test_df[\"name_normalized\"].str.lower())\n",
    "n_name_word_vectorizer = TfidfVectorizer(min_df=2, binary=True, use_idf=False, norm=None, dtype=np.float32, ngram_range=(1, 1), token_pattern=r'[a-zA-Z0-9&\\-]+')\n",
    "n_name_word_bow = n_name_word_vectorizer.fit_transform(test_df[\"name_normalized\"]).tocoo()\n",
    "n_name_word_bow.data = np.where(n_name_split_unique[n_name_word_bow.row] > 0, np.sqrt(1/n_name_split_unique[n_name_word_bow.row]), 0.).astype(np.float32)\n",
    "n_name_word_bow_rag_data = tf.RaggedTensor.from_value_rowids(n_name_word_bow.data, n_name_word_bow.row, nrows=n_name_word_bow.shape[0])\n",
    "n_name_word_bow_rag_col = tf.RaggedTensor.from_value_rowids(n_name_word_bow.col, n_name_word_bow.row, nrows=n_name_word_bow.shape[0])\n",
    "n_name_word_bow_coo = tf.SparseTensor(tf.cast(tf.stack([n_name_word_bow.row, n_name_word_bow.col], axis=-1), \"int64\"), n_name_word_bow.data, n_name_word_bow.shape)\n",
    "del n_name_word_bow, n_name_word_vectorizer\n",
    "\n",
    "name_bichar_vectorizer = TfidfVectorizer(min_df=1, binary=True, use_idf=False, norm=None, dtype=np.float32, ngram_range=(2, 2), lowercase=False, analyzer=\"char_wb\")\n",
    "name_bichar_bow = name_bichar_vectorizer.fit_transform(test_df[\"name\"].fillna(\"\"))\n",
    "name_bichar_cnt = tf.convert_to_tensor(np.array(name_bichar_bow.sum(axis=1)).T[0]) + tf.keras.backend.epsilon()\n",
    "name_bichar_r_norm = tf.convert_to_tensor(1 / (np.sqrt(np.array(name_bichar_bow.power(2).sum(axis=1))).T[0] + tf.keras.backend.epsilon()))\n",
    "name_bichar_bow = name_bichar_bow.tocoo()\n",
    "name_bichar_bow_rag_data = tf.RaggedTensor.from_value_rowids(name_bichar_bow.data, name_bichar_bow.row, nrows=name_bichar_bow.shape[0])\n",
    "name_bichar_bow_rag_col = tf.RaggedTensor.from_value_rowids(name_bichar_bow.col, name_bichar_bow.row, nrows=name_bichar_bow.shape[0])\n",
    "name_bichar_bow_coo = tf.SparseTensor(tf.cast(tf.stack([name_bichar_bow.row, name_bichar_bow.col], axis=-1), \"int64\"), name_bichar_bow.data, name_bichar_bow.shape)\n",
    "del name_bichar_bow, name_bichar_vectorizer"
   ]
  },
  {
   "cell_type": "code",
   "execution_count": 47,
   "metadata": {
    "ExecuteTime": {
     "end_time": "2022-07-04T12:29:34.544631Z",
     "start_time": "2022-07-04T12:29:34.529633Z"
    }
   },
   "outputs": [],
   "source": [
    "class ApproxMSE(tf.keras.layers.Layer):\n",
    "    def __init__(self,from_logits=True, alpha=1.):\n",
    "        super(ApproxMSE, self).__init__()\n",
    "        self.alpha = alpha\n",
    "        if not from_logits:\n",
    "            NotImplementedError\n",
    "    \n",
    "    def call(self, y_true, y_pred, sample_weight=None):     \n",
    "        K = tf.cast(tf.shape(y_true)[1], \"float32\")    \n",
    "        rank = approx_ranks(y_pred * self.alpha)\n",
    "        label_sum = tf.reduce_sum(y_true, axis=1, keepdims=True)\n",
    "        rmse = tf.reduce_sum(tf.maximum(0., rank - label_sum) * y_true, axis=1, keepdims=True) / (label_sum + tf.keras.backend.epsilon())\n",
    "        \n",
    "        return tf.reduce_sum(rmse) / (tf.reduce_sum(tf.cast(label_sum > 0, \"float32\")) + tf.keras.backend.epsilon())\n",
    "\n",
    "class LogisticModel(tf.keras.Model):\n",
    "    def __init__(self, dim):\n",
    "        super(LogisticModel, self).__init__()\n",
    "        self.scale = tf.Variable(tf.zeros([dim], dtype=\"float32\"), trainable=True)\n",
    "        self.loss_func = ApproxMSE()#tfr.keras.losses.ApproxNDCGLoss()\n",
    "        \n",
    "    def call(self, X, Y):\n",
    "        logit = tf.einsum(\"nmd,d->nm\", X, self.scale)# + self.bias\n",
    "        loss = self.loss_func(Y, logit)\n",
    "        return loss    "
   ]
  },
  {
   "cell_type": "code",
   "execution_count": 52,
   "metadata": {
    "ExecuteTime": {
     "end_time": "2022-07-04T12:38:53.514090Z",
     "start_time": "2022-07-04T12:38:53.501458Z"
    }
   },
   "outputs": [
    {
     "data": {
      "text/plain": [
       "<tensorflow.python.training.tracking.util.CheckpointLoadStatus at 0x1a02b17eac0>"
      ]
     },
     "execution_count": 52,
     "metadata": {},
     "output_type": "execute_result"
    }
   ],
   "source": [
    "simple_logistic_model = LogisticModel(5)\n",
    "simple_logistic_model.load_weights(nadare_feature_dir + \"logistic_model_full\")"
   ]
  },
  {
   "cell_type": "code",
   "execution_count": 64,
   "metadata": {
    "ExecuteTime": {
     "end_time": "2022-07-04T15:05:14.125837Z",
     "start_time": "2022-07-04T13:32:32.867418Z"
    }
   },
   "outputs": [
    {
     "data": {
      "application/vnd.jupyter.widget-view+json": {
       "model_id": "734d5f87e00249779ccabb1c50cb0b97",
       "version_major": 2,
       "version_minor": 0
      },
      "text/plain": [
       "  0%|          | 0/35588 [00:00<?, ?it/s]"
      ]
     },
     "metadata": {},
     "output_type": "display_data"
    }
   ],
   "source": [
    "NUM_CANDIDATE = 32\n",
    "NEAREST = 8\n",
    "NAME_DUPLICATE = 3000\n",
    "NAME_THRETHOLD = 0.99\n",
    "NAME_SIM = 2\n",
    "NUM_FEAT = 8\n",
    "\n",
    "\n",
    "test_ds = tf.data.Dataset.from_tensor_slices(test_ixs)\\\n",
    "                .batch(32)\n",
    "\n",
    "def update_selected(selected, score, sub_score, threthold, size):\n",
    "    score, topk = tf.math.top_k(score, NAME_DUPLICATE)\n",
    "    update_pos = tf.where(score < threthold)\n",
    "    score = tf.tensor_scatter_nd_update(tf.gather(sub_score, topk, batch_dims=1), \n",
    "                                        update_pos,\n",
    "                                        tf.zeros(tf.shape(update_pos)[0]))\n",
    "    update_pos = tf.where(tf.reduce_any(tf.expand_dims(topk, axis=2) == tf.expand_dims(selected, axis=1), axis=2))\n",
    "    score = tf.tensor_scatter_nd_update(score, \n",
    "                                        update_pos,\n",
    "                                        tf.ones(tf.shape(update_pos)[0]) * tf.float32.min / 10)\n",
    "    topk = tf.gather(topk, tf.argsort(-score, axis=1), batch_dims=1)\n",
    "    selected = tf.concat([selected, tf.slice(topk, [0, 0], [-1, size])], axis=1) \n",
    "    return selected\n",
    "\n",
    "@tf.function(experimental_relax_shapes=True)\n",
    "def make_pred_feat(ix):\n",
    "    selected = tf.expand_dims(ix, axis=1)\n",
    "    \n",
    "    query_position = tf.expand_dims(test_container.get_position(ix), axis=1)\n",
    "    dist = test_container.log_haversine(query_position, test_container.position)    \n",
    "    \n",
    "    indices = tf.stack([tf.repeat(tf.range(len(ix)), tf.gather(sp_name_word_bow_rag_data, ix).row_lengths()),\n",
    "                        tf.gather(sp_name_word_bow_rag_col, ix).values], axis=-1)\n",
    "    values = tf.gather(sp_name_word_bow_rag_data, ix).values\n",
    "    shape = [len(ix), sp_name_word_bow_coo.shape[1]]\n",
    "    query = tf.scatter_nd(indices, values, shape)\n",
    "    sp_name_word_sparse_match = tf.sparse.sparse_dense_matmul(query, sp_name_word_bow_coo, adjoint_b=True)\n",
    "    sp_name_word_sparse_sim = sp_name_word_sparse_match * tf.expand_dims(tf.gather(sp_name_r_norm, ix), axis=1) * tf.expand_dims(sp_name_r_norm, axis=0)\n",
    "    sp_name_word_sparse_p = sp_name_word_sparse_match / tf.expand_dims(tf.gather(sp_name_cnt, ix), axis=1)\n",
    "    sp_name_word_sparse_r = sp_name_word_sparse_match / tf.expand_dims(sp_name_cnt, axis=0)\n",
    "    \n",
    "    indices = tf.stack([tf.repeat(tf.range(len(ix)), tf.gather(n_name_word_bow_rag_data, ix).row_lengths()),\n",
    "                        tf.gather(n_name_word_bow_rag_col, ix).values], axis=-1)\n",
    "    values = tf.gather(n_name_word_bow_rag_data, ix).values\n",
    "    shape = [len(ix), n_name_word_bow_coo.shape[1]]\n",
    "    query = tf.scatter_nd(indices, values, shape)\n",
    "    n_name_word_sparse_sim = tf.sparse.sparse_dense_matmul(query, n_name_word_bow_coo, adjoint_b=True)\n",
    "    \n",
    "    indices = tf.stack([tf.repeat(tf.range(len(ix)), tf.gather(name_bichar_bow_rag_data, ix).row_lengths()),\n",
    "                        tf.gather(name_bichar_bow_rag_col, ix).values], axis=-1)\n",
    "    values = tf.gather(name_bichar_bow_rag_data, ix).values\n",
    "    shape = [len(ix), name_bichar_bow_coo.shape[1]]\n",
    "    query = tf.scatter_nd(indices, values, shape)\n",
    "    name_bichar_sparse_match = tf.sparse.sparse_dense_matmul(query, name_bichar_bow_coo, adjoint_b=True)\n",
    "    name_bichar_sparse_sim = name_bichar_sparse_match * tf.expand_dims(tf.gather(name_bichar_r_norm, ix), axis=1) * tf.expand_dims(name_bichar_r_norm, axis=0)\n",
    "    name_bichar_sparse_p = name_bichar_sparse_match / tf.expand_dims(tf.gather(name_bichar_cnt, ix), axis=1)\n",
    "    name_bichar_sparse_r = name_bichar_sparse_match / tf.expand_dims(name_bichar_cnt, axis=0)\n",
    "       \n",
    "    name_cossim = tf.einsum(\"nd,md->nm\", tf.gather(name_embeddings, ix), name_embeddings)\n",
    "    address_cossim = tf.einsum(\"nd,md->nm\", tf.gather(address_embeddings, ix), address_embeddings)\n",
    "    category_cossim = tf.einsum(\"nd,md->nm\", tf.gather(category_embeddings, ix), category_embeddings)   \n",
    "    mix_cossim = tf.einsum(\"nd,md->nm\", tf.gather(mix_embeddings, ix), mix_embeddings)   \n",
    "    \n",
    "    logistic_score = tf.einsum(\"d,nmd->nm\",\n",
    "                               simple_logistic_model.scale,\n",
    "                               tf.stack([dist,\n",
    "                                         name_cossim, \n",
    "                                         address_cossim, \n",
    "                                         category_cossim,\n",
    "                                         mix_cossim], axis=-1))\n",
    "    \n",
    "    # logistic_score: 4\n",
    "    selected = update_selected(selected, -dist, -dist, tf.float32.min / 10, 4)\n",
    "    \n",
    "    # logistic_score: 12\n",
    "    selected = update_selected(selected, logistic_score, logistic_score, tf.float32.min / 10, 12)\n",
    "    \n",
    "    # sp_name cossim, precision, 2recall: 4\n",
    "    for score, size in zip([sp_name_word_sparse_sim, sp_name_word_sparse_p, sp_name_word_sparse_r], [1, 1, 2]):\n",
    "        selected = update_selected(selected, score, logistic_score,  NAME_THRETHOLD, size)\n",
    "    \n",
    "    #name char cossim, precision, 2recall: 8\n",
    "    for score, size in zip([name_bichar_sparse_sim, name_bichar_sparse_p, name_bichar_sparse_r], [2, 2, 4]):\n",
    "        selected = update_selected(selected, score, logistic_score, NAME_THRETHOLD, size)\n",
    "        \n",
    "    #name cossim: 4\n",
    "    selected = update_selected(selected, name_cossim, logistic_score, NAME_THRETHOLD * .95 , 4)\n",
    "\n",
    "   \n",
    "    # remove myself\n",
    "    candidate_ixs  = tf.cast(tf.slice(selected, [0, 1], [-1, -1]), \"int32\")\n",
    "    candidate_dist = tf.gather(dist, candidate_ixs, batch_dims=1)\n",
    "    \n",
    "    candidate_sp_name_word_sparse_sim = tf.gather(sp_name_word_sparse_sim, candidate_ixs, batch_dims=1)\n",
    "    candidate_n_name_word_sparse_sim = tf.gather(n_name_word_sparse_sim, candidate_ixs, batch_dims=1)\n",
    "    candidate_name_bichar_sparse_sim = tf.gather(name_bichar_sparse_sim, candidate_ixs, batch_dims=1)\n",
    " \n",
    "    candidate_name_cossim = tf.gather(name_cossim, candidate_ixs, batch_dims=1)\n",
    "    candidate_address_cossim = tf.gather(address_cossim, candidate_ixs, batch_dims=1)\n",
    "    candidate_category_cossim = tf.gather(category_cossim, candidate_ixs, batch_dims=1)\n",
    "    candidate_mix_cossim = tf.gather(mix_cossim, candidate_ixs, batch_dims=1)\n",
    "    \n",
    "    \n",
    "    cross_feat = tf.stack([candidate_dist,\n",
    "                           candidate_sp_name_word_sparse_sim,\n",
    "                           candidate_n_name_word_sparse_sim,\n",
    "                           candidate_name_bichar_sparse_sim,\n",
    "                           candidate_name_cossim,\n",
    "                           candidate_address_cossim,\n",
    "                           candidate_category_cossim,\n",
    "                           candidate_mix_cossim], axis=-1)\n",
    "    \n",
    "    candidate_ixs = tf.reshape(candidate_ixs, [-1])\n",
    "    cross_feat = tf.reshape(cross_feat, [-1, NUM_FEAT])\n",
    "    \n",
    "    return candidate_ixs, cross_feat\n",
    "\n",
    "\n",
    "query_ixs = []\n",
    "candidate_ixs = []\n",
    "cross_feats = []\n",
    "detected_count = 0\n",
    "with tqdm(total=len(test_ds)) as pbar:\n",
    "    for query_ix in test_ds:\n",
    "        query_ix = tf.reshape(query_ix, [-1])\n",
    "        candidate_ix, cross_feat = make_pred_feat(query_ix)\n",
    "        query_ix = tf.repeat(query_ix, NUM_CANDIDATE, axis=0)\n",
    "        detected_count += tf.reduce_sum(tf.cast(tf.gather(test_container.pid, query_ix) == tf.gather(test_container.pid, candidate_ix), \"int32\")).numpy()\n",
    "\n",
    "        pbar.set_postfix_str(str(detected_count))\n",
    "        query_ixs.append(query_ix)\n",
    "        candidate_ixs.append(candidate_ix)\n",
    "        cross_feats.append(cross_feat)\n",
    "        pbar.update(1)\n",
    "    "
   ]
  },
  {
   "cell_type": "code",
   "execution_count": 65,
   "metadata": {
    "ExecuteTime": {
     "end_time": "2022-07-04T15:07:42.745661Z",
     "start_time": "2022-07-04T15:07:42.483661Z"
    }
   },
   "outputs": [],
   "source": [
    "query_ixs = tf.repeat(tf.concat(test_ixs, axis=0), NUM_CANDIDATE, axis=0)\n",
    "candidate_ixs = tf.concat(candidate_ixs, axis=0)\n",
    "cross_feats = tf.concat(cross_feats, axis=0)\n",
    "#query_ixs = tf.convert_to_tensor(candidate_data_df[\"query_ix\"])\n",
    "#candidate_ixs = tf.convert_to_tensor(candidate_data_df[\"candidate_ix\"])"
   ]
  },
  {
   "cell_type": "code",
   "execution_count": 66,
   "metadata": {
    "ExecuteTime": {
     "end_time": "2022-07-04T15:07:46.193214Z",
     "start_time": "2022-07-04T15:07:46.048214Z"
    }
   },
   "outputs": [
    {
     "data": {
      "text/plain": [
       "1236022"
      ]
     },
     "execution_count": 66,
     "metadata": {},
     "output_type": "execute_result"
    }
   ],
   "source": [
    "(tf.gather(test_container.pid, query_ixs) == tf.gather(test_container.pid, candidate_ixs)).numpy().sum()"
   ]
  },
  {
   "cell_type": "code",
   "execution_count": 118,
   "metadata": {
    "ExecuteTime": {
     "end_time": "2022-07-03T14:39:23.105347Z",
     "start_time": "2022-07-03T14:39:22.785350Z"
    }
   },
   "outputs": [
    {
     "data": {
      "text/plain": [
       "1253908"
      ]
     },
     "execution_count": 118,
     "metadata": {},
     "output_type": "execute_result"
    }
   ],
   "source": [
    "(tf.gather(test_container.pid, query_ixs) == tf.gather(test_container.pid, candidate_ixs)).numpy().sum()"
   ]
  },
  {
   "cell_type": "code",
   "execution_count": 56,
   "metadata": {
    "ExecuteTime": {
     "end_time": "2022-07-04T09:22:23.366889Z",
     "start_time": "2022-07-04T09:22:23.239888Z"
    },
    "execution": {
     "iopub.execute_input": "2022-06-21T01:57:03.779277Z",
     "iopub.status.busy": "2022-06-21T01:57:03.778137Z",
     "iopub.status.idle": "2022-06-21T01:57:03.785257Z",
     "shell.execute_reply": "2022-06-21T01:57:03.784245Z",
     "shell.execute_reply.started": "2022-06-21T01:57:03.779191Z"
    }
   },
   "outputs": [
    {
     "data": {
      "text/plain": [
       "1220198"
      ]
     },
     "execution_count": 56,
     "metadata": {},
     "output_type": "execute_result"
    }
   ],
   "source": [
    "(tf.gather(test_container.pid, query_ixs) == tf.gather(test_container.pid, candidate_ixs)).numpy().sum()"
   ]
  },
  {
   "cell_type": "code",
   "execution_count": 67,
   "metadata": {
    "ExecuteTime": {
     "end_time": "2022-07-04T15:07:58.641803Z",
     "start_time": "2022-07-04T15:07:58.623804Z"
    }
   },
   "outputs": [],
   "source": [
    "import tensorflow_text as tf_text\n",
    "wsp_tokenizer = tf_text.WhitespaceTokenizer()\n",
    "uch_tokenizer = tf_text.UnicodeCharTokenizer()\n",
    "rouge_l = tf_text.metrics.rouge_l"
   ]
  },
  {
   "cell_type": "code",
   "execution_count": 68,
   "metadata": {
    "ExecuteTime": {
     "end_time": "2022-07-04T15:08:11.216634Z",
     "start_time": "2022-07-04T15:07:59.239471Z"
    }
   },
   "outputs": [],
   "source": [
    "import phonenumbers\n",
    "from urllib.parse import urlparse\n",
    "\n",
    "def get_phene_info(phone, country):\n",
    "    if phone == \"\":\n",
    "        return {\"phone_country_code\": 0, \"national_number\": 0}\n",
    "    if phonenumbers.country_code_for_region(country) == 0:\n",
    "        country = None\n",
    "    try:\n",
    "        res = phonenumbers.parse(phone, country)\n",
    "    except:\n",
    "        return {\"phone_country_code\": 0, \"national_number\": 0}\n",
    "    return {\"phone_country_code\": res.country_code, \"national_number\": res.national_number}\n",
    "res = []\n",
    "for phone, country in test_df[[\"phone\", \"country\"]].values:\n",
    "    res.append(get_phene_info(phone, country))\n",
    "phone_df = pd.DataFrame(res)\n",
    "\n",
    "test_df[\"url\"] = test_df[\"url\"].fillna(\"\")\n",
    "test_df[\"phone_national_number\"] = phone_df[\"national_number\"].astype(str)\n",
    "test_df[\"url_netloc\"] = test_df[\"url\"].fillna(\"\").apply(lambda x: urlparse(x)[1])\n",
    "test_df[\"url_path\"] = test_df[\"url\"].fillna(\"\").apply(lambda x: urlparse(x)[2])\n"
   ]
  },
  {
   "cell_type": "code",
   "execution_count": 69,
   "metadata": {
    "ExecuteTime": {
     "end_time": "2022-07-04T15:08:15.046636Z",
     "start_time": "2022-07-04T15:08:11.217636Z"
    }
   },
   "outputs": [],
   "source": [
    "def change_number(text):\n",
    "    res = []\n",
    "    for word in text.split():\n",
    "        if word.isnumeric():\n",
    "            res.append(word)\n",
    "        else:\n",
    "            for r in re.findall(r\"\\d+\", str(word)):\n",
    "                res.append(r)\n",
    "    return \" \".join(res)\n",
    "\n",
    "test_df[\"name_numbers\"] = np.vectorize(change_number)(test_df[\"name_normalized\"].fillna(\"\").astype(str))\n",
    "test_df[\"address_numbers\"] = np.vectorize(change_number)(test_df[\"address_normalized\"].fillna(\"\").astype(str))"
   ]
  },
  {
   "cell_type": "code",
   "execution_count": 70,
   "metadata": {
    "ExecuteTime": {
     "end_time": "2022-07-04T15:08:19.632634Z",
     "start_time": "2022-07-04T15:08:15.047637Z"
    }
   },
   "outputs": [
    {
     "data": {
      "application/vnd.jupyter.widget-view+json": {
       "model_id": "0a49318d958f438fa94b970c00e68afb",
       "version_major": 2,
       "version_minor": 0
      },
      "text/plain": [
       "  0%|          | 0/1138812 [00:00<?, ?it/s]"
      ]
     },
     "metadata": {},
     "output_type": "display_data"
    },
    {
     "data": {
      "text/plain": [
       "32"
      ]
     },
     "execution_count": 70,
     "metadata": {},
     "output_type": "execute_result"
    }
   ],
   "source": [
    "from tqdm.notebook import tqdm\n",
    "category_col_names = [\"category_frequent_min\", \"category_frequent_min_tsp\", \"category_frequent_max\", \"category_frequent_max_tsp\", \"category_count\", \"category_tsp_delta\", \"category_tsp_mean\"]\n",
    "\n",
    "\n",
    "category_features = []\n",
    "category_ix_dict = {k: v for k, v in category_index_df[[\"category\", \"category_ix\"]].values}\n",
    "category_tsp_ix_dict = {k: v for k, v in category_index_df[[\"category\", \"category_tsp_ix\"]].values}\n",
    "\n",
    "# caution: if category is frequent in train, cix is near to 0\n",
    "for categories in tqdm(test_df[\"categories\"]):\n",
    "    frequent_min = - 10 ** 9\n",
    "    frequent_min_tsp = -1\n",
    "    frequent_max = + (10**9)\n",
    "    frequent_max_tsp = -1\n",
    "    category_count = 0\n",
    "    for category in categories.split(\", \"):\n",
    "        cix = category_ix_dict.get(category, 0)\n",
    "        if cix == 0:\n",
    "            category_count -= 1\n",
    "            continue\n",
    "        ctix = category_tsp_ix_dict.get(category, 0)\n",
    "        if cix > frequent_min:\n",
    "            frequent_min = cix\n",
    "            frequent_min_tsp = ctix\n",
    "        if cix < frequent_max:\n",
    "            frequent_max = cix\n",
    "            frequent_max_tsp = ctix\n",
    "        category_count += 1\n",
    "    \n",
    "    category_delta = 0\n",
    "    category_mean = frequent_min_tsp\n",
    "    \n",
    "    if frequent_max_tsp > frequent_min_tsp:\n",
    "        category_delta = min(frequent_max_tsp - frequent_min_tsp, frequent_min_tsp + len(category_ix_dict) - frequent_max_tsp)\n",
    "        category_mean = (frequent_min_tsp + category_delta/2)%len(category_ix_dict)\n",
    "            \n",
    "    elif frequent_max_tsp < frequent_min_tsp:\n",
    "        category_delta = min(frequent_min_tsp - frequent_max_tsp, frequent_max_tsp + len(category_ix_dict) - frequent_min_tsp)\n",
    "        category_mean = (frequent_max_tsp + category_delta/2)%len(category_ix_dict)\n",
    "        \n",
    "    category_features.append([frequent_min, frequent_min_tsp, frequent_max, frequent_max_tsp, category_count, category_delta, category_mean])\n",
    "\n",
    "test_df[category_col_names] = category_features\n",
    "test_df[category_col_names[:-1]] = test_df[category_col_names[:-1]].astype(np.int16)\n",
    "test_df[category_col_names[-1:]] = test_df[category_col_names[-1:]].astype(np.float16)\n",
    "\n",
    "del category_features\n",
    "gc.collect()"
   ]
  },
  {
   "cell_type": "code",
   "execution_count": null,
   "metadata": {
    "ExecuteTime": {
     "end_time": "2022-07-03T11:31:58.183545Z",
     "start_time": "2022-07-03T11:31:57.381545Z"
    }
   },
   "outputs": [],
   "source": []
  },
  {
   "cell_type": "code",
   "execution_count": 71,
   "metadata": {
    "ExecuteTime": {
     "end_time": "2022-07-04T15:08:19.648637Z",
     "start_time": "2022-07-04T15:08:19.633635Z"
    }
   },
   "outputs": [],
   "source": [
    "from polyleven import levenshtein\n",
    "from cdifflib import CSequenceMatcher\n",
    "from jarowinkler import jarowinkler_similarity, jaro_similarity"
   ]
  },
  {
   "cell_type": "code",
   "execution_count": 72,
   "metadata": {
    "ExecuteTime": {
     "end_time": "2022-07-04T15:08:19.934635Z",
     "start_time": "2022-07-04T15:08:19.649637Z"
    }
   },
   "outputs": [],
   "source": [
    "from joblib import Parallel, delayed\n",
    "import Levenshtein\n",
    "from difflib import SequenceMatcher\n",
    "from polyleven import levenshtein\n",
    "from cdifflib import CSequenceMatcher\n",
    "from jarowinkler import jarowinkler_similarity, jaro_similarity\n",
    "\n",
    "test_df[\"name\"] = test_df[\"name\"].fillna(\"\")\n",
    "def make_data(query_ix, candidate_ix):\n",
    "    query_info = {}\n",
    "    candidate_info = {}\n",
    "    query_info[\"ix\"] = query_ix\n",
    "    candidate_info[\"ix\"] = candidate_ix\n",
    "    \n",
    "    for col in [\"name\", \"sp_name\", \"name_normalized\", \"sp_address_raw\", \"address_normalized\", \"phone_national_number\", \"url\", \"phone_national_number\",\n",
    "                \"url_netloc\", \"name_numbers\", \"address_numbers\"]:\n",
    "        query_info[col] = test_df.at[query_ix, col]\n",
    "        candidate_info[col] = test_df.at[candidate_ix, col]\n",
    "    query_info[\"name_numbers_split_size\"] = len(query_info[\"name_numbers\"].split())\n",
    "    candidate_info[\"name_numbers_split_size\"] = len(candidate_info[\"name_numbers\"].split())\n",
    "    query_info[\"address_numbers_split_size\"] = len(query_info[\"address_numbers\"].split())\n",
    "    candidate_info[\"address_numbers_split_size\"] = len(candidate_info[\"address_numbers\"].split())    \n",
    "        \n",
    "    return query_info, candidate_info\n",
    "\n",
    "def add_features(query_info, candidate_info):\n",
    "    res = []\n",
    "    res.append(query_info[\"ix\"])\n",
    "    res.append(candidate_info[\"ix\"])\n",
    "    \n",
    "    for col in [\"name\", \"sp_name\", \"name_normalized\", \"sp_address_raw\", \"address_normalized\"]:\n",
    "        s = query_info[col]\n",
    "        match_s = candidate_info[col]\n",
    "        if len(s) and len(match_s):\n",
    "            res.append(abs(len(match_s) - len(s)))\n",
    "            res.append(abs(len(match_s.split()) - len(s.split())))\n",
    "            res.append(CSequenceMatcher(None, s, match_s).ratio())\n",
    "            res.append(levenshtein(s, match_s))\n",
    "            res.append(res[-1] / (max(len(s), len(match_s)) + 1e-9))\n",
    "            res.append(Levenshtein.jaro_winkler(s, match_s))\n",
    "#             res.append(jarowinkler_similarity(s, match_s))\n",
    "#             res.append(jaro_similarity(s, match_s))\n",
    "        else:\n",
    "            res.append(abs(len(match_s) - len(s)))\n",
    "            res.append(abs(len(match_s.split()) - len(s.split())))\n",
    "            res.append(np.nan)\n",
    "            res.append(np.nan)\n",
    "            res.append(res[-1] / (max(len(s), len(match_s)) + 1e-9))\n",
    "            res.append(np.nan)\n",
    "    \n",
    "    for col in [\"phone_national_number\", \"url\", \"url_netloc\"]:\n",
    "        r = 0\n",
    "        if min(len(query_info[col]), len(candidate_info[col])) > 0:\n",
    "            r = -1 + 2 * (query_info[col] == candidate_info[col])\n",
    "        res.append(r)\n",
    "    for col in [\"name_numbers\", \"address_numbers\"]:\n",
    "        res.append(max(query_info[col + \"_split_size\"], candidate_info[col + \"_split_size\"]))\n",
    "        res.append(min(query_info[col + \"_split_size\"], candidate_info[col + \"_split_size\"]))\n",
    "        s = query_info[col]\n",
    "        match_s = candidate_info[col]\n",
    "        if s != '' and match_s != '':\n",
    "            res.append(SequenceMatcher(None, query_info[col], candidate_info[col]).ratio())\n",
    "        else:\n",
    "            res.append(np.nan)\n",
    "    \n",
    "    return res"
   ]
  },
  {
   "cell_type": "code",
   "execution_count": 73,
   "metadata": {
    "ExecuteTime": {
     "end_time": "2022-07-04T15:08:19.949635Z",
     "start_time": "2022-07-04T15:08:19.935636Z"
    }
   },
   "outputs": [
    {
     "name": "stdout",
     "output_type": "stream",
     "text": [
      "3644199\n"
     ]
    }
   ],
   "source": [
    "split_size = 10\n",
    "batch_size = -(-len(query_ixs)//split_size)\n",
    "print(batch_size)"
   ]
  },
  {
   "cell_type": "code",
   "execution_count": 74,
   "metadata": {
    "ExecuteTime": {
     "end_time": "2022-07-04T15:48:50.052577Z",
     "start_time": "2022-07-04T15:08:19.950636Z"
    },
    "scrolled": true
   },
   "outputs": [
    {
     "name": "stdout",
     "output_type": "stream",
     "text": [
      "36441984\n"
     ]
    },
    {
     "data": {
      "application/vnd.jupyter.widget-view+json": {
       "model_id": "9ba3aa7217034d73808c02dadecd7e80",
       "version_major": 2,
       "version_minor": 0
      },
      "text/plain": [
       "  0%|          | 0/10 [00:00<?, ?it/s]"
      ]
     },
     "metadata": {},
     "output_type": "display_data"
    },
    {
     "name": "stderr",
     "output_type": "stream",
     "text": [
      "[Parallel(n_jobs=-1)]: Using backend LokyBackend with 24 concurrent workers.\n",
      "[Parallel(n_jobs=-1)]: Done   2 tasks      | elapsed:    0.3s\n",
      "[Parallel(n_jobs=-1)]: Done 184 tasks      | elapsed:    0.5s\n",
      "[Parallel(n_jobs=-1)]: Done 5784 tasks      | elapsed:    1.4s\n",
      "[Parallel(n_jobs=-1)]: Done 50200 tasks      | elapsed:    4.1s\n",
      "[Parallel(n_jobs=-1)]: Done 107800 tasks      | elapsed:    7.5s\n",
      "[Parallel(n_jobs=-1)]: Done 178200 tasks      | elapsed:   11.9s\n",
      "[Parallel(n_jobs=-1)]: Done 261400 tasks      | elapsed:   16.8s\n",
      "[Parallel(n_jobs=-1)]: Done 357400 tasks      | elapsed:   22.9s\n",
      "[Parallel(n_jobs=-1)]: Done 466200 tasks      | elapsed:   29.1s\n",
      "[Parallel(n_jobs=-1)]: Done 587800 tasks      | elapsed:   36.8s\n",
      "[Parallel(n_jobs=-1)]: Done 722200 tasks      | elapsed:   45.2s\n",
      "[Parallel(n_jobs=-1)]: Done 869400 tasks      | elapsed:   53.6s\n",
      "[Parallel(n_jobs=-1)]: Done 1029400 tasks      | elapsed:  1.1min\n",
      "[Parallel(n_jobs=-1)]: Done 1202200 tasks      | elapsed:  1.2min\n",
      "[Parallel(n_jobs=-1)]: Done 1387800 tasks      | elapsed:  1.4min\n",
      "[Parallel(n_jobs=-1)]: Done 1586200 tasks      | elapsed:  1.6min\n",
      "[Parallel(n_jobs=-1)]: Done 1797400 tasks      | elapsed:  1.8min\n",
      "[Parallel(n_jobs=-1)]: Done 2021400 tasks      | elapsed:  2.1min\n",
      "[Parallel(n_jobs=-1)]: Done 2258200 tasks      | elapsed:  2.3min\n",
      "[Parallel(n_jobs=-1)]: Done 2507800 tasks      | elapsed:  2.6min\n",
      "[Parallel(n_jobs=-1)]: Done 2770200 tasks      | elapsed:  2.8min\n",
      "[Parallel(n_jobs=-1)]: Done 3045400 tasks      | elapsed:  3.1min\n",
      "[Parallel(n_jobs=-1)]: Done 3333400 tasks      | elapsed:  3.4min\n",
      "[Parallel(n_jobs=-1)]: Done 3634200 tasks      | elapsed:  3.7min\n",
      "[Parallel(n_jobs=-1)]: Done 3644199 out of 3644199 | elapsed:  3.7min finished\n",
      "[Parallel(n_jobs=-1)]: Using backend LokyBackend with 24 concurrent workers.\n",
      "[Parallel(n_jobs=-1)]: Done   2 tasks      | elapsed:    0.0s\n",
      "[Parallel(n_jobs=-1)]: Done 400 tasks      | elapsed:    0.2s\n",
      "[Parallel(n_jobs=-1)]: Done 14544 tasks      | elapsed:    1.5s\n",
      "[Parallel(n_jobs=-1)]: Done 59344 tasks      | elapsed:    4.1s\n",
      "[Parallel(n_jobs=-1)]: Done 116944 tasks      | elapsed:    7.5s\n",
      "[Parallel(n_jobs=-1)]: Done 187344 tasks      | elapsed:   12.0s\n",
      "[Parallel(n_jobs=-1)]: Done 270544 tasks      | elapsed:   17.0s\n",
      "[Parallel(n_jobs=-1)]: Done 366544 tasks      | elapsed:   23.0s\n",
      "[Parallel(n_jobs=-1)]: Done 475344 tasks      | elapsed:   29.4s\n",
      "[Parallel(n_jobs=-1)]: Done 596944 tasks      | elapsed:   37.1s\n",
      "[Parallel(n_jobs=-1)]: Done 731344 tasks      | elapsed:   45.6s\n",
      "[Parallel(n_jobs=-1)]: Done 878544 tasks      | elapsed:   54.1s\n",
      "[Parallel(n_jobs=-1)]: Done 1038544 tasks      | elapsed:  1.1min\n",
      "[Parallel(n_jobs=-1)]: Done 1211344 tasks      | elapsed:  1.3min\n",
      "[Parallel(n_jobs=-1)]: Done 1396944 tasks      | elapsed:  1.4min\n",
      "[Parallel(n_jobs=-1)]: Done 1595344 tasks      | elapsed:  1.6min\n",
      "[Parallel(n_jobs=-1)]: Done 1806544 tasks      | elapsed:  1.9min\n",
      "[Parallel(n_jobs=-1)]: Done 2030544 tasks      | elapsed:  2.1min\n",
      "[Parallel(n_jobs=-1)]: Done 2267344 tasks      | elapsed:  2.3min\n",
      "[Parallel(n_jobs=-1)]: Done 2516944 tasks      | elapsed:  2.6min\n",
      "[Parallel(n_jobs=-1)]: Done 2779344 tasks      | elapsed:  2.8min\n",
      "[Parallel(n_jobs=-1)]: Done 3054544 tasks      | elapsed:  3.1min\n",
      "[Parallel(n_jobs=-1)]: Done 3342544 tasks      | elapsed:  3.4min\n",
      "[Parallel(n_jobs=-1)]: Done 3643219 tasks      | elapsed:  3.7min\n",
      "[Parallel(n_jobs=-1)]: Done 3644199 out of 3644199 | elapsed:  3.7min finished\n",
      "[Parallel(n_jobs=-1)]: Using backend LokyBackend with 24 concurrent workers.\n",
      "[Parallel(n_jobs=-1)]: Done   2 tasks      | elapsed:    0.0s\n",
      "[Parallel(n_jobs=-1)]: Done 400 tasks      | elapsed:    0.2s\n",
      "[Parallel(n_jobs=-1)]: Done 14544 tasks      | elapsed:    1.5s\n",
      "[Parallel(n_jobs=-1)]: Done 59344 tasks      | elapsed:    4.1s\n",
      "[Parallel(n_jobs=-1)]: Done 116944 tasks      | elapsed:    7.5s\n",
      "[Parallel(n_jobs=-1)]: Done 187344 tasks      | elapsed:   12.0s\n",
      "[Parallel(n_jobs=-1)]: Done 270544 tasks      | elapsed:   16.9s\n",
      "[Parallel(n_jobs=-1)]: Done 366544 tasks      | elapsed:   23.0s\n",
      "[Parallel(n_jobs=-1)]: Done 475344 tasks      | elapsed:   29.3s\n",
      "[Parallel(n_jobs=-1)]: Done 596944 tasks      | elapsed:   37.0s\n",
      "[Parallel(n_jobs=-1)]: Done 731344 tasks      | elapsed:   45.5s\n",
      "[Parallel(n_jobs=-1)]: Done 878544 tasks      | elapsed:   53.9s\n",
      "[Parallel(n_jobs=-1)]: Done 1038544 tasks      | elapsed:  1.1min\n",
      "[Parallel(n_jobs=-1)]: Done 1211344 tasks      | elapsed:  1.2min\n",
      "[Parallel(n_jobs=-1)]: Done 1396944 tasks      | elapsed:  1.4min\n",
      "[Parallel(n_jobs=-1)]: Done 1595344 tasks      | elapsed:  1.6min\n",
      "[Parallel(n_jobs=-1)]: Done 1806544 tasks      | elapsed:  1.9min\n",
      "[Parallel(n_jobs=-1)]: Done 2030544 tasks      | elapsed:  2.1min\n",
      "[Parallel(n_jobs=-1)]: Done 2267344 tasks      | elapsed:  2.3min\n",
      "[Parallel(n_jobs=-1)]: Done 2516944 tasks      | elapsed:  2.6min\n",
      "[Parallel(n_jobs=-1)]: Done 2779344 tasks      | elapsed:  2.8min\n",
      "[Parallel(n_jobs=-1)]: Done 3054544 tasks      | elapsed:  3.1min\n",
      "[Parallel(n_jobs=-1)]: Done 3342544 tasks      | elapsed:  3.4min\n",
      "[Parallel(n_jobs=-1)]: Done 3643219 tasks      | elapsed:  3.7min\n",
      "[Parallel(n_jobs=-1)]: Done 3644199 out of 3644199 | elapsed:  3.7min finished\n",
      "[Parallel(n_jobs=-1)]: Using backend LokyBackend with 24 concurrent workers.\n",
      "[Parallel(n_jobs=-1)]: Done   2 tasks      | elapsed:    0.0s\n",
      "[Parallel(n_jobs=-1)]: Done 400 tasks      | elapsed:    0.2s\n",
      "[Parallel(n_jobs=-1)]: Done 14544 tasks      | elapsed:    1.5s\n",
      "[Parallel(n_jobs=-1)]: Done 59344 tasks      | elapsed:    4.1s\n",
      "[Parallel(n_jobs=-1)]: Done 116944 tasks      | elapsed:    7.5s\n",
      "[Parallel(n_jobs=-1)]: Done 187344 tasks      | elapsed:   11.9s\n",
      "[Parallel(n_jobs=-1)]: Done 270544 tasks      | elapsed:   16.9s\n",
      "[Parallel(n_jobs=-1)]: Done 366544 tasks      | elapsed:   23.0s\n",
      "[Parallel(n_jobs=-1)]: Done 475344 tasks      | elapsed:   29.2s\n",
      "[Parallel(n_jobs=-1)]: Done 596944 tasks      | elapsed:   36.9s\n",
      "[Parallel(n_jobs=-1)]: Done 731344 tasks      | elapsed:   45.4s\n",
      "[Parallel(n_jobs=-1)]: Done 878544 tasks      | elapsed:   53.9s\n",
      "[Parallel(n_jobs=-1)]: Done 1038544 tasks      | elapsed:  1.1min\n",
      "[Parallel(n_jobs=-1)]: Done 1211344 tasks      | elapsed:  1.2min\n",
      "[Parallel(n_jobs=-1)]: Done 1396944 tasks      | elapsed:  1.4min\n",
      "[Parallel(n_jobs=-1)]: Done 1595344 tasks      | elapsed:  1.6min\n",
      "[Parallel(n_jobs=-1)]: Done 1806544 tasks      | elapsed:  1.9min\n",
      "[Parallel(n_jobs=-1)]: Done 2030544 tasks      | elapsed:  2.1min\n",
      "[Parallel(n_jobs=-1)]: Done 2267344 tasks      | elapsed:  2.3min\n",
      "[Parallel(n_jobs=-1)]: Done 2516944 tasks      | elapsed:  2.6min\n",
      "[Parallel(n_jobs=-1)]: Done 2779344 tasks      | elapsed:  2.9min\n",
      "[Parallel(n_jobs=-1)]: Done 3054544 tasks      | elapsed:  3.2min\n",
      "[Parallel(n_jobs=-1)]: Done 3342544 tasks      | elapsed:  3.5min\n",
      "[Parallel(n_jobs=-1)]: Done 3643219 tasks      | elapsed:  3.8min\n",
      "[Parallel(n_jobs=-1)]: Done 3644199 out of 3644199 | elapsed:  3.8min finished\n",
      "[Parallel(n_jobs=-1)]: Using backend LokyBackend with 24 concurrent workers.\n",
      "[Parallel(n_jobs=-1)]: Done   2 tasks      | elapsed:    0.0s\n",
      "[Parallel(n_jobs=-1)]: Done 400 tasks      | elapsed:    0.2s\n",
      "[Parallel(n_jobs=-1)]: Done 14544 tasks      | elapsed:    1.5s\n",
      "[Parallel(n_jobs=-1)]: Done 59344 tasks      | elapsed:    4.1s\n",
      "[Parallel(n_jobs=-1)]: Done 116944 tasks      | elapsed:    7.5s\n",
      "[Parallel(n_jobs=-1)]: Done 187344 tasks      | elapsed:   11.9s\n",
      "[Parallel(n_jobs=-1)]: Done 270544 tasks      | elapsed:   16.9s\n",
      "[Parallel(n_jobs=-1)]: Done 366544 tasks      | elapsed:   23.0s\n",
      "[Parallel(n_jobs=-1)]: Done 475344 tasks      | elapsed:   29.3s\n",
      "[Parallel(n_jobs=-1)]: Done 596944 tasks      | elapsed:   37.0s\n",
      "[Parallel(n_jobs=-1)]: Done 731344 tasks      | elapsed:   45.5s\n",
      "[Parallel(n_jobs=-1)]: Done 878544 tasks      | elapsed:   54.0s\n",
      "[Parallel(n_jobs=-1)]: Done 1038544 tasks      | elapsed:  1.1min\n",
      "[Parallel(n_jobs=-1)]: Done 1211344 tasks      | elapsed:  1.3min\n",
      "[Parallel(n_jobs=-1)]: Done 1396944 tasks      | elapsed:  1.4min\n",
      "[Parallel(n_jobs=-1)]: Done 1595344 tasks      | elapsed:  1.6min\n",
      "[Parallel(n_jobs=-1)]: Done 1806544 tasks      | elapsed:  1.9min\n",
      "[Parallel(n_jobs=-1)]: Done 2030544 tasks      | elapsed:  2.1min\n",
      "[Parallel(n_jobs=-1)]: Done 2267344 tasks      | elapsed:  2.3min\n",
      "[Parallel(n_jobs=-1)]: Done 2516944 tasks      | elapsed:  2.6min\n"
     ]
    },
    {
     "name": "stderr",
     "output_type": "stream",
     "text": [
      "[Parallel(n_jobs=-1)]: Done 2779344 tasks      | elapsed:  2.9min\n",
      "[Parallel(n_jobs=-1)]: Done 3054544 tasks      | elapsed:  3.1min\n",
      "[Parallel(n_jobs=-1)]: Done 3342544 tasks      | elapsed:  3.4min\n",
      "[Parallel(n_jobs=-1)]: Done 3643094 tasks      | elapsed:  3.7min\n",
      "[Parallel(n_jobs=-1)]: Done 3644199 out of 3644199 | elapsed:  3.7min finished\n",
      "[Parallel(n_jobs=-1)]: Using backend LokyBackend with 24 concurrent workers.\n",
      "[Parallel(n_jobs=-1)]: Done   2 tasks      | elapsed:    0.0s\n",
      "[Parallel(n_jobs=-1)]: Done 400 tasks      | elapsed:    0.2s\n",
      "[Parallel(n_jobs=-1)]: Done 14544 tasks      | elapsed:    1.5s\n",
      "[Parallel(n_jobs=-1)]: Done 59344 tasks      | elapsed:    4.1s\n",
      "[Parallel(n_jobs=-1)]: Done 116944 tasks      | elapsed:    7.5s\n",
      "[Parallel(n_jobs=-1)]: Done 187344 tasks      | elapsed:   12.0s\n",
      "[Parallel(n_jobs=-1)]: Done 270544 tasks      | elapsed:   17.0s\n",
      "[Parallel(n_jobs=-1)]: Done 366544 tasks      | elapsed:   23.1s\n",
      "[Parallel(n_jobs=-1)]: Done 475344 tasks      | elapsed:   29.4s\n",
      "[Parallel(n_jobs=-1)]: Done 596944 tasks      | elapsed:   37.1s\n",
      "[Parallel(n_jobs=-1)]: Done 731344 tasks      | elapsed:   45.7s\n",
      "[Parallel(n_jobs=-1)]: Done 878544 tasks      | elapsed:   54.1s\n",
      "[Parallel(n_jobs=-1)]: Done 1038544 tasks      | elapsed:  1.1min\n",
      "[Parallel(n_jobs=-1)]: Done 1211344 tasks      | elapsed:  1.3min\n",
      "[Parallel(n_jobs=-1)]: Done 1396944 tasks      | elapsed:  1.4min\n",
      "[Parallel(n_jobs=-1)]: Done 1595344 tasks      | elapsed:  1.6min\n",
      "[Parallel(n_jobs=-1)]: Done 1806544 tasks      | elapsed:  1.9min\n",
      "[Parallel(n_jobs=-1)]: Done 2030544 tasks      | elapsed:  2.1min\n",
      "[Parallel(n_jobs=-1)]: Done 2267344 tasks      | elapsed:  2.3min\n",
      "[Parallel(n_jobs=-1)]: Done 2516944 tasks      | elapsed:  2.6min\n",
      "[Parallel(n_jobs=-1)]: Done 2779344 tasks      | elapsed:  2.9min\n",
      "[Parallel(n_jobs=-1)]: Done 3054544 tasks      | elapsed:  3.2min\n",
      "[Parallel(n_jobs=-1)]: Done 3342544 tasks      | elapsed:  3.5min\n",
      "[Parallel(n_jobs=-1)]: Done 3643094 tasks      | elapsed:  3.8min\n",
      "[Parallel(n_jobs=-1)]: Done 3644199 out of 3644199 | elapsed:  3.8min finished\n",
      "[Parallel(n_jobs=-1)]: Using backend LokyBackend with 24 concurrent workers.\n",
      "[Parallel(n_jobs=-1)]: Done   2 tasks      | elapsed:    0.0s\n",
      "[Parallel(n_jobs=-1)]: Done 400 tasks      | elapsed:    0.2s\n",
      "[Parallel(n_jobs=-1)]: Done 14544 tasks      | elapsed:    1.5s\n",
      "[Parallel(n_jobs=-1)]: Done 59344 tasks      | elapsed:    4.3s\n",
      "[Parallel(n_jobs=-1)]: Done 116944 tasks      | elapsed:    7.7s\n",
      "[Parallel(n_jobs=-1)]: Done 187344 tasks      | elapsed:   12.3s\n",
      "[Parallel(n_jobs=-1)]: Done 270544 tasks      | elapsed:   17.5s\n",
      "[Parallel(n_jobs=-1)]: Done 366544 tasks      | elapsed:   23.7s\n",
      "[Parallel(n_jobs=-1)]: Done 475344 tasks      | elapsed:   30.1s\n",
      "[Parallel(n_jobs=-1)]: Done 596944 tasks      | elapsed:   38.0s\n",
      "[Parallel(n_jobs=-1)]: Done 731344 tasks      | elapsed:   46.7s\n",
      "[Parallel(n_jobs=-1)]: Done 878544 tasks      | elapsed:   55.5s\n",
      "[Parallel(n_jobs=-1)]: Done 1038544 tasks      | elapsed:  1.1min\n",
      "[Parallel(n_jobs=-1)]: Done 1211344 tasks      | elapsed:  1.3min\n",
      "[Parallel(n_jobs=-1)]: Done 1396944 tasks      | elapsed:  1.5min\n",
      "[Parallel(n_jobs=-1)]: Done 1595344 tasks      | elapsed:  1.7min\n",
      "[Parallel(n_jobs=-1)]: Done 1806544 tasks      | elapsed:  1.9min\n",
      "[Parallel(n_jobs=-1)]: Done 2030544 tasks      | elapsed:  2.2min\n",
      "[Parallel(n_jobs=-1)]: Done 2267344 tasks      | elapsed:  2.4min\n",
      "[Parallel(n_jobs=-1)]: Done 2516944 tasks      | elapsed:  2.7min\n",
      "[Parallel(n_jobs=-1)]: Done 2779344 tasks      | elapsed:  2.9min\n",
      "[Parallel(n_jobs=-1)]: Done 3054544 tasks      | elapsed:  3.2min\n",
      "[Parallel(n_jobs=-1)]: Done 3342544 tasks      | elapsed:  3.5min\n",
      "[Parallel(n_jobs=-1)]: Done 3643094 tasks      | elapsed:  3.8min\n",
      "[Parallel(n_jobs=-1)]: Done 3644199 out of 3644199 | elapsed:  3.8min finished\n",
      "[Parallel(n_jobs=-1)]: Using backend LokyBackend with 24 concurrent workers.\n",
      "[Parallel(n_jobs=-1)]: Done   2 tasks      | elapsed:    0.0s\n",
      "[Parallel(n_jobs=-1)]: Done 400 tasks      | elapsed:    0.2s\n",
      "[Parallel(n_jobs=-1)]: Done 14544 tasks      | elapsed:    1.5s\n",
      "[Parallel(n_jobs=-1)]: Done 59344 tasks      | elapsed:    4.1s\n",
      "[Parallel(n_jobs=-1)]: Done 116944 tasks      | elapsed:    7.5s\n",
      "[Parallel(n_jobs=-1)]: Done 187344 tasks      | elapsed:   12.0s\n",
      "[Parallel(n_jobs=-1)]: Done 270544 tasks      | elapsed:   17.0s\n",
      "[Parallel(n_jobs=-1)]: Done 366544 tasks      | elapsed:   23.3s\n",
      "[Parallel(n_jobs=-1)]: Done 475344 tasks      | elapsed:   29.7s\n",
      "[Parallel(n_jobs=-1)]: Done 596944 tasks      | elapsed:   37.5s\n",
      "[Parallel(n_jobs=-1)]: Done 731344 tasks      | elapsed:   46.2s\n",
      "[Parallel(n_jobs=-1)]: Done 878544 tasks      | elapsed:   54.9s\n",
      "[Parallel(n_jobs=-1)]: Done 1038544 tasks      | elapsed:  1.1min\n",
      "[Parallel(n_jobs=-1)]: Done 1211344 tasks      | elapsed:  1.3min\n",
      "[Parallel(n_jobs=-1)]: Done 1396944 tasks      | elapsed:  1.5min\n",
      "[Parallel(n_jobs=-1)]: Done 1595344 tasks      | elapsed:  1.7min\n",
      "[Parallel(n_jobs=-1)]: Done 1806544 tasks      | elapsed:  1.9min\n",
      "[Parallel(n_jobs=-1)]: Done 2030544 tasks      | elapsed:  2.1min\n",
      "[Parallel(n_jobs=-1)]: Done 2267344 tasks      | elapsed:  2.4min\n",
      "[Parallel(n_jobs=-1)]: Done 2516944 tasks      | elapsed:  2.6min\n",
      "[Parallel(n_jobs=-1)]: Done 2779344 tasks      | elapsed:  2.9min\n",
      "[Parallel(n_jobs=-1)]: Done 3054544 tasks      | elapsed:  3.2min\n",
      "[Parallel(n_jobs=-1)]: Done 3342544 tasks      | elapsed:  3.5min\n",
      "[Parallel(n_jobs=-1)]: Done 3643219 tasks      | elapsed:  3.8min\n",
      "[Parallel(n_jobs=-1)]: Done 3644199 out of 3644199 | elapsed:  3.8min finished\n",
      "[Parallel(n_jobs=-1)]: Using backend LokyBackend with 24 concurrent workers.\n",
      "[Parallel(n_jobs=-1)]: Done   2 tasks      | elapsed:    0.0s\n",
      "[Parallel(n_jobs=-1)]: Done 400 tasks      | elapsed:    0.2s\n",
      "[Parallel(n_jobs=-1)]: Done 14544 tasks      | elapsed:    1.5s\n",
      "[Parallel(n_jobs=-1)]: Done 59344 tasks      | elapsed:    4.3s\n",
      "[Parallel(n_jobs=-1)]: Done 116944 tasks      | elapsed:    7.7s\n",
      "[Parallel(n_jobs=-1)]: Done 187344 tasks      | elapsed:   12.3s\n",
      "[Parallel(n_jobs=-1)]: Done 270544 tasks      | elapsed:   17.4s\n",
      "[Parallel(n_jobs=-1)]: Done 366544 tasks      | elapsed:   23.9s\n",
      "[Parallel(n_jobs=-1)]: Done 475344 tasks      | elapsed:   30.5s\n",
      "[Parallel(n_jobs=-1)]: Done 596944 tasks      | elapsed:   38.6s\n",
      "[Parallel(n_jobs=-1)]: Done 731344 tasks      | elapsed:   47.4s\n",
      "[Parallel(n_jobs=-1)]: Done 878544 tasks      | elapsed:   56.1s\n",
      "[Parallel(n_jobs=-1)]: Done 1038544 tasks      | elapsed:  1.1min\n",
      "[Parallel(n_jobs=-1)]: Done 1211344 tasks      | elapsed:  1.3min\n",
      "[Parallel(n_jobs=-1)]: Done 1396944 tasks      | elapsed:  1.5min\n",
      "[Parallel(n_jobs=-1)]: Done 1595344 tasks      | elapsed:  1.7min\n",
      "[Parallel(n_jobs=-1)]: Done 1806544 tasks      | elapsed:  1.9min\n",
      "[Parallel(n_jobs=-1)]: Done 2030544 tasks      | elapsed:  2.2min\n",
      "[Parallel(n_jobs=-1)]: Done 2267344 tasks      | elapsed:  2.4min\n",
      "[Parallel(n_jobs=-1)]: Done 2516944 tasks      | elapsed:  2.7min\n",
      "[Parallel(n_jobs=-1)]: Done 2779344 tasks      | elapsed:  2.9min\n",
      "[Parallel(n_jobs=-1)]: Done 3054544 tasks      | elapsed:  3.2min\n",
      "[Parallel(n_jobs=-1)]: Done 3342544 tasks      | elapsed:  3.5min\n",
      "[Parallel(n_jobs=-1)]: Done 3643219 tasks      | elapsed:  3.8min\n",
      "[Parallel(n_jobs=-1)]: Done 3644199 out of 3644199 | elapsed:  3.8min finished\n",
      "[Parallel(n_jobs=-1)]: Using backend LokyBackend with 24 concurrent workers.\n",
      "[Parallel(n_jobs=-1)]: Done   2 tasks      | elapsed:    0.0s\n",
      "[Parallel(n_jobs=-1)]: Done 400 tasks      | elapsed:    0.2s\n",
      "[Parallel(n_jobs=-1)]: Done 14544 tasks      | elapsed:    1.5s\n",
      "[Parallel(n_jobs=-1)]: Done 59344 tasks      | elapsed:    4.2s\n",
      "[Parallel(n_jobs=-1)]: Done 116944 tasks      | elapsed:    7.7s\n",
      "[Parallel(n_jobs=-1)]: Done 187344 tasks      | elapsed:   12.3s\n",
      "[Parallel(n_jobs=-1)]: Done 270544 tasks      | elapsed:   17.4s\n",
      "[Parallel(n_jobs=-1)]: Done 366544 tasks      | elapsed:   23.7s\n",
      "[Parallel(n_jobs=-1)]: Done 475344 tasks      | elapsed:   30.1s\n",
      "[Parallel(n_jobs=-1)]: Done 596944 tasks      | elapsed:   37.9s\n",
      "[Parallel(n_jobs=-1)]: Done 731344 tasks      | elapsed:   46.7s\n",
      "[Parallel(n_jobs=-1)]: Done 878544 tasks      | elapsed:   55.2s\n",
      "[Parallel(n_jobs=-1)]: Done 1038544 tasks      | elapsed:  1.1min\n",
      "[Parallel(n_jobs=-1)]: Done 1211344 tasks      | elapsed:  1.3min\n"
     ]
    },
    {
     "name": "stderr",
     "output_type": "stream",
     "text": [
      "[Parallel(n_jobs=-1)]: Done 1396944 tasks      | elapsed:  1.4min\n",
      "[Parallel(n_jobs=-1)]: Done 1595344 tasks      | elapsed:  1.7min\n",
      "[Parallel(n_jobs=-1)]: Done 1806544 tasks      | elapsed:  1.9min\n",
      "[Parallel(n_jobs=-1)]: Done 2030544 tasks      | elapsed:  2.1min\n",
      "[Parallel(n_jobs=-1)]: Done 2267344 tasks      | elapsed:  2.4min\n",
      "[Parallel(n_jobs=-1)]: Done 2516944 tasks      | elapsed:  2.6min\n",
      "[Parallel(n_jobs=-1)]: Done 2779344 tasks      | elapsed:  2.9min\n",
      "[Parallel(n_jobs=-1)]: Done 3054544 tasks      | elapsed:  3.2min\n",
      "[Parallel(n_jobs=-1)]: Done 3342544 tasks      | elapsed:  3.5min\n",
      "[Parallel(n_jobs=-1)]: Done 3643219 tasks      | elapsed:  3.8min\n",
      "[Parallel(n_jobs=-1)]: Done 3644193 out of 3644193 | elapsed:  3.8min finished\n"
     ]
    }
   ],
   "source": [
    "print(len(query_ixs))\n",
    "candidate_data_df = []\n",
    "for i in tqdm(range(split_size)):\n",
    "    query_ix = query_ixs.numpy()[batch_size*i:batch_size*(i+1)]\n",
    "    candidate_ix = candidate_ixs.numpy()[batch_size*i:batch_size*(i+1)]\n",
    "    results = Parallel(n_jobs=-1, verbose=1)(delayed(add_features)(*make_data(q_ix, c_ix)) for q_ix, c_ix in zip(query_ix, candidate_ix))\n",
    "    cdf = pd.DataFrame(results, \n",
    "                       columns = [\"query_ix\",\n",
    "                                                         \"candidate_ix\",\n",
    "                                                         \"name_delta_len\",\n",
    "                                                         \"name_delta_words\",\n",
    "                                                         \"name_gesh\", \n",
    "                                                         \"name_leven\", \n",
    "                                                         \"name_nleven\", \n",
    "                                                         \"name_jaro\",               \n",
    "                                                         \"sp_name_delta_len\",\n",
    "                                                         \"sp_name_delta_words\",\n",
    "                                                         \"sp_name_gesh\", \n",
    "                                                         \"sp_name_leven\", \n",
    "                                                         \"sp_name_nleven\", \n",
    "                                                         \"sp_name_jaro\",                                                  \n",
    "                                                         \"name_normalized_delta_len\",\n",
    "                                                         \"name_normalized_delta_words\",\n",
    "                                                         \"name_normalized_gesh\", \n",
    "                                                         \"name_normalized_leven\", \n",
    "                                                         \"name_normalized_nleven\", \n",
    "                                                         \"name_normalized_jaro\", \n",
    "                                                         \"address_delta_len\", \n",
    "                                                         \"address_delta_words\", \n",
    "                                                         \"address_gesh\", \n",
    "                                                         \"address_leven\", \n",
    "                                                         \"address_nleven\", \n",
    "                                                         \"address_jaro\",\n",
    "                                                         \"address_normalized_delta_len\", \n",
    "                                                         \"address_normalized_delta_words\", \n",
    "                                                         \"address_normalized_gesh\", \n",
    "                                                         \"address_normalized_leven\", \n",
    "                                                         \"address_normalized_nleven\", \n",
    "                                                         \"address_normalized_jaro\",\n",
    "                                                         \"phone_national_number_match\",\n",
    "                                                         \"url_match\",\n",
    "                                                         \"url_netloc_match\",\n",
    "                                                         \"name_numbers_max\",\n",
    "                                                         \"name_numbers_min\",\n",
    "                                                         \"name_numbers_gesh\",\n",
    "                                                         \"address_numbers_max\",\n",
    "                                                         \"address_numbers_min\",\n",
    "                                                         \"address_numbers_gesh\",])\n",
    "    del results\n",
    "    int64_cols = ['name_delta_len', 'name_delta_words',\n",
    "                  'sp_name_delta_len', 'sp_name_delta_words',\n",
    "                  'name_normalized_delta_len', 'name_normalized_delta_words',\n",
    "                  'address_delta_len','address_delta_words', \n",
    "                  'address_normalized_delta_len','address_normalized_delta_words', \n",
    "                  'phone_national_number_match', 'url_match', 'url_netloc_match',\n",
    "                  'name_numbers_max', 'name_numbers_min',\n",
    "                  'address_numbers_max', 'address_numbers_min']\n",
    "    float64_cols = ['name_gesh', 'name_nleven', 'name_jaro', 'name_leven',\n",
    "                    'sp_name_gesh', 'sp_name_nleven', 'sp_name_jaro', 'sp_name_leven', \n",
    "                    'name_normalized_gesh', 'name_normalized_nleven', 'name_normalized_jaro', 'name_normalized_leven',\n",
    "                    'address_gesh','address_nleven', 'address_jaro', 'address_leven',\n",
    "                    'address_normalized_gesh','address_normalized_nleven', 'address_normalized_jaro', 'address_normalized_leven',\n",
    "                    'name_numbers_gesh','address_numbers_gesh']\n",
    "    cdf[int64_cols] = cdf[int64_cols].astype(np.int16)\n",
    "    cdf[float64_cols] = cdf[float64_cols].astype(np.float32)\n",
    "    candidate_data_df.append(cdf)\n",
    "    gc.collect()\n",
    "candidate_data_df = pd.concat(candidate_data_df)    "
   ]
  },
  {
   "cell_type": "code",
   "execution_count": 75,
   "metadata": {
    "ExecuteTime": {
     "end_time": "2022-07-04T15:48:50.260577Z",
     "start_time": "2022-07-04T15:48:50.053580Z"
    }
   },
   "outputs": [],
   "source": [
    "sp_names = tf.constant(test_df[\"sp_name\"].values)\n",
    "normalized_names = tf.constant(test_df[\"name_normalized\"].values)\n",
    "sp_address = tf.constant(test_df[\"sp_address_raw\"].values)\n",
    "normalized_address = tf.constant(test_df[\"address_normalized\"].values)\n"
   ]
  },
  {
   "cell_type": "code",
   "execution_count": 77,
   "metadata": {
    "ExecuteTime": {
     "end_time": "2022-07-04T15:50:39.953021Z",
     "start_time": "2022-07-04T15:50:13.035437Z"
    }
   },
   "outputs": [],
   "source": [
    "from sklearn.feature_extraction.text import TfidfVectorizer\n",
    "def count_unique_bigram(x):\n",
    "    split = x.split()\n",
    "    vocab = set()\n",
    "    for i in range(max(len(split)-1, 0)):\n",
    "        vocab.add(\"|\".join(split[i:i+2]))\n",
    "    return len(vocab)\n",
    "\n",
    "monogram_word_vectorizer = TfidfVectorizer(min_df=1, binary=True, use_idf=False, norm=None, dtype=np.float32, ngram_range=(1, 1), token_pattern=r'[a-zA-Z0-9&]+')\n",
    "mono_sp_name_bow = monogram_word_vectorizer.fit_transform(test_df[\"sp_name\"]).tocoo()\n",
    "mono_sp_name_bow_rag = tf.RaggedTensor.from_value_rowids(mono_sp_name_bow.col, mono_sp_name_bow.row, nrows=mono_sp_name_bow.shape[0])\n",
    "del mono_sp_name_bow, monogram_word_vectorizer\n",
    "\n",
    "bigram_word_vectorizer = TfidfVectorizer(min_df=1, binary=True, use_idf=False, norm=None, dtype=np.float32, ngram_range=(2, 2), token_pattern=r'[a-zA-Z0-9&]+')\n",
    "bi_sp_name_bow = bigram_word_vectorizer.fit_transform(test_df[\"sp_name\"]).tocoo()\n",
    "bi_sp_name_bow_rag = tf.RaggedTensor.from_value_rowids(bi_sp_name_bow.col, bi_sp_name_bow.row, nrows=bi_sp_name_bow.shape[0])\n",
    "del bi_sp_name_bow, bigram_word_vectorizer\n",
    "\n",
    "monogram_char_vectorizer = TfidfVectorizer(min_df=1, binary=True, use_idf=False, norm=None, dtype=np.float32, ngram_range=(1, 1), lowercase=False, analyzer=\"char_wb\")\n",
    "mono_name_boc = monogram_char_vectorizer.fit_transform(test_df[\"name\"].fillna(\"\")).tocoo()\n",
    "mono_name_boc_rag = tf.RaggedTensor.from_value_rowids(mono_name_boc.col, mono_name_boc.row, nrows=mono_name_boc.shape[0])\n",
    "del mono_name_boc, monogram_char_vectorizer\n",
    "\n",
    "bigram_char_vectorizer = TfidfVectorizer(min_df=1, binary=True, use_idf=False, norm=None, dtype=np.float32, ngram_range=(2, 2), lowercase=False, analyzer=\"char_wb\")\n",
    "bi_name_boc = bigram_char_vectorizer.fit_transform(test_df[\"name\"].fillna(\"\")).tocoo()\n",
    "bi_name_boc_rag = tf.RaggedTensor.from_value_rowids(bi_name_boc.col, bi_name_boc.row, nrows=bi_name_boc.shape[0])\n",
    "del bi_name_boc, bigram_char_vectorizer\n"
   ]
  },
  {
   "cell_type": "code",
   "execution_count": 78,
   "metadata": {
    "ExecuteTime": {
     "end_time": "2022-07-04T15:50:42.670310Z",
     "start_time": "2022-07-04T15:50:42.206307Z"
    }
   },
   "outputs": [
    {
     "data": {
      "text/plain": [
       "18"
      ]
     },
     "execution_count": 78,
     "metadata": {},
     "output_type": "execute_result"
    }
   ],
   "source": [
    "import gc\n",
    "gc.collect()"
   ]
  },
  {
   "cell_type": "code",
   "execution_count": 79,
   "metadata": {
    "ExecuteTime": {
     "end_time": "2022-07-04T15:50:45.301967Z",
     "start_time": "2022-07-04T15:50:45.273002Z"
    }
   },
   "outputs": [],
   "source": [
    "@tf.function(experimental_relax_shapes=True)\n",
    "def calc_rouge_1_2(q_ix, c_ix):\n",
    "    q_code = tf.gather(mono_sp_name_bow_rag, q_ix).to_tensor(default_value=-1)\n",
    "    c_code = tf.gather(mono_sp_name_bow_rag, c_ix).to_tensor(default_value=-2)\n",
    "    q_cnt = tf.cast(tf.gather(mono_sp_name_bow_rag.row_lengths(), q_ix), \"float32\")\n",
    "    c_cnt = tf.cast(tf.gather(mono_sp_name_bow_rag.row_lengths(), c_ix), \"float32\")\n",
    "\n",
    "    is_na = tf.minimum(q_cnt, c_cnt) == 0.\n",
    "    match = tf.expand_dims(q_code, axis=2) == tf.expand_dims(c_code, axis=1)\n",
    "    precision = tf.math.count_nonzero(tf.math.reduce_any(match, axis=2), axis=1, dtype=\"float32\")# / (q_cnt + tf.keras.backend.epsilon())\n",
    "    recall = tf.math.count_nonzero(tf.math.reduce_any(match, axis=1), axis=1, dtype=\"float32\")# / (c_cnt + tf.keras.backend.epsilon())\n",
    "    precision_rate = precision / (q_cnt + tf.keras.backend.epsilon())\n",
    "    recall_rate = recall / (c_cnt + tf.keras.backend.epsilon())\n",
    "    precision_cnt = q_cnt - precision\n",
    "    recall_cnt = c_cnt - recall    \n",
    "    harmony = 2. / ((1 / (precision_rate + tf.keras.backend.epsilon())) + (1 / (recall_rate + tf.keras.backend.epsilon())))\n",
    "    res_1 = tf.where(tf.expand_dims(is_na, axis=-1), np.nan, tf.stack([harmony, precision_rate, recall_rate, precision_cnt, recall_cnt], axis=1))\n",
    "    \n",
    "    q_code = tf.gather(bi_sp_name_bow_rag, q_ix).to_tensor(default_value=-1)\n",
    "    c_code = tf.gather(bi_sp_name_bow_rag, c_ix).to_tensor(default_value=-2)\n",
    "    q_cnt = tf.cast(tf.gather(bi_sp_name_bow_rag.row_lengths(), q_ix), \"float32\")\n",
    "    c_cnt = tf.cast(tf.gather(bi_sp_name_bow_rag.row_lengths(), c_ix), \"float32\")\n",
    "\n",
    "    is_na = tf.minimum(q_cnt, c_cnt) == 0.\n",
    "    match = tf.expand_dims(q_code, axis=2) == tf.expand_dims(c_code, axis=1)\n",
    "    precision = tf.math.count_nonzero(tf.math.reduce_any(match, axis=2), axis=1, dtype=\"float32\")# / (q_cnt + tf.keras.backend.epsilon())\n",
    "    recall = tf.math.count_nonzero(tf.math.reduce_any(match, axis=1), axis=1, dtype=\"float32\")# / (c_cnt + tf.keras.backend.epsilon())\n",
    "    precision_rate = precision / (q_cnt + tf.keras.backend.epsilon())\n",
    "    recall_rate = recall / (c_cnt + tf.keras.backend.epsilon())\n",
    "    precision_cnt = q_cnt - precision\n",
    "    recall_cnt = c_cnt - recall    \n",
    "    harmony = 2. / ((1 / (precision_rate + tf.keras.backend.epsilon())) + (1 / (recall_rate + tf.keras.backend.epsilon())))\n",
    "    res_2 = tf.where(tf.expand_dims(is_na, axis=-1), np.nan, tf.stack([harmony, precision_rate, recall_rate, precision_cnt, recall_cnt], axis=1))\n",
    "    \n",
    "    q_code = tf.gather(mono_name_boc_rag, q_ix).to_tensor(default_value=-1)\n",
    "    c_code = tf.gather(mono_name_boc_rag, c_ix).to_tensor(default_value=-2)\n",
    "    q_cnt = tf.cast(tf.gather(mono_name_boc_rag.row_lengths(), q_ix), \"float32\")\n",
    "    c_cnt = tf.cast(tf.gather(mono_name_boc_rag.row_lengths(), c_ix), \"float32\")\n",
    "\n",
    "    is_na = tf.minimum(q_cnt, c_cnt) == 0.\n",
    "    match = tf.expand_dims(q_code, axis=2) == tf.expand_dims(c_code, axis=1)\n",
    "    precision = tf.math.count_nonzero(tf.math.reduce_any(match, axis=2), axis=1, dtype=\"float32\")# / (q_cnt + tf.keras.backend.epsilon())\n",
    "    recall = tf.math.count_nonzero(tf.math.reduce_any(match, axis=1), axis=1, dtype=\"float32\")# / (c_cnt + tf.keras.backend.epsilon())\n",
    "    precision_rate = precision / (q_cnt + tf.keras.backend.epsilon())\n",
    "    recall_rate = recall / (c_cnt + tf.keras.backend.epsilon())\n",
    "    precision_cnt = q_cnt - precision\n",
    "    recall_cnt = c_cnt - recall    \n",
    "    harmony = 2. / ((1 / (precision_rate + tf.keras.backend.epsilon())) + (1 / (recall_rate + tf.keras.backend.epsilon())))\n",
    "    res_3 = tf.where(tf.expand_dims(is_na, axis=-1), np.nan, tf.stack([harmony, precision_rate, recall_rate, precision_cnt, recall_cnt], axis=1))\n",
    "    \n",
    "    q_code = tf.gather(bi_name_boc_rag, q_ix).to_tensor(default_value=-1)\n",
    "    c_code = tf.gather(bi_name_boc_rag, c_ix).to_tensor(default_value=-2)\n",
    "    q_cnt = tf.cast(tf.gather(bi_name_boc_rag.row_lengths(), q_ix), \"float32\")\n",
    "    c_cnt = tf.cast(tf.gather(bi_name_boc_rag.row_lengths(), c_ix), \"float32\")\n",
    "\n",
    "    is_na = tf.minimum(q_cnt, c_cnt) == 0.\n",
    "    match = tf.expand_dims(q_code, axis=2) == tf.expand_dims(c_code, axis=1)\n",
    "    precision = tf.math.count_nonzero(tf.math.reduce_any(match, axis=2), axis=1, dtype=\"float32\")# / (q_cnt + tf.keras.backend.epsilon())\n",
    "    recall = tf.math.count_nonzero(tf.math.reduce_any(match, axis=1), axis=1, dtype=\"float32\")# / (c_cnt + tf.keras.backend.epsilon())\n",
    "    precision_rate = precision / (q_cnt + tf.keras.backend.epsilon())\n",
    "    recall_rate = recall / (c_cnt + tf.keras.backend.epsilon())\n",
    "    precision_cnt = q_cnt - precision\n",
    "    recall_cnt = c_cnt - recall    \n",
    "    harmony = 2. / ((1 / (precision_rate + tf.keras.backend.epsilon())) + (1 / (recall_rate + tf.keras.backend.epsilon())))\n",
    "    res_4 = tf.where(tf.expand_dims(is_na, axis=-1), np.nan, tf.stack([harmony, precision_rate, recall_rate, precision_cnt, recall_cnt], axis=1))\n",
    "    \n",
    "    return tf.concat([res_1, res_2, res_3, res_4], axis=-1)\n",
    "\n",
    "@tf.function(experimental_relax_shapes=True)\n",
    "def calc_rouge_l(q_ix, c_ix):\n",
    "    q_name = wsp_tokenizer.tokenize(tf.gather(sp_names, q_ix))\n",
    "    c_name = wsp_tokenizer.tokenize(tf.gather(sp_names, c_ix))\n",
    "    name_score = tf.stack(tf_text.metrics.rouge_l(q_name, c_name), axis=-1)\n",
    "    name_p_count = (1. - tf.gather(name_score, 1, axis=1)) * tf.cast(q_name.row_lengths(), \"float32\")\n",
    "    name_r_count = (1. - tf.gather(name_score, 2, axis=1)) * tf.cast(c_name.row_lengths(), \"float32\")\n",
    "    name_score = tf.concat([name_score, tf.stack([name_p_count, name_r_count], axis=1)], axis=1)    \n",
    "    \n",
    "    q_name = uch_tokenizer.tokenize(tf.gather(normalized_names, q_ix))\n",
    "    c_name = uch_tokenizer.tokenize(tf.gather(normalized_names, c_ix))\n",
    "    n_name_score = tf.stack(tf_text.metrics.rouge_l(q_name, c_name), axis=-1)\n",
    "    name_p_count = (1. - tf.gather(n_name_score, 1, axis=1)) * tf.cast(q_name.row_lengths(), \"float32\")\n",
    "    name_r_count = (1. - tf.gather(n_name_score, 2, axis=1)) * tf.cast(c_name.row_lengths(), \"float32\")\n",
    "    n_name_score = tf.concat([n_name_score, tf.stack([name_p_count, name_r_count], axis=1)], axis=1)\n",
    "    \n",
    "    q_address = wsp_tokenizer.tokenize(tf.gather(sp_address, q_ix))\n",
    "    c_address = wsp_tokenizer.tokenize(tf.gather(sp_address, c_ix))\n",
    "    address_score = tf.stack(tf_text.metrics.rouge_l(q_address, c_address), axis=-1)\n",
    "    address_p_count = (1. - tf.gather(address_score, 1, axis=1)) * tf.cast(q_address.row_lengths(), \"float32\")\n",
    "    address_r_count = (1. - tf.gather(address_score, 2, axis=1)) * tf.cast(c_address.row_lengths(), \"float32\")\n",
    "    address_score = tf.concat([address_score, tf.stack([address_p_count, address_r_count], axis=1)], axis=1)    \n",
    "    \n",
    "    q_address = uch_tokenizer.tokenize(tf.gather(normalized_address, q_ix))\n",
    "    c_address = uch_tokenizer.tokenize(tf.gather(normalized_address, c_ix))\n",
    "    n_address_score = tf.stack(tf_text.metrics.rouge_l(q_address, c_address), axis=-1)\n",
    "    address_p_count = (1. - tf.gather(n_address_score, 1, axis=1)) * tf.cast(q_address.row_lengths(), \"float32\")\n",
    "    address_r_count = (1. - tf.gather(n_address_score, 2, axis=1)) * tf.cast(c_address.row_lengths(), \"float32\")\n",
    "    n_address_score = tf.concat([n_address_score, tf.stack([address_p_count, address_r_count], axis=1)], axis=1)\n",
    "    \n",
    "    score = tf.concat([name_score, n_name_score, address_score, n_address_score], axis=-1)\n",
    "    return score"
   ]
  },
  {
   "cell_type": "code",
   "execution_count": 81,
   "metadata": {
    "ExecuteTime": {
     "end_time": "2022-07-04T15:50:57.285856Z",
     "start_time": "2022-07-04T15:50:56.856857Z"
    }
   },
   "outputs": [
    {
     "data": {
      "text/plain": [
       "0"
      ]
     },
     "execution_count": 81,
     "metadata": {},
     "output_type": "execute_result"
    }
   ],
   "source": [
    "del name_embeddings, category_embeddings, mix_embeddings\n",
    "gc.collect()"
   ]
  },
  {
   "cell_type": "code",
   "execution_count": 82,
   "metadata": {
    "ExecuteTime": {
     "end_time": "2022-07-04T15:58:11.191248Z",
     "start_time": "2022-07-04T15:51:04.446261Z"
    }
   },
   "outputs": [
    {
     "data": {
      "application/vnd.jupyter.widget-view+json": {
       "model_id": "92e51300b0c04372bbe87d9bf27f2903",
       "version_major": 2,
       "version_minor": 0
      },
      "text/plain": [
       "  0%|          | 0/35588 [00:00<?, ?it/s]"
      ]
     },
     "metadata": {},
     "output_type": "display_data"
    }
   ],
   "source": [
    "text_ds = tf.data.Dataset.zip((tf.data.Dataset.from_tensor_slices(query_ixs), tf.data.Dataset.from_tensor_slices(candidate_ixs)))\\\n",
    "                         .batch(1024)\n",
    "wsp_tokenizer = tf_text.WhitespaceTokenizer()\n",
    "uch_tokenizer = tf_text.UnicodeCharTokenizer()\n",
    "\n",
    "n_scores = []\n",
    "l_scores = []\n",
    "for q_ix, c_ix in tqdm(text_ds):\n",
    "    n_scores.append(calc_rouge_1_2(q_ix, c_ix))\n",
    "    l_scores.append(calc_rouge_l(q_ix, c_ix))\n",
    "\n",
    "n_scores = tf.concat(n_scores, axis=0)\n",
    "l_scores = tf.concat(l_scores, axis=0)"
   ]
  },
  {
   "cell_type": "code",
   "execution_count": 83,
   "metadata": {
    "ExecuteTime": {
     "end_time": "2022-07-04T15:58:24.504793Z",
     "start_time": "2022-07-04T15:58:16.619857Z"
    }
   },
   "outputs": [],
   "source": [
    "\n",
    "candidate_data_df[[\"rouge_1_name_word_f\", \"rouge_1_name_word_p_rate\", \"rouge_1_name_word_r_rate\", \"rouge_1_name_word_p_cnt\", \"rouge_1_name_word_r_cnt\",\n",
    "                   \"rouge_2_name_word_f\", \"rouge_2_name_word_p_rate\", \"rouge_2_name_word_r_rate\", \"rouge_2_name_word_p_cnt\", \"rouge_2_name_word_r_cnt\",\n",
    "                   \"rouge_1_name_char_f\", \"rouge_1_name_char_p_rate\", \"rouge_1_name_char_r_rate\", \"rouge_1_name_char_p_cnt\", \"rouge_1_name_char_r_cnt\",\n",
    "                   \"rouge_2_name_char_f\", \"rouge_2_name_char_p_rate\", \"rouge_2_name_char_r_rate\", \"rouge_2_name_char_p_cnt\", \"rouge_2_name_char_r_cnt\"]] = n_scores.numpy().astype(np.float32)\n",
    "candidate_data_df[[\"rouge_l_name_f\", \"rouge_l_name_p_rate\", \"rouge_l_name_r_rate\", \"rouge_l_name_p_cnt\", \"rouge_l_name_r_cnt\",\n",
    "                   \"rouge_l_n_name_f\", \"rouge_l_n_name_p_rate\", \"rouge_l_n_name_r_rate\", \"rouge_l_n_name_p_cnt\", \"rouge_l_n_name_r_cnt\",\n",
    "                   \"rouge_l_address_f\", \"rouge_l_address_p_rate\", \"rouge_l_address_r_rate\", \"rouge_l_address_p_cnt\", \"rouge_l_address_r_cnt\",\n",
    "                   \"rouge_l_n_address_f\", \"rouge_l_n_address_p_rate\", \"rouge_l_n_address_r_rate\", \"rouge_l_n_address_p_cnt\", \"rouge_l_n_address_r_cnt\"]] = l_scores.numpy().astype(np.float32)"
   ]
  },
  {
   "cell_type": "code",
   "execution_count": 84,
   "metadata": {
    "ExecuteTime": {
     "end_time": "2022-07-04T15:58:30.187299Z",
     "start_time": "2022-07-04T15:58:29.535212Z"
    }
   },
   "outputs": [
    {
     "data": {
      "text/plain": [
       "18"
      ]
     },
     "execution_count": 84,
     "metadata": {},
     "output_type": "execute_result"
    }
   ],
   "source": [
    "del n_scores, l_scores\n",
    "gc.collect()"
   ]
  },
  {
   "cell_type": "code",
   "execution_count": 85,
   "metadata": {
    "ExecuteTime": {
     "end_time": "2022-07-04T15:58:37.050293Z",
     "start_time": "2022-07-04T15:58:35.704295Z"
    }
   },
   "outputs": [],
   "source": [
    "for i, col in enumerate([\"distance\",\n",
    "                           \"sp_name_word_sparse_sim\",\n",
    "                           \"n_name_word_sparse_sim\",\n",
    "                           \"name_char_sparse_sim\",\n",
    "                           \"name_cossim\",\n",
    "                           \"address_cossim\",\n",
    "                           \"category_cossim\",\n",
    "                           \"mix_cossim\"]):\n",
    "    candidate_data_df[col] = tf.reshape(tf.gather(cross_feats, i, axis=1), [-1]).numpy().astype(np.float32)\n"
   ]
  },
  {
   "cell_type": "code",
   "execution_count": 86,
   "metadata": {
    "ExecuteTime": {
     "end_time": "2022-07-04T15:58:42.045373Z",
     "start_time": "2022-07-04T15:58:41.271374Z"
    }
   },
   "outputs": [],
   "source": [
    "test_df[\"name_len\"] = test_df[\"name\"].fillna(\"\").str.len().astype(np.int16)\n",
    "test_df[\"n_name_len\"] = test_df[\"name_normalized\"].fillna(\"\").str.len().astype(np.int16)\n",
    "test_df[\"sp_name_split\"] = test_df[\"sp_name\"].fillna(\"\").apply(lambda x: len(x.split())).astype(np.int16)\n"
   ]
  },
  {
   "cell_type": "code",
   "execution_count": 87,
   "metadata": {
    "ExecuteTime": {
     "end_time": "2022-07-04T15:58:52.197717Z",
     "start_time": "2022-07-04T15:58:44.580719Z"
    },
    "execution": {
     "iopub.execute_input": "2022-06-21T01:57:04.364863Z",
     "iopub.status.busy": "2022-06-21T01:57:04.364478Z",
     "iopub.status.idle": "2022-06-21T01:57:04.400892Z",
     "shell.execute_reply": "2022-06-21T01:57:04.400104Z",
     "shell.execute_reply.started": "2022-06-21T01:57:04.36482Z"
    }
   },
   "outputs": [
    {
     "name": "stderr",
     "output_type": "stream",
     "text": [
      "C:\\Users\\nadare\\AppData\\Local\\Temp/ipykernel_22560/3284184554.py:23: PerformanceWarning: DataFrame is highly fragmented.  This is usually the result of calling `frame.insert` many times, which has poor performance.  Consider joining all columns at once using pd.concat(axis=1) instead. To get a de-fragmented frame, use `newframe = frame.copy()`\n",
      "  candidate_data_df[f\"query_{col}\"] = test_df[col].values[candidate_data_df[\"query_ix\"]]\n",
      "C:\\Users\\nadare\\AppData\\Local\\Temp/ipykernel_22560/3284184554.py:23: PerformanceWarning: DataFrame is highly fragmented.  This is usually the result of calling `frame.insert` many times, which has poor performance.  Consider joining all columns at once using pd.concat(axis=1) instead. To get a de-fragmented frame, use `newframe = frame.copy()`\n",
      "  candidate_data_df[f\"query_{col}\"] = test_df[col].values[candidate_data_df[\"query_ix\"]]\n",
      "C:\\Users\\nadare\\AppData\\Local\\Temp/ipykernel_22560/3284184554.py:23: PerformanceWarning: DataFrame is highly fragmented.  This is usually the result of calling `frame.insert` many times, which has poor performance.  Consider joining all columns at once using pd.concat(axis=1) instead. To get a de-fragmented frame, use `newframe = frame.copy()`\n",
      "  candidate_data_df[f\"query_{col}\"] = test_df[col].values[candidate_data_df[\"query_ix\"]]\n",
      "C:\\Users\\nadare\\AppData\\Local\\Temp/ipykernel_22560/3284184554.py:23: PerformanceWarning: DataFrame is highly fragmented.  This is usually the result of calling `frame.insert` many times, which has poor performance.  Consider joining all columns at once using pd.concat(axis=1) instead. To get a de-fragmented frame, use `newframe = frame.copy()`\n",
      "  candidate_data_df[f\"query_{col}\"] = test_df[col].values[candidate_data_df[\"query_ix\"]]\n",
      "C:\\Users\\nadare\\AppData\\Local\\Temp/ipykernel_22560/3284184554.py:23: PerformanceWarning: DataFrame is highly fragmented.  This is usually the result of calling `frame.insert` many times, which has poor performance.  Consider joining all columns at once using pd.concat(axis=1) instead. To get a de-fragmented frame, use `newframe = frame.copy()`\n",
      "  candidate_data_df[f\"query_{col}\"] = test_df[col].values[candidate_data_df[\"query_ix\"]]\n",
      "C:\\Users\\nadare\\AppData\\Local\\Temp/ipykernel_22560/3284184554.py:23: PerformanceWarning: DataFrame is highly fragmented.  This is usually the result of calling `frame.insert` many times, which has poor performance.  Consider joining all columns at once using pd.concat(axis=1) instead. To get a de-fragmented frame, use `newframe = frame.copy()`\n",
      "  candidate_data_df[f\"query_{col}\"] = test_df[col].values[candidate_data_df[\"query_ix\"]]\n",
      "C:\\Users\\nadare\\AppData\\Local\\Temp/ipykernel_22560/3284184554.py:25: PerformanceWarning: DataFrame is highly fragmented.  This is usually the result of calling `frame.insert` many times, which has poor performance.  Consider joining all columns at once using pd.concat(axis=1) instead. To get a de-fragmented frame, use `newframe = frame.copy()`\n",
      "  candidate_data_df[f\"query_{col}\"] = test_df[col].values[candidate_data_df[\"query_ix\"]]\n",
      "C:\\Users\\nadare\\AppData\\Local\\Temp/ipykernel_22560/3284184554.py:25: PerformanceWarning: DataFrame is highly fragmented.  This is usually the result of calling `frame.insert` many times, which has poor performance.  Consider joining all columns at once using pd.concat(axis=1) instead. To get a de-fragmented frame, use `newframe = frame.copy()`\n",
      "  candidate_data_df[f\"query_{col}\"] = test_df[col].values[candidate_data_df[\"query_ix\"]]\n",
      "C:\\Users\\nadare\\AppData\\Local\\Temp/ipykernel_22560/3284184554.py:25: PerformanceWarning: DataFrame is highly fragmented.  This is usually the result of calling `frame.insert` many times, which has poor performance.  Consider joining all columns at once using pd.concat(axis=1) instead. To get a de-fragmented frame, use `newframe = frame.copy()`\n",
      "  candidate_data_df[f\"query_{col}\"] = test_df[col].values[candidate_data_df[\"query_ix\"]]\n",
      "C:\\Users\\nadare\\AppData\\Local\\Temp/ipykernel_22560/3284184554.py:28: PerformanceWarning: DataFrame is highly fragmented.  This is usually the result of calling `frame.insert` many times, which has poor performance.  Consider joining all columns at once using pd.concat(axis=1) instead. To get a de-fragmented frame, use `newframe = frame.copy()`\n",
      "  candidate_data_df[\"candidate_city_index\"] = test_df[\"pseudo_city_ix\"].values.astype(np.int16)[candidate_data_df[\"candidate_ix\"]]\n",
      "C:\\Users\\nadare\\AppData\\Local\\Temp/ipykernel_22560/3284184554.py:29: PerformanceWarning: DataFrame is highly fragmented.  This is usually the result of calling `frame.insert` many times, which has poor performance.  Consider joining all columns at once using pd.concat(axis=1) instead. To get a de-fragmented frame, use `newframe = frame.copy()`\n",
      "  candidate_data_df[\"candidate_geo_name_index\"] = test_df[\"pseudo_geo_name_ix\"].values.astype(np.int16)[candidate_data_df[\"candidate_ix\"]]\n",
      "C:\\Users\\nadare\\AppData\\Local\\Temp/ipykernel_22560/3284184554.py:31: PerformanceWarning: DataFrame is highly fragmented.  This is usually the result of calling `frame.insert` many times, which has poor performance.  Consider joining all columns at once using pd.concat(axis=1) instead. To get a de-fragmented frame, use `newframe = frame.copy()`\n",
      "  candidate_data_df[\"candidate_country_index\"] = test_df[\"country_ix\"].values.astype(np.int16)[candidate_data_df[\"candidate_ix\"]]\n",
      "C:\\Users\\nadare\\AppData\\Local\\Temp/ipykernel_22560/3284184554.py:32: PerformanceWarning: DataFrame is highly fragmented.  This is usually the result of calling `frame.insert` many times, which has poor performance.  Consider joining all columns at once using pd.concat(axis=1) instead. To get a de-fragmented frame, use `newframe = frame.copy()`\n",
      "  candidate_data_df[\"candidate_state_index\"] = test_df[\"pseudo_state_ix\"].values.astype(np.int16)[candidate_data_df[\"candidate_ix\"]]\n",
      "C:\\Users\\nadare\\AppData\\Local\\Temp/ipykernel_22560/3284184554.py:36: PerformanceWarning: DataFrame is highly fragmented.  This is usually the result of calling `frame.insert` many times, which has poor performance.  Consider joining all columns at once using pd.concat(axis=1) instead. To get a de-fragmented frame, use `newframe = frame.copy()`\n",
      "  candidate_data_df[\"candidate_city_pos_tsp_index\"] = city_index_df[\"city_pos_tsp_index\"].values.astype(np.int16)[candidate_data_df[\"candidate_city_index\"]]\n",
      "C:\\Users\\nadare\\AppData\\Local\\Temp/ipykernel_22560/3284184554.py:37: PerformanceWarning: DataFrame is highly fragmented.  This is usually the result of calling `frame.insert` many times, which has poor performance.  Consider joining all columns at once using pd.concat(axis=1) instead. To get a de-fragmented frame, use `newframe = frame.copy()`\n",
      "  candidate_data_df[\"candidate_geo_name_pos_tsp_index\"] = geo_name_index_df[\"geo_name_pos_tsp_index\"].values.astype(np.int16)[candidate_data_df[\"candidate_geo_name_index\"]]\n",
      "C:\\Users\\nadare\\AppData\\Local\\Temp/ipykernel_22560/3284184554.py:38: PerformanceWarning: DataFrame is highly fragmented.  This is usually the result of calling `frame.insert` many times, which has poor performance.  Consider joining all columns at once using pd.concat(axis=1) instead. To get a de-fragmented frame, use `newframe = frame.copy()`\n",
      "  candidate_data_df[\"candidate_state_pos_tsp_index\"] = state_index_df[\"state_pos_tsp_index\"].values.astype(np.int16)[candidate_data_df[\"candidate_state_index\"]]\n",
      "C:\\Users\\nadare\\AppData\\Local\\Temp/ipykernel_22560/3284184554.py:41: PerformanceWarning: DataFrame is highly fragmented.  This is usually the result of calling `frame.insert` many times, which has poor performance.  Consider joining all columns at once using pd.concat(axis=1) instead. To get a de-fragmented frame, use `newframe = frame.copy()`\n",
      "  candidate_data_df[f\"candidate_{col}\"] = test_df[col].values.astype(np.int16)[candidate_data_df[\"candidate_ix\"]]\n",
      "C:\\Users\\nadare\\AppData\\Local\\Temp/ipykernel_22560/3284184554.py:41: PerformanceWarning: DataFrame is highly fragmented.  This is usually the result of calling `frame.insert` many times, which has poor performance.  Consider joining all columns at once using pd.concat(axis=1) instead. To get a de-fragmented frame, use `newframe = frame.copy()`\n",
      "  candidate_data_df[f\"candidate_{col}\"] = test_df[col].values.astype(np.int16)[candidate_data_df[\"candidate_ix\"]]\n",
      "C:\\Users\\nadare\\AppData\\Local\\Temp/ipykernel_22560/3284184554.py:41: PerformanceWarning: DataFrame is highly fragmented.  This is usually the result of calling `frame.insert` many times, which has poor performance.  Consider joining all columns at once using pd.concat(axis=1) instead. To get a de-fragmented frame, use `newframe = frame.copy()`\n",
      "  candidate_data_df[f\"candidate_{col}\"] = test_df[col].values.astype(np.int16)[candidate_data_df[\"candidate_ix\"]]\n"
     ]
    },
    {
     "name": "stderr",
     "output_type": "stream",
     "text": [
      "C:\\Users\\nadare\\AppData\\Local\\Temp/ipykernel_22560/3284184554.py:41: PerformanceWarning: DataFrame is highly fragmented.  This is usually the result of calling `frame.insert` many times, which has poor performance.  Consider joining all columns at once using pd.concat(axis=1) instead. To get a de-fragmented frame, use `newframe = frame.copy()`\n",
      "  candidate_data_df[f\"candidate_{col}\"] = test_df[col].values.astype(np.int16)[candidate_data_df[\"candidate_ix\"]]\n",
      "C:\\Users\\nadare\\AppData\\Local\\Temp/ipykernel_22560/3284184554.py:41: PerformanceWarning: DataFrame is highly fragmented.  This is usually the result of calling `frame.insert` many times, which has poor performance.  Consider joining all columns at once using pd.concat(axis=1) instead. To get a de-fragmented frame, use `newframe = frame.copy()`\n",
      "  candidate_data_df[f\"candidate_{col}\"] = test_df[col].values.astype(np.int16)[candidate_data_df[\"candidate_ix\"]]\n",
      "C:\\Users\\nadare\\AppData\\Local\\Temp/ipykernel_22560/3284184554.py:41: PerformanceWarning: DataFrame is highly fragmented.  This is usually the result of calling `frame.insert` many times, which has poor performance.  Consider joining all columns at once using pd.concat(axis=1) instead. To get a de-fragmented frame, use `newframe = frame.copy()`\n",
      "  candidate_data_df[f\"candidate_{col}\"] = test_df[col].values.astype(np.int16)[candidate_data_df[\"candidate_ix\"]]\n",
      "C:\\Users\\nadare\\AppData\\Local\\Temp/ipykernel_22560/3284184554.py:41: PerformanceWarning: DataFrame is highly fragmented.  This is usually the result of calling `frame.insert` many times, which has poor performance.  Consider joining all columns at once using pd.concat(axis=1) instead. To get a de-fragmented frame, use `newframe = frame.copy()`\n",
      "  candidate_data_df[f\"candidate_{col}\"] = test_df[col].values.astype(np.int16)[candidate_data_df[\"candidate_ix\"]]\n",
      "C:\\Users\\nadare\\AppData\\Local\\Temp/ipykernel_22560/3284184554.py:43: PerformanceWarning: DataFrame is highly fragmented.  This is usually the result of calling `frame.insert` many times, which has poor performance.  Consider joining all columns at once using pd.concat(axis=1) instead. To get a de-fragmented frame, use `newframe = frame.copy()`\n",
      "  candidate_data_df[f\"candidate_{col}\"] = test_df[col].values.astype(np.float32)[candidate_data_df[\"candidate_ix\"]]\n",
      "C:\\Users\\nadare\\AppData\\Local\\Temp/ipykernel_22560/3284184554.py:43: PerformanceWarning: DataFrame is highly fragmented.  This is usually the result of calling `frame.insert` many times, which has poor performance.  Consider joining all columns at once using pd.concat(axis=1) instead. To get a de-fragmented frame, use `newframe = frame.copy()`\n",
      "  candidate_data_df[f\"candidate_{col}\"] = test_df[col].values.astype(np.float32)[candidate_data_df[\"candidate_ix\"]]\n",
      "C:\\Users\\nadare\\AppData\\Local\\Temp/ipykernel_22560/3284184554.py:43: PerformanceWarning: DataFrame is highly fragmented.  This is usually the result of calling `frame.insert` many times, which has poor performance.  Consider joining all columns at once using pd.concat(axis=1) instead. To get a de-fragmented frame, use `newframe = frame.copy()`\n",
      "  candidate_data_df[f\"candidate_{col}\"] = test_df[col].values.astype(np.float32)[candidate_data_df[\"candidate_ix\"]]\n",
      "C:\\Users\\nadare\\AppData\\Local\\Temp/ipykernel_22560/3284184554.py:43: PerformanceWarning: DataFrame is highly fragmented.  This is usually the result of calling `frame.insert` many times, which has poor performance.  Consider joining all columns at once using pd.concat(axis=1) instead. To get a de-fragmented frame, use `newframe = frame.copy()`\n",
      "  candidate_data_df[f\"candidate_{col}\"] = test_df[col].values.astype(np.float32)[candidate_data_df[\"candidate_ix\"]]\n",
      "C:\\Users\\nadare\\AppData\\Local\\Temp/ipykernel_22560/3284184554.py:43: PerformanceWarning: DataFrame is highly fragmented.  This is usually the result of calling `frame.insert` many times, which has poor performance.  Consider joining all columns at once using pd.concat(axis=1) instead. To get a de-fragmented frame, use `newframe = frame.copy()`\n",
      "  candidate_data_df[f\"candidate_{col}\"] = test_df[col].values.astype(np.float32)[candidate_data_df[\"candidate_ix\"]]\n",
      "C:\\Users\\nadare\\AppData\\Local\\Temp/ipykernel_22560/3284184554.py:43: PerformanceWarning: DataFrame is highly fragmented.  This is usually the result of calling `frame.insert` many times, which has poor performance.  Consider joining all columns at once using pd.concat(axis=1) instead. To get a de-fragmented frame, use `newframe = frame.copy()`\n",
      "  candidate_data_df[f\"candidate_{col}\"] = test_df[col].values.astype(np.float32)[candidate_data_df[\"candidate_ix\"]]\n",
      "C:\\Users\\nadare\\AppData\\Local\\Temp/ipykernel_22560/3284184554.py:43: PerformanceWarning: DataFrame is highly fragmented.  This is usually the result of calling `frame.insert` many times, which has poor performance.  Consider joining all columns at once using pd.concat(axis=1) instead. To get a de-fragmented frame, use `newframe = frame.copy()`\n",
      "  candidate_data_df[f\"candidate_{col}\"] = test_df[col].values.astype(np.float32)[candidate_data_df[\"candidate_ix\"]]\n",
      "C:\\Users\\nadare\\AppData\\Local\\Temp/ipykernel_22560/3284184554.py:45: PerformanceWarning: DataFrame is highly fragmented.  This is usually the result of calling `frame.insert` many times, which has poor performance.  Consider joining all columns at once using pd.concat(axis=1) instead. To get a de-fragmented frame, use `newframe = frame.copy()`\n",
      "  candidate_data_df[f\"candidate_{col}\"] = test_df[col].values[candidate_data_df[\"candidate_ix\"]]\n",
      "C:\\Users\\nadare\\AppData\\Local\\Temp/ipykernel_22560/3284184554.py:45: PerformanceWarning: DataFrame is highly fragmented.  This is usually the result of calling `frame.insert` many times, which has poor performance.  Consider joining all columns at once using pd.concat(axis=1) instead. To get a de-fragmented frame, use `newframe = frame.copy()`\n",
      "  candidate_data_df[f\"candidate_{col}\"] = test_df[col].values[candidate_data_df[\"candidate_ix\"]]\n",
      "C:\\Users\\nadare\\AppData\\Local\\Temp/ipykernel_22560/3284184554.py:45: PerformanceWarning: DataFrame is highly fragmented.  This is usually the result of calling `frame.insert` many times, which has poor performance.  Consider joining all columns at once using pd.concat(axis=1) instead. To get a de-fragmented frame, use `newframe = frame.copy()`\n",
      "  candidate_data_df[f\"candidate_{col}\"] = test_df[col].values[candidate_data_df[\"candidate_ix\"]]\n",
      "C:\\Users\\nadare\\AppData\\Local\\Temp/ipykernel_22560/3284184554.py:45: PerformanceWarning: DataFrame is highly fragmented.  This is usually the result of calling `frame.insert` many times, which has poor performance.  Consider joining all columns at once using pd.concat(axis=1) instead. To get a de-fragmented frame, use `newframe = frame.copy()`\n",
      "  candidate_data_df[f\"candidate_{col}\"] = test_df[col].values[candidate_data_df[\"candidate_ix\"]]\n",
      "C:\\Users\\nadare\\AppData\\Local\\Temp/ipykernel_22560/3284184554.py:45: PerformanceWarning: DataFrame is highly fragmented.  This is usually the result of calling `frame.insert` many times, which has poor performance.  Consider joining all columns at once using pd.concat(axis=1) instead. To get a de-fragmented frame, use `newframe = frame.copy()`\n",
      "  candidate_data_df[f\"candidate_{col}\"] = test_df[col].values[candidate_data_df[\"candidate_ix\"]]\n",
      "C:\\Users\\nadare\\AppData\\Local\\Temp/ipykernel_22560/3284184554.py:45: PerformanceWarning: DataFrame is highly fragmented.  This is usually the result of calling `frame.insert` many times, which has poor performance.  Consider joining all columns at once using pd.concat(axis=1) instead. To get a de-fragmented frame, use `newframe = frame.copy()`\n",
      "  candidate_data_df[f\"candidate_{col}\"] = test_df[col].values[candidate_data_df[\"candidate_ix\"]]\n",
      "C:\\Users\\nadare\\AppData\\Local\\Temp/ipykernel_22560/3284184554.py:45: PerformanceWarning: DataFrame is highly fragmented.  This is usually the result of calling `frame.insert` many times, which has poor performance.  Consider joining all columns at once using pd.concat(axis=1) instead. To get a de-fragmented frame, use `newframe = frame.copy()`\n",
      "  candidate_data_df[f\"candidate_{col}\"] = test_df[col].values[candidate_data_df[\"candidate_ix\"]]\n",
      "C:\\Users\\nadare\\AppData\\Local\\Temp/ipykernel_22560/3284184554.py:47: PerformanceWarning: DataFrame is highly fragmented.  This is usually the result of calling `frame.insert` many times, which has poor performance.  Consider joining all columns at once using pd.concat(axis=1) instead. To get a de-fragmented frame, use `newframe = frame.copy()`\n",
      "  candidate_data_df[f\"candidate_{col}\"] = test_df[col].values[candidate_data_df[\"candidate_ix\"]]\n",
      "C:\\Users\\nadare\\AppData\\Local\\Temp/ipykernel_22560/3284184554.py:47: PerformanceWarning: DataFrame is highly fragmented.  This is usually the result of calling `frame.insert` many times, which has poor performance.  Consider joining all columns at once using pd.concat(axis=1) instead. To get a de-fragmented frame, use `newframe = frame.copy()`\n",
      "  candidate_data_df[f\"candidate_{col}\"] = test_df[col].values[candidate_data_df[\"candidate_ix\"]]\n"
     ]
    },
    {
     "name": "stderr",
     "output_type": "stream",
     "text": [
      "C:\\Users\\nadare\\AppData\\Local\\Temp/ipykernel_22560/3284184554.py:47: PerformanceWarning: DataFrame is highly fragmented.  This is usually the result of calling `frame.insert` many times, which has poor performance.  Consider joining all columns at once using pd.concat(axis=1) instead. To get a de-fragmented frame, use `newframe = frame.copy()`\n",
      "  candidate_data_df[f\"candidate_{col}\"] = test_df[col].values[candidate_data_df[\"candidate_ix\"]]\n",
      "C:\\Users\\nadare\\AppData\\Local\\Temp/ipykernel_22560/3284184554.py:50: PerformanceWarning: DataFrame is highly fragmented.  This is usually the result of calling `frame.insert` many times, which has poor performance.  Consider joining all columns at once using pd.concat(axis=1) instead. To get a de-fragmented frame, use `newframe = frame.copy()`\n",
      "  candidate_data_df[f\"{col}_1d_dist\"] = np.abs(candidate_data_df[f\"query_{col}\"] - candidate_data_df[f\"candidate_{col}\"])\n",
      "C:\\Users\\nadare\\AppData\\Local\\Temp/ipykernel_22560/3284184554.py:50: PerformanceWarning: DataFrame is highly fragmented.  This is usually the result of calling `frame.insert` many times, which has poor performance.  Consider joining all columns at once using pd.concat(axis=1) instead. To get a de-fragmented frame, use `newframe = frame.copy()`\n",
      "  candidate_data_df[f\"{col}_1d_dist\"] = np.abs(candidate_data_df[f\"query_{col}\"] - candidate_data_df[f\"candidate_{col}\"])\n",
      "C:\\Users\\nadare\\AppData\\Local\\Temp/ipykernel_22560/3284184554.py:50: PerformanceWarning: DataFrame is highly fragmented.  This is usually the result of calling `frame.insert` many times, which has poor performance.  Consider joining all columns at once using pd.concat(axis=1) instead. To get a de-fragmented frame, use `newframe = frame.copy()`\n",
      "  candidate_data_df[f\"{col}_1d_dist\"] = np.abs(candidate_data_df[f\"query_{col}\"] - candidate_data_df[f\"candidate_{col}\"])\n",
      "C:\\Users\\nadare\\AppData\\Local\\Temp/ipykernel_22560/3284184554.py:50: PerformanceWarning: DataFrame is highly fragmented.  This is usually the result of calling `frame.insert` many times, which has poor performance.  Consider joining all columns at once using pd.concat(axis=1) instead. To get a de-fragmented frame, use `newframe = frame.copy()`\n",
      "  candidate_data_df[f\"{col}_1d_dist\"] = np.abs(candidate_data_df[f\"query_{col}\"] - candidate_data_df[f\"candidate_{col}\"])\n",
      "C:\\Users\\nadare\\AppData\\Local\\Temp/ipykernel_22560/3284184554.py:50: PerformanceWarning: DataFrame is highly fragmented.  This is usually the result of calling `frame.insert` many times, which has poor performance.  Consider joining all columns at once using pd.concat(axis=1) instead. To get a de-fragmented frame, use `newframe = frame.copy()`\n",
      "  candidate_data_df[f\"{col}_1d_dist\"] = np.abs(candidate_data_df[f\"query_{col}\"] - candidate_data_df[f\"candidate_{col}\"])\n",
      "C:\\Users\\nadare\\AppData\\Local\\Temp/ipykernel_22560/3284184554.py:50: PerformanceWarning: DataFrame is highly fragmented.  This is usually the result of calling `frame.insert` many times, which has poor performance.  Consider joining all columns at once using pd.concat(axis=1) instead. To get a de-fragmented frame, use `newframe = frame.copy()`\n",
      "  candidate_data_df[f\"{col}_1d_dist\"] = np.abs(candidate_data_df[f\"query_{col}\"] - candidate_data_df[f\"candidate_{col}\"])\n",
      "C:\\Users\\nadare\\AppData\\Local\\Temp/ipykernel_22560/3284184554.py:50: PerformanceWarning: DataFrame is highly fragmented.  This is usually the result of calling `frame.insert` many times, which has poor performance.  Consider joining all columns at once using pd.concat(axis=1) instead. To get a de-fragmented frame, use `newframe = frame.copy()`\n",
      "  candidate_data_df[f\"{col}_1d_dist\"] = np.abs(candidate_data_df[f\"query_{col}\"] - candidate_data_df[f\"candidate_{col}\"])\n",
      "C:\\Users\\nadare\\AppData\\Local\\Temp/ipykernel_22560/3284184554.py:50: PerformanceWarning: DataFrame is highly fragmented.  This is usually the result of calling `frame.insert` many times, which has poor performance.  Consider joining all columns at once using pd.concat(axis=1) instead. To get a de-fragmented frame, use `newframe = frame.copy()`\n",
      "  candidate_data_df[f\"{col}_1d_dist\"] = np.abs(candidate_data_df[f\"query_{col}\"] - candidate_data_df[f\"candidate_{col}\"])\n",
      "C:\\Users\\nadare\\AppData\\Local\\Temp/ipykernel_22560/3284184554.py:50: PerformanceWarning: DataFrame is highly fragmented.  This is usually the result of calling `frame.insert` many times, which has poor performance.  Consider joining all columns at once using pd.concat(axis=1) instead. To get a de-fragmented frame, use `newframe = frame.copy()`\n",
      "  candidate_data_df[f\"{col}_1d_dist\"] = np.abs(candidate_data_df[f\"query_{col}\"] - candidate_data_df[f\"candidate_{col}\"])\n",
      "C:\\Users\\nadare\\AppData\\Local\\Temp/ipykernel_22560/3284184554.py:50: PerformanceWarning: DataFrame is highly fragmented.  This is usually the result of calling `frame.insert` many times, which has poor performance.  Consider joining all columns at once using pd.concat(axis=1) instead. To get a de-fragmented frame, use `newframe = frame.copy()`\n",
      "  candidate_data_df[f\"{col}_1d_dist\"] = np.abs(candidate_data_df[f\"query_{col}\"] - candidate_data_df[f\"candidate_{col}\"])\n"
     ]
    }
   ],
   "source": [
    "len_col = [\"name_len\", \"n_name_len\", \"sp_name_split\"]\n",
    "category_tsp_cols = [\"city_pos_tsp_index\", \"state_pos_tsp_index\", \"geo_name_pos_tsp_index\"]\n",
    "category_col_names\n",
    "kmeans_labels_cols = ['hkmeans_labels', 'name_kmeans_labels', 'address_kmeans_labels', 'ix_values_kmeans_labels', \"mix_kmeans_labels\", \"category_kmeans_labels\", 'brand_kmeans_labels']#, \"brand_pid_kmeans_labels\"]\n",
    "kmeans_scores_cols = ['hkmeans_scores', 'name_kmeans_scores', 'address_kmeans_scores', 'ix_values_kmeans_scores', \"mix_kmeans_scores\", \"category_kmeans_scores\", 'brand_kmeans_scores']#, \"brand_pid_kmeans_scores\"]\n",
    "\n",
    "candidate_data_df[\"query_city_index\"] = test_df[\"pseudo_city_ix\"].values.astype(np.int16)[candidate_data_df[\"query_ix\"]]\n",
    "candidate_data_df[\"query_geo_name_index\"] = test_df[\"pseudo_geo_name_ix\"].values.astype(np.int16)[candidate_data_df[\"query_ix\"]]\n",
    "candidate_data_df[\"query_country_index\"] = test_df[\"country_ix\"].values.astype(np.int16)[candidate_data_df[\"query_ix\"]]\n",
    "candidate_data_df[\"query_state_index\"] = test_df[\"pseudo_state_ix\"].values.astype(np.int16)[candidate_data_df[\"query_ix\"]]\n",
    "\n",
    "#candidate_data_df[\"query_city_emb_tsp_index\"] = city_index_df[\"city_emb_tsp_index\"].values.astype(np.int16)[candidate_data_df[\"query_city_index\"]]\n",
    "#candidate_data_df[\"query_state_emb_tsp_index\"] = state_index_df[\"state_emb_tsp_index\"].values.astype(np.int16)[candidate_data_df[\"query_state_index\"]]\n",
    "candidate_data_df[\"query_city_pos_tsp_index\"] = city_index_df[\"city_pos_tsp_index\"].values.astype(np.int16)[candidate_data_df[\"query_city_index\"]]\n",
    "candidate_data_df[\"query_geo_name_pos_tsp_index\"] = geo_name_index_df[\"geo_name_pos_tsp_index\"].values.astype(np.int16)[candidate_data_df[\"query_geo_name_index\"]]\n",
    "candidate_data_df[\"query_state_pos_tsp_index\"] = state_index_df[\"state_pos_tsp_index\"].values.astype(np.int16)[candidate_data_df[\"query_state_index\"]]\n",
    "\n",
    "for col in kmeans_labels_cols:\n",
    "    candidate_data_df[f\"query_{col}\"] = test_df[col].values.astype(np.int16)[candidate_data_df[\"query_ix\"]]\n",
    "for col in kmeans_scores_cols:\n",
    "    candidate_data_df[f\"query_{col}\"] = test_df[col].values.astype(np.float32)[candidate_data_df[\"query_ix\"]]\n",
    "for col in category_col_names:\n",
    "    candidate_data_df[f\"query_{col}\"] = test_df[col].values[candidate_data_df[\"query_ix\"]]\n",
    "for col in len_col:\n",
    "    candidate_data_df[f\"query_{col}\"] = test_df[col].values[candidate_data_df[\"query_ix\"]]\n",
    "\n",
    "\n",
    "candidate_data_df[\"candidate_city_index\"] = test_df[\"pseudo_city_ix\"].values.astype(np.int16)[candidate_data_df[\"candidate_ix\"]]\n",
    "candidate_data_df[\"candidate_geo_name_index\"] = test_df[\"pseudo_geo_name_ix\"].values.astype(np.int16)[candidate_data_df[\"candidate_ix\"]]\n",
    "\n",
    "candidate_data_df[\"candidate_country_index\"] = test_df[\"country_ix\"].values.astype(np.int16)[candidate_data_df[\"candidate_ix\"]]\n",
    "candidate_data_df[\"candidate_state_index\"] = test_df[\"pseudo_state_ix\"].values.astype(np.int16)[candidate_data_df[\"candidate_ix\"]]\n",
    "\n",
    "#andidate_data_df[\"candidate_city_emb_tsp_index\"] = city_index_df[\"city_emb_tsp_index\"].values.astype(np.int16)[candidate_data_df[\"candidate_city_index\"]]\n",
    "#candidate_data_df[\"candidate_state_emb_tsp_index\"] = state_index_df[\"state_emb_tsp_index\"].values.astype(np.int16)[candidate_data_df[\"candidate_state_index\"]]\n",
    "candidate_data_df[\"candidate_city_pos_tsp_index\"] = city_index_df[\"city_pos_tsp_index\"].values.astype(np.int16)[candidate_data_df[\"candidate_city_index\"]]\n",
    "candidate_data_df[\"candidate_geo_name_pos_tsp_index\"] = geo_name_index_df[\"geo_name_pos_tsp_index\"].values.astype(np.int16)[candidate_data_df[\"candidate_geo_name_index\"]]\n",
    "candidate_data_df[\"candidate_state_pos_tsp_index\"] = state_index_df[\"state_pos_tsp_index\"].values.astype(np.int16)[candidate_data_df[\"candidate_state_index\"]]\n",
    "\n",
    "for col in kmeans_labels_cols:\n",
    "    candidate_data_df[f\"candidate_{col}\"] = test_df[col].values.astype(np.int16)[candidate_data_df[\"candidate_ix\"]]\n",
    "for col in kmeans_scores_cols:\n",
    "    candidate_data_df[f\"candidate_{col}\"] = test_df[col].values.astype(np.float32)[candidate_data_df[\"candidate_ix\"]]\n",
    "for col in category_col_names:\n",
    "    candidate_data_df[f\"candidate_{col}\"] = test_df[col].values[candidate_data_df[\"candidate_ix\"]]\n",
    "for col in len_col:\n",
    "    candidate_data_df[f\"candidate_{col}\"] = test_df[col].values[candidate_data_df[\"candidate_ix\"]]\n",
    "\n",
    "for col in kmeans_labels_cols + category_tsp_cols:\n",
    "    candidate_data_df[f\"{col}_1d_dist\"] = np.abs(candidate_data_df[f\"query_{col}\"] - candidate_data_df[f\"candidate_{col}\"])"
   ]
  },
  {
   "cell_type": "code",
   "execution_count": 89,
   "metadata": {
    "ExecuteTime": {
     "end_time": "2022-07-04T16:00:14.070124Z",
     "start_time": "2022-07-04T16:00:14.052121Z"
    },
    "execution": {
     "iopub.execute_input": "2022-06-21T01:57:04.536441Z",
     "iopub.status.busy": "2022-06-21T01:57:04.535702Z",
     "iopub.status.idle": "2022-06-21T01:57:04.543976Z",
     "shell.execute_reply": "2022-06-21T01:57:04.54293Z",
     "shell.execute_reply.started": "2022-06-21T01:57:04.536399Z"
    }
   },
   "outputs": [
    {
     "name": "stdout",
     "output_type": "stream",
     "text": [
      "query_city_pos_tsp_index\n",
      "query_geo_name_pos_tsp_index\n",
      "query_state_pos_tsp_index\n",
      "query_hkmeans_labels\n",
      "query_name_kmeans_labels\n",
      "query_address_kmeans_labels\n",
      "query_ix_values_kmeans_labels\n",
      "query_mix_kmeans_labels\n",
      "query_category_kmeans_labels\n",
      "query_brand_kmeans_labels\n",
      "query_category_frequent_min_tsp\n",
      "query_category_frequent_max_tsp\n",
      "candidate_city_pos_tsp_index\n",
      "candidate_geo_name_pos_tsp_index\n",
      "candidate_state_pos_tsp_index\n",
      "candidate_hkmeans_labels\n",
      "candidate_name_kmeans_labels\n",
      "candidate_address_kmeans_labels\n",
      "candidate_ix_values_kmeans_labels\n",
      "candidate_mix_kmeans_labels\n",
      "candidate_category_kmeans_labels\n",
      "candidate_brand_kmeans_labels\n",
      "candidate_category_frequent_min_tsp\n",
      "candidate_category_frequent_max_tsp\n"
     ]
    }
   ],
   "source": [
    "feature_cols = ['name_delta_len',\n",
    " 'name_delta_words',\n",
    " 'name_gesh',\n",
    " 'name_leven',\n",
    " 'name_nleven',\n",
    " 'name_jaro',\n",
    " 'sp_name_delta_len',\n",
    " 'sp_name_delta_words',\n",
    " 'sp_name_gesh',\n",
    " 'sp_name_leven',\n",
    " 'sp_name_nleven',\n",
    " 'sp_name_jaro',\n",
    " 'name_normalized_delta_len',\n",
    " 'name_normalized_delta_words',\n",
    " 'name_normalized_gesh',\n",
    " 'name_normalized_leven',\n",
    " 'name_normalized_nleven',\n",
    " 'name_normalized_jaro',\n",
    " 'address_delta_len',\n",
    " 'address_delta_words',\n",
    " 'address_gesh',\n",
    " 'address_leven',\n",
    " 'address_nleven',\n",
    " 'address_jaro',\n",
    " 'address_normalized_delta_len',\n",
    " 'address_normalized_delta_words',\n",
    " 'address_normalized_gesh',\n",
    " 'address_normalized_leven',\n",
    " 'address_normalized_nleven',\n",
    " 'address_normalized_jaro',\n",
    " 'phone_national_number_match',\n",
    " 'url_match',\n",
    " 'url_netloc_match',\n",
    " 'name_numbers_max',\n",
    " 'name_numbers_min',\n",
    " 'name_numbers_gesh',\n",
    " 'address_numbers_max',\n",
    " 'address_numbers_min',\n",
    " 'address_numbers_gesh',\n",
    " 'rouge_1_name_word_f',\n",
    " 'rouge_1_name_word_p_rate',\n",
    " 'rouge_1_name_word_r_rate',\n",
    " 'rouge_1_name_word_p_cnt',\n",
    " 'rouge_1_name_word_r_cnt',\n",
    " 'rouge_2_name_word_f',\n",
    " 'rouge_2_name_word_p_rate',\n",
    " 'rouge_2_name_word_r_rate',\n",
    " 'rouge_2_name_word_p_cnt',\n",
    " 'rouge_2_name_word_r_cnt',\n",
    " 'rouge_1_name_char_f',\n",
    " 'rouge_1_name_char_p_rate',\n",
    " 'rouge_1_name_char_r_rate',\n",
    " 'rouge_1_name_char_p_cnt',\n",
    " 'rouge_1_name_char_r_cnt',\n",
    " 'rouge_2_name_char_f',\n",
    " 'rouge_2_name_char_p_rate',\n",
    " 'rouge_2_name_char_r_rate',\n",
    " 'rouge_2_name_char_p_cnt',\n",
    " 'rouge_2_name_char_r_cnt',\n",
    " 'rouge_l_name_f',\n",
    " 'rouge_l_name_p_rate',\n",
    " 'rouge_l_name_r_rate',\n",
    " 'rouge_l_name_p_cnt',\n",
    " 'rouge_l_name_r_cnt',\n",
    " 'rouge_l_n_name_f',\n",
    " 'rouge_l_n_name_p_rate',\n",
    " 'rouge_l_n_name_r_rate',\n",
    " 'rouge_l_n_name_p_cnt',\n",
    " 'rouge_l_n_name_r_cnt',\n",
    " 'rouge_l_address_f',\n",
    " 'rouge_l_address_p_rate',\n",
    " 'rouge_l_address_r_rate',\n",
    " 'rouge_l_address_p_cnt',\n",
    " 'rouge_l_address_r_cnt',\n",
    " 'rouge_l_n_address_f',\n",
    " 'rouge_l_n_address_p_rate',\n",
    " 'rouge_l_n_address_r_rate',\n",
    " 'rouge_l_n_address_p_cnt',\n",
    " 'rouge_l_n_address_r_cnt',\n",
    " 'distance',\n",
    " 'sp_name_word_sparse_sim',\n",
    " 'n_name_word_sparse_sim',\n",
    " 'name_char_sparse_sim',\n",
    " 'name_cossim',\n",
    " 'address_cossim',\n",
    " 'category_cossim',\n",
    " 'mix_cossim',\n",
    " 'query_city_index',\n",
    " 'query_geo_name_index',\n",
    " 'query_country_index',\n",
    " 'query_state_index',\n",
    " 'query_city_pos_tsp_index',\n",
    " 'query_geo_name_pos_tsp_index',\n",
    " 'query_state_pos_tsp_index',\n",
    " 'query_hkmeans_labels',\n",
    " 'query_name_kmeans_labels',\n",
    " 'query_address_kmeans_labels',\n",
    " 'query_ix_values_kmeans_labels',\n",
    " 'query_mix_kmeans_labels',\n",
    " 'query_category_kmeans_labels',\n",
    " 'query_brand_kmeans_labels',\n",
    " 'query_hkmeans_scores',\n",
    " 'query_name_kmeans_scores',\n",
    " 'query_address_kmeans_scores',\n",
    " 'query_ix_values_kmeans_scores',\n",
    " 'query_mix_kmeans_scores',\n",
    " 'query_category_kmeans_scores',\n",
    " 'query_brand_kmeans_scores',\n",
    " 'query_category_frequent_min',\n",
    " 'query_category_frequent_min_tsp',\n",
    " 'query_category_frequent_max',\n",
    " 'query_category_frequent_max_tsp',\n",
    " 'query_category_count',\n",
    " 'query_category_tsp_delta',\n",
    " 'query_category_tsp_mean',\n",
    " 'query_name_len',\n",
    " 'query_n_name_len',\n",
    " 'query_sp_name_split',\n",
    " 'candidate_city_index',\n",
    " 'candidate_geo_name_index',\n",
    " 'candidate_country_index',\n",
    " 'candidate_state_index',\n",
    " 'candidate_city_pos_tsp_index',\n",
    " 'candidate_geo_name_pos_tsp_index',\n",
    " 'candidate_state_pos_tsp_index',\n",
    " 'candidate_hkmeans_labels',\n",
    " 'candidate_name_kmeans_labels',\n",
    " 'candidate_address_kmeans_labels',\n",
    " 'candidate_ix_values_kmeans_labels',\n",
    " 'candidate_mix_kmeans_labels',\n",
    " 'candidate_category_kmeans_labels',\n",
    " 'candidate_brand_kmeans_labels',\n",
    " 'candidate_hkmeans_scores',\n",
    " 'candidate_name_kmeans_scores',\n",
    " 'candidate_address_kmeans_scores',\n",
    " 'candidate_ix_values_kmeans_scores',\n",
    " 'candidate_mix_kmeans_scores',\n",
    " 'candidate_category_kmeans_scores',\n",
    " 'candidate_brand_kmeans_scores',\n",
    " 'candidate_category_frequent_min',\n",
    " 'candidate_category_frequent_min_tsp',\n",
    " 'candidate_category_frequent_max',\n",
    " 'candidate_category_frequent_max_tsp',\n",
    " 'candidate_category_count',\n",
    " 'candidate_category_tsp_delta',\n",
    " 'candidate_category_tsp_mean',\n",
    " 'candidate_name_len',\n",
    " 'candidate_n_name_len',\n",
    " 'candidate_sp_name_split',\n",
    " 'hkmeans_labels_1d_dist',\n",
    " 'name_kmeans_labels_1d_dist',\n",
    " 'address_kmeans_labels_1d_dist',\n",
    " 'ix_values_kmeans_labels_1d_dist',\n",
    " 'mix_kmeans_labels_1d_dist',\n",
    " 'category_kmeans_labels_1d_dist',\n",
    " 'brand_kmeans_labels_1d_dist',\n",
    " 'city_pos_tsp_index_1d_dist',\n",
    " 'state_pos_tsp_index_1d_dist',\n",
    " 'geo_name_pos_tsp_index_1d_dist']\n",
    "\n",
    "max_bin_by_feature = []\n",
    "for col in feature_cols:\n",
    "    if (col.endswith(\"kmeans_labels\") or col.endswith(\"pos_tsp_index\")) and col.startswith(\"query\"):\n",
    "        print(col)\n",
    "        max_bin_by_feature.append(255*4)\n",
    "    elif (col.endswith(\"kmeans_labels\") or col.endswith(\"pos_tsp_index\")) and col.startswith(\"candidate\"):\n",
    "        print(col)\n",
    "        max_bin_by_feature.append(255*2) \n",
    "    elif col.endswith(\"_category_frequent_min_tsp\") or col.endswith(\"_category_frequent_max_tsp\"):\n",
    "        print(col)\n",
    "        max_bin_by_feature.append(255*2)\n",
    "    else:\n",
    "        max_bin_by_feature.append(255)"
   ]
  },
  {
   "cell_type": "code",
   "execution_count": 90,
   "metadata": {
    "ExecuteTime": {
     "end_time": "2022-07-04T16:00:59.167797Z",
     "start_time": "2022-07-04T16:00:42.230330Z"
    }
   },
   "outputs": [],
   "source": [
    "pd.to_pickle(candidate_data_df, \"candidate_df_pred31_rank32.pickle\", protocol=4)"
   ]
  },
  {
   "cell_type": "code",
   "execution_count": 91,
   "metadata": {
    "ExecuteTime": {
     "end_time": "2022-07-04T16:01:03.811279Z",
     "start_time": "2022-07-04T16:00:59.168800Z"
    }
   },
   "outputs": [],
   "source": [
    "pd.to_pickle(test_df, \"test_df_pred31.pickle\", protocol=4)"
   ]
  },
  {
   "cell_type": "code",
   "execution_count": 84,
   "metadata": {
    "ExecuteTime": {
     "end_time": "2022-07-04T10:14:56.739632Z",
     "start_time": "2022-07-04T10:14:56.725156Z"
    }
   },
   "outputs": [],
   "source": [
    "#candidate_data_df = pd.read_pickle(\"candidate_under_rank20.pickle\")"
   ]
  },
  {
   "cell_type": "code",
   "execution_count": 85,
   "metadata": {
    "ExecuteTime": {
     "end_time": "2022-07-04T10:14:56.755637Z",
     "start_time": "2022-07-04T10:14:56.741632Z"
    }
   },
   "outputs": [],
   "source": [
    "#test_df.to_pickle(\"../processed/processed_test.pickle\")"
   ]
  },
  {
   "cell_type": "code",
   "execution_count": 88,
   "metadata": {
    "ExecuteTime": {
     "end_time": "2022-07-04T15:59:31.373434Z",
     "start_time": "2022-07-04T15:59:31.369435Z"
    }
   },
   "outputs": [
    {
     "data": {
      "text/plain": [
       "['query_ix',\n",
       " 'candidate_ix',\n",
       " 'name_delta_len',\n",
       " 'name_delta_words',\n",
       " 'name_gesh',\n",
       " 'name_leven',\n",
       " 'name_nleven',\n",
       " 'name_jaro',\n",
       " 'sp_name_delta_len',\n",
       " 'sp_name_delta_words',\n",
       " 'sp_name_gesh',\n",
       " 'sp_name_leven',\n",
       " 'sp_name_nleven',\n",
       " 'sp_name_jaro',\n",
       " 'name_normalized_delta_len',\n",
       " 'name_normalized_delta_words',\n",
       " 'name_normalized_gesh',\n",
       " 'name_normalized_leven',\n",
       " 'name_normalized_nleven',\n",
       " 'name_normalized_jaro',\n",
       " 'address_delta_len',\n",
       " 'address_delta_words',\n",
       " 'address_gesh',\n",
       " 'address_leven',\n",
       " 'address_nleven',\n",
       " 'address_jaro',\n",
       " 'address_normalized_delta_len',\n",
       " 'address_normalized_delta_words',\n",
       " 'address_normalized_gesh',\n",
       " 'address_normalized_leven',\n",
       " 'address_normalized_nleven',\n",
       " 'address_normalized_jaro',\n",
       " 'phone_national_number_match',\n",
       " 'url_match',\n",
       " 'url_netloc_match',\n",
       " 'name_numbers_max',\n",
       " 'name_numbers_min',\n",
       " 'name_numbers_gesh',\n",
       " 'address_numbers_max',\n",
       " 'address_numbers_min',\n",
       " 'address_numbers_gesh',\n",
       " 'rouge_1_name_word_f',\n",
       " 'rouge_1_name_word_p_rate',\n",
       " 'rouge_1_name_word_r_rate',\n",
       " 'rouge_1_name_word_p_cnt',\n",
       " 'rouge_1_name_word_r_cnt',\n",
       " 'rouge_2_name_word_f',\n",
       " 'rouge_2_name_word_p_rate',\n",
       " 'rouge_2_name_word_r_rate',\n",
       " 'rouge_2_name_word_p_cnt',\n",
       " 'rouge_2_name_word_r_cnt',\n",
       " 'rouge_1_name_char_f',\n",
       " 'rouge_1_name_char_p_rate',\n",
       " 'rouge_1_name_char_r_rate',\n",
       " 'rouge_1_name_char_p_cnt',\n",
       " 'rouge_1_name_char_r_cnt',\n",
       " 'rouge_2_name_char_f',\n",
       " 'rouge_2_name_char_p_rate',\n",
       " 'rouge_2_name_char_r_rate',\n",
       " 'rouge_2_name_char_p_cnt',\n",
       " 'rouge_2_name_char_r_cnt',\n",
       " 'rouge_l_name_f',\n",
       " 'rouge_l_name_p_rate',\n",
       " 'rouge_l_name_r_rate',\n",
       " 'rouge_l_name_p_cnt',\n",
       " 'rouge_l_name_r_cnt',\n",
       " 'rouge_l_n_name_f',\n",
       " 'rouge_l_n_name_p_rate',\n",
       " 'rouge_l_n_name_r_rate',\n",
       " 'rouge_l_n_name_p_cnt',\n",
       " 'rouge_l_n_name_r_cnt',\n",
       " 'rouge_l_address_f',\n",
       " 'rouge_l_address_p_rate',\n",
       " 'rouge_l_address_r_rate',\n",
       " 'rouge_l_address_p_cnt',\n",
       " 'rouge_l_address_r_cnt',\n",
       " 'rouge_l_n_address_f',\n",
       " 'rouge_l_n_address_p_rate',\n",
       " 'rouge_l_n_address_r_rate',\n",
       " 'rouge_l_n_address_p_cnt',\n",
       " 'rouge_l_n_address_r_cnt',\n",
       " 'distance',\n",
       " 'sp_name_word_sparse_sim',\n",
       " 'n_name_word_sparse_sim',\n",
       " 'name_char_sparse_sim',\n",
       " 'name_cossim',\n",
       " 'address_cossim',\n",
       " 'category_cossim',\n",
       " 'mix_cossim',\n",
       " 'query_city_index',\n",
       " 'query_geo_name_index',\n",
       " 'query_country_index',\n",
       " 'query_state_index',\n",
       " 'query_city_pos_tsp_index',\n",
       " 'query_geo_name_pos_tsp_index',\n",
       " 'query_state_pos_tsp_index',\n",
       " 'query_hkmeans_labels',\n",
       " 'query_name_kmeans_labels',\n",
       " 'query_address_kmeans_labels',\n",
       " 'query_ix_values_kmeans_labels',\n",
       " 'query_mix_kmeans_labels',\n",
       " 'query_category_kmeans_labels',\n",
       " 'query_brand_kmeans_labels',\n",
       " 'query_hkmeans_scores',\n",
       " 'query_name_kmeans_scores',\n",
       " 'query_address_kmeans_scores',\n",
       " 'query_ix_values_kmeans_scores',\n",
       " 'query_mix_kmeans_scores',\n",
       " 'query_category_kmeans_scores',\n",
       " 'query_brand_kmeans_scores',\n",
       " 'query_category_frequent_min',\n",
       " 'query_category_frequent_min_tsp',\n",
       " 'query_category_frequent_max',\n",
       " 'query_category_frequent_max_tsp',\n",
       " 'query_category_count',\n",
       " 'query_category_tsp_delta',\n",
       " 'query_category_tsp_mean',\n",
       " 'query_name_len',\n",
       " 'query_n_name_len',\n",
       " 'query_sp_name_split',\n",
       " 'candidate_city_index',\n",
       " 'candidate_geo_name_index',\n",
       " 'candidate_country_index',\n",
       " 'candidate_state_index',\n",
       " 'candidate_city_pos_tsp_index',\n",
       " 'candidate_geo_name_pos_tsp_index',\n",
       " 'candidate_state_pos_tsp_index',\n",
       " 'candidate_hkmeans_labels',\n",
       " 'candidate_name_kmeans_labels',\n",
       " 'candidate_address_kmeans_labels',\n",
       " 'candidate_ix_values_kmeans_labels',\n",
       " 'candidate_mix_kmeans_labels',\n",
       " 'candidate_category_kmeans_labels',\n",
       " 'candidate_brand_kmeans_labels',\n",
       " 'candidate_hkmeans_scores',\n",
       " 'candidate_name_kmeans_scores',\n",
       " 'candidate_address_kmeans_scores',\n",
       " 'candidate_ix_values_kmeans_scores',\n",
       " 'candidate_mix_kmeans_scores',\n",
       " 'candidate_category_kmeans_scores',\n",
       " 'candidate_brand_kmeans_scores',\n",
       " 'candidate_category_frequent_min',\n",
       " 'candidate_category_frequent_min_tsp',\n",
       " 'candidate_category_frequent_max',\n",
       " 'candidate_category_frequent_max_tsp',\n",
       " 'candidate_category_count',\n",
       " 'candidate_category_tsp_delta',\n",
       " 'candidate_category_tsp_mean',\n",
       " 'candidate_name_len',\n",
       " 'candidate_n_name_len',\n",
       " 'candidate_sp_name_split',\n",
       " 'hkmeans_labels_1d_dist',\n",
       " 'name_kmeans_labels_1d_dist',\n",
       " 'address_kmeans_labels_1d_dist',\n",
       " 'ix_values_kmeans_labels_1d_dist',\n",
       " 'mix_kmeans_labels_1d_dist',\n",
       " 'category_kmeans_labels_1d_dist',\n",
       " 'brand_kmeans_labels_1d_dist',\n",
       " 'city_pos_tsp_index_1d_dist',\n",
       " 'state_pos_tsp_index_1d_dist',\n",
       " 'geo_name_pos_tsp_index_1d_dist']"
      ]
     },
     "execution_count": 88,
     "metadata": {},
     "output_type": "execute_result"
    }
   ],
   "source": [
    "candidate_data_df.columns.tolist()"
   ]
  },
  {
   "cell_type": "code",
   "execution_count": 92,
   "metadata": {
    "ExecuteTime": {
     "end_time": "2022-07-04T16:01:13.177117Z",
     "start_time": "2022-07-04T16:01:11.902118Z"
    }
   },
   "outputs": [],
   "source": [
    "from sklearn.model_selection import KFold\n",
    "test_df[\"pid\"] = test_df[\"point_of_interest\"].map({v: i for i, v in enumerate(test_df[\"point_of_interest\"].unique())})\n",
    "\n",
    "group = -np.ones(len(test_df), dtype=\"int32\")\n",
    "g = 0\n",
    "for g, (dev_p_ids, val_p_ids) in enumerate(KFold(n_splits=5, shuffle=True, random_state=42).split(test_df[\"pid\"].unique())):\n",
    "    ix = test_df[\"pid\"].isin(val_p_ids)\n",
    "    group[ix] = g\n",
    "test_df[\"group\"] = group\n",
    "\n",
    "test_df[\"pid\"] = test_df[\"point_of_interest\"].map({v: i for i, v in enumerate(test_df[\"point_of_interest\"].unique())})\n"
   ]
  },
  {
   "cell_type": "code",
   "execution_count": 94,
   "metadata": {
    "ExecuteTime": {
     "end_time": "2022-07-04T16:02:31.943819Z",
     "start_time": "2022-07-04T16:01:42.373282Z"
    }
   },
   "outputs": [],
   "source": [
    "test_df[\"true_count\"] = test_df.groupby(\"pid\")[\"ix\"].transform(\"count\")\n",
    "candidate_data_df[\"label\"] = test_df[\"pid\"][candidate_data_df[\"query_ix\"].values].values == test_df[\"pid\"][candidate_data_df[\"candidate_ix\"].values].values\n",
    "candidate_data_df[\"index\"] = candidate_data_df.reset_index(drop=True).index\n",
    "candidate_data_df[\"rank\"] = candidate_data_df.groupby(\"query_ix\")[\"index\"].rank(\"first\")"
   ]
  },
  {
   "cell_type": "code",
   "execution_count": 95,
   "metadata": {
    "ExecuteTime": {
     "end_time": "2022-07-04T16:03:58.914784Z",
     "start_time": "2022-07-04T16:03:58.893785Z"
    }
   },
   "outputs": [],
   "source": [
    "dev_ixs = np.where(test_df[\"group\"] != 0)[0]\n",
    "val_ixs = np.where(test_df[\"group\"] == 0)[0]"
   ]
  },
  {
   "cell_type": "code",
   "execution_count": 96,
   "metadata": {
    "ExecuteTime": {
     "end_time": "2022-07-04T16:03:59.244549Z",
     "start_time": "2022-07-04T16:03:59.231551Z"
    }
   },
   "outputs": [],
   "source": [
    "from itertools import groupby\n",
    "\n",
    "class UnionFind():\n",
    "    \n",
    "    def __init__(self, N):\n",
    "        self.parent = [-1] * N\n",
    "        self.size = [1] * N\n",
    "        \n",
    "    def find(self, x):\n",
    "        p = self.parent[x]\n",
    "        if p == -1:\n",
    "            return x\n",
    "        p = self.find(p)\n",
    "        self.parent[x] = p\n",
    "        return p\n",
    "    \n",
    "    def unite(self, x, y):\n",
    "        px = self.find(x)\n",
    "        py = self.find(y)\n",
    "        if px == py:\n",
    "            return\n",
    "        if self.size[px] < self.size[py]:\n",
    "            px, py = py, px\n",
    "        self.size[px] += self.size[py]\n",
    "        self.parent[py] = px\n",
    "\n"
   ]
  },
  {
   "cell_type": "code",
   "execution_count": 90,
   "metadata": {
    "ExecuteTime": {
     "end_time": "2022-07-04T10:15:07.671481Z",
     "start_time": "2022-07-04T10:15:07.665483Z"
    }
   },
   "outputs": [],
   "source": [
    "#pd.to_pickle(val_data_df[[\"query_ix\", \"candidate_ix\", \"label\", \"pred\", \"rank\"]], \"../processed/pred_valid.pickle\")"
   ]
  },
  {
   "cell_type": "code",
   "execution_count": 91,
   "metadata": {
    "ExecuteTime": {
     "end_time": "2022-07-04T10:15:29.486317Z",
     "start_time": "2022-07-04T10:15:11.127333Z"
    }
   },
   "outputs": [
    {
     "name": "stderr",
     "output_type": "stream",
     "text": [
      "C:\\Users\\nadare\\AppData\\Local\\Temp/ipykernel_19768/1456766201.py:8: SettingWithCopyWarning: \n",
      "A value is trying to be set on a copy of a slice from a DataFrame.\n",
      "Try using .loc[row_indexer,col_indexer] = value instead\n",
      "\n",
      "See the caveats in the documentation: https://pandas.pydata.org/pandas-docs/stable/user_guide/indexing.html#returning-a-view-versus-a-copy\n",
      "  dev_data_df[\"true_count\"] = test_df[\"true_count\"].values[dev_data_df[\"query_ix\"].values]\n",
      "C:\\Users\\nadare\\AppData\\Local\\Temp/ipykernel_19768/1456766201.py:10: SettingWithCopyWarning: \n",
      "A value is trying to be set on a copy of a slice from a DataFrame.\n",
      "Try using .loc[row_indexer,col_indexer] = value instead\n",
      "\n",
      "See the caveats in the documentation: https://pandas.pydata.org/pandas-docs/stable/user_guide/indexing.html#returning-a-view-versus-a-copy\n",
      "  dev_data_df[\"weight\"] = np.where(dev_data_df[\"label\"],\n",
      "C:\\Users\\nadare\\AppData\\Local\\Temp/ipykernel_19768/1456766201.py:13: SettingWithCopyWarning: \n",
      "A value is trying to be set on a copy of a slice from a DataFrame.\n",
      "Try using .loc[row_indexer,col_indexer] = value instead\n",
      "\n",
      "See the caveats in the documentation: https://pandas.pydata.org/pandas-docs/stable/user_guide/indexing.html#returning-a-view-versus-a-copy\n",
      "  dev_data_df[\"weight\"] = dev_data_df[\"weight\"] / dev_data_df[\"weight\"].mean()\n"
     ]
    }
   ],
   "source": [
    "dev_loc = (candidate_data_df[\"query_ix\"].isin(dev_ixs) & (~candidate_data_df[\"candidate_ix\"].isin(val_ixs)) & (candidate_data_df[\"rank\"] <= 32))\n",
    "val_loc = (candidate_data_df[\"query_ix\"].isin(val_ixs)  &\n",
    "           (candidate_data_df[\"rank\"] <= 32))\n",
    "\n",
    "\n",
    "dev_data_df = candidate_data_df[dev_loc]\n",
    "val_data_df = candidate_data_df[val_loc]\n",
    "dev_data_df[\"true_count\"] = test_df[\"true_count\"].values[dev_data_df[\"query_ix\"].values]\n",
    "\n",
    "dev_data_df[\"weight\"] = np.where(dev_data_df[\"label\"],\n",
    "                                 1 - (dev_data_df[\"true_count\"] - 1) / dev_data_df[\"true_count\"],\n",
    "                                 1 - (dev_data_df[\"true_count\"]) / (dev_data_df[\"true_count\"]+1))\n",
    "dev_data_df[\"weight\"] = dev_data_df[\"weight\"] / dev_data_df[\"weight\"].mean()"
   ]
  },
  {
   "cell_type": "code",
   "execution_count": 92,
   "metadata": {
    "ExecuteTime": {
     "end_time": "2022-07-04T10:15:29.532486Z",
     "start_time": "2022-07-04T10:15:29.487600Z"
    }
   },
   "outputs": [
    {
     "name": "stdout",
     "output_type": "stream",
     "text": [
      "<class 'pandas.core.frame.DataFrame'>\n",
      "Int64Index: 23591639 entries, 1 to 3644191\n",
      "Columns: 166 entries, query_ix to weight\n",
      "dtypes: bool(1), float16(2), float32(84), float64(2), int16(73), int32(2), int64(2)\n",
      "memory usage: 11.8 GB\n"
     ]
    }
   ],
   "source": [
    "dev_data_df.info()"
   ]
  },
  {
   "cell_type": "code",
   "execution_count": 93,
   "metadata": {
    "ExecuteTime": {
     "end_time": "2022-07-04T11:19:52.914460Z",
     "start_time": "2022-07-04T10:15:29.533504Z"
    }
   },
   "outputs": [
    {
     "name": "stderr",
     "output_type": "stream",
     "text": [
      "C:\\Users\\nadare\\anaconda3\\lib\\site-packages\\lightgbm\\engine.py:181: UserWarning: 'early_stopping_rounds' argument is deprecated and will be removed in a future release of LightGBM. Pass 'early_stopping()' callback via 'callbacks' argument instead.\n",
      "  _log_warning(\"'early_stopping_rounds' argument is deprecated and will be removed in a future release of LightGBM. \"\n",
      "C:\\Users\\nadare\\anaconda3\\lib\\site-packages\\lightgbm\\engine.py:239: UserWarning: 'verbose_eval' argument is deprecated and will be removed in a future release of LightGBM. Pass 'log_evaluation()' callback via 'callbacks' argument instead.\n",
      "  _log_warning(\"'verbose_eval' argument is deprecated and will be removed in a future release of LightGBM. \"\n"
     ]
    },
    {
     "name": "stdout",
     "output_type": "stream",
     "text": [
      "[LightGBM] [Info] Number of positive: 976379, number of negative: 22615260\n",
      "[LightGBM] [Warning] Auto-choosing col-wise multi-threading, the overhead of testing was 3.563406 seconds.\n",
      "You can set `force_col_wise=true` to remove the overhead.\n",
      "[LightGBM] [Info] Total Bins 54256\n",
      "[LightGBM] [Info] Number of data points in the train set: 23591639, number of used features: 159\n",
      "[LightGBM] [Info] [binary:BoostFromScore]: pavg=0.033624 -> initscore=-3.358321\n",
      "[LightGBM] [Info] Start training from score -3.358321\n",
      "Training until validation scores don't improve for 10 rounds\n",
      "[10]\ttraining's auc: 0.992362\tvalid_1's auc: 0.976727\n",
      "[20]\ttraining's auc: 0.994324\tvalid_1's auc: 0.979876\n",
      "[30]\ttraining's auc: 0.995545\tvalid_1's auc: 0.981736\n",
      "[40]\ttraining's auc: 0.996483\tvalid_1's auc: 0.98306\n",
      "[50]\ttraining's auc: 0.997182\tvalid_1's auc: 0.983958\n",
      "[60]\ttraining's auc: 0.997724\tvalid_1's auc: 0.984714\n",
      "[70]\ttraining's auc: 0.998152\tvalid_1's auc: 0.985295\n",
      "[80]\ttraining's auc: 0.998483\tvalid_1's auc: 0.985688\n",
      "[90]\ttraining's auc: 0.99876\tvalid_1's auc: 0.986003\n",
      "[100]\ttraining's auc: 0.99898\tvalid_1's auc: 0.986281\n",
      "[110]\ttraining's auc: 0.999168\tvalid_1's auc: 0.986511\n",
      "[120]\ttraining's auc: 0.999326\tvalid_1's auc: 0.986685\n",
      "[130]\ttraining's auc: 0.999452\tvalid_1's auc: 0.986855\n",
      "[140]\ttraining's auc: 0.999557\tvalid_1's auc: 0.986987\n",
      "[150]\ttraining's auc: 0.999644\tvalid_1's auc: 0.987131\n",
      "[160]\ttraining's auc: 0.999717\tvalid_1's auc: 0.987235\n",
      "[170]\ttraining's auc: 0.999779\tvalid_1's auc: 0.98735\n",
      "[180]\ttraining's auc: 0.999829\tvalid_1's auc: 0.98747\n",
      "[190]\ttraining's auc: 0.99987\tvalid_1's auc: 0.987514\n",
      "[200]\ttraining's auc: 0.9999\tvalid_1's auc: 0.98755\n",
      "[210]\ttraining's auc: 0.999923\tvalid_1's auc: 0.987601\n",
      "[220]\ttraining's auc: 0.999941\tvalid_1's auc: 0.987669\n",
      "[230]\ttraining's auc: 0.999955\tvalid_1's auc: 0.98772\n",
      "[240]\ttraining's auc: 0.999965\tvalid_1's auc: 0.987779\n",
      "[250]\ttraining's auc: 0.999973\tvalid_1's auc: 0.987806\n",
      "[260]\ttraining's auc: 0.999979\tvalid_1's auc: 0.98784\n",
      "[270]\ttraining's auc: 0.999984\tvalid_1's auc: 0.987909\n",
      "[280]\ttraining's auc: 0.999987\tvalid_1's auc: 0.987942\n",
      "[290]\ttraining's auc: 0.999989\tvalid_1's auc: 0.987985\n",
      "[300]\ttraining's auc: 0.999991\tvalid_1's auc: 0.988022\n",
      "[310]\ttraining's auc: 0.999993\tvalid_1's auc: 0.988044\n",
      "[320]\ttraining's auc: 0.999994\tvalid_1's auc: 0.988083\n",
      "[330]\ttraining's auc: 0.999995\tvalid_1's auc: 0.988118\n",
      "[340]\ttraining's auc: 0.999996\tvalid_1's auc: 0.988154\n",
      "[350]\ttraining's auc: 0.999997\tvalid_1's auc: 0.988146\n",
      "Early stopping, best iteration is:\n",
      "[341]\ttraining's auc: 0.999996\tvalid_1's auc: 0.988156\n"
     ]
    },
    {
     "name": "stderr",
     "output_type": "stream",
     "text": [
      "C:\\Users\\nadare\\AppData\\Local\\Temp/ipykernel_19768/3774743933.py:33: SettingWithCopyWarning: \n",
      "A value is trying to be set on a copy of a slice from a DataFrame.\n",
      "Try using .loc[row_indexer,col_indexer] = value instead\n",
      "\n",
      "See the caveats in the documentation: https://pandas.pydata.org/pandas-docs/stable/user_guide/indexing.html#returning-a-view-versus-a-copy\n",
      "  val_data_df[\"pred\"] = lgb_model.predict(val_data_df[feature_cols])\n"
     ]
    }
   ],
   "source": [
    "import lightgbm as lgb\n",
    "\n",
    "lgb_params = {\n",
    "    \"objective\" : \"binary\",\n",
    "    \"metric\" : \"auc\",\n",
    "    \"boosting\": 'gbdt',\n",
    "    \"max_depth\" : -1,\n",
    "    \"num_leaves\" : 2**12 - 1,\n",
    "    \"learning_rate\" : 0.1,\n",
    "    \"bagging_freq\": 1,\n",
    "    \"is_unbalance\": True,\n",
    "    \"max_bin_by_feature\": max_bin_by_feature,\n",
    "     \"bin_construct_sample_cnt\": 200000,\n",
    "    \"lambda_l1\": 1.,\n",
    "    \"lambda_l2\": 1.,\n",
    "    \"bagging_fraction\" : 0.9,\n",
    "    \"feature_fraction\" : 0.8,\n",
    "    \"seed\": 0}\n",
    "\n",
    "dev_data = lgb.Dataset(dev_data_df[feature_cols], label=dev_data_df[\"label\"].astype(np.float32), weight=dev_data_df[\"weight\"].values)\n",
    "val_data = lgb.Dataset(val_data_df[feature_cols], label=val_data_df[\"label\"].astype(np.float32))\n",
    "\n",
    "lgb_model = lgb.train(lgb_params,\n",
    "                      dev_data,\n",
    "                      100000,\n",
    "                      valid_sets = [dev_data, val_data],\n",
    "                      early_stopping_rounds=10,\n",
    "                      verbose_eval = 10\n",
    "                      )\n",
    "f_df = pd.DataFrame(lgb_model.feature_importance(importance_type=\"gain\"), index=feature_cols).sort_values(by=0, ascending=False)\n",
    "\n",
    "\n",
    "val_data_df[\"pred\"] = lgb_model.predict(val_data_df[feature_cols])"
   ]
  },
  {
   "cell_type": "code",
   "execution_count": 94,
   "metadata": {
    "ExecuteTime": {
     "end_time": "2022-07-04T11:22:59.039467Z",
     "start_time": "2022-07-04T11:21:28.624790Z"
    }
   },
   "outputs": [
    {
     "data": {
      "application/vnd.jupyter.widget-view+json": {
       "model_id": "edaa329787d44aaeac3c9bba8711b634",
       "version_major": 2,
       "version_minor": 0
      },
      "text/plain": [
       "  0%|          | 0/20 [00:00<?, ?it/s]"
      ]
     },
     "metadata": {},
     "output_type": "display_data"
    },
    {
     "name": "stdout",
     "output_type": "stream",
     "text": [
      "0.8947368421052632 0.8778755357611054\n"
     ]
    }
   ],
   "source": [
    "import numpy as np\n",
    "import pandas as pd\n",
    "import networkx as nx\n",
    "import warnings\n",
    "from heapq import heappop, heappush\n",
    "from collections import defaultdict\n",
    "from tqdm.notebook import tqdm\n",
    "warnings.simplefilter('ignore')\n",
    "\n",
    "max_dist = 3\n",
    "max_N = 64\n",
    "eval_points = val_data_df[\"query_ix\"].unique()\n",
    "pids = test_df[\"pid\"].values\n",
    "\n",
    "best_score = 0\n",
    "best_th = 0\n",
    "\n",
    "pred_df = val_data_df[[\"query_ix\", \"candidate_ix\", \"pred\", \"rank\"]]#.query(\"rank <= 24\")\n",
    "\n",
    "for th in tqdm(np.linspace(0.8, 1., 20)):\n",
    "    tmp_df = pred_df[pred_df[\"pred\"] >= th][[\"query_ix\", \"candidate_ix\", \"pred\"]]\n",
    "    uft = UnionFind(len(test_df))\n",
    "\n",
    "    for ix, nix in tmp_df[[\"query_ix\", \"candidate_ix\"]].values:\n",
    "        uft.unite(ix, nix)\n",
    "    group_members = defaultdict(list)\n",
    "    group_size = defaultdict(int)\n",
    "    group_map = {}\n",
    "    for i in range(len(test_df)):\n",
    "        group_members[uft.find(i)].append(i)\n",
    "        group_size[uft.find(i)] = uft.size[uft.find(i)]\n",
    "        group_map[i] = uft.find(i)\n",
    "\n",
    "    large_groups = set([k for k, v in group_size.items() if v > min(max_N, max_dist+1)])\n",
    "\n",
    "    tmp_df[\"group\"] = tmp_df[\"query_ix\"].map(group_map)\n",
    "    tmp_df[\"size\"] = tmp_df[\"group\"].map(group_size)\n",
    "    tmp_df[\"left\"] = np.minimum(tmp_df[\"query_ix\"], tmp_df[\"candidate_ix\"])\n",
    "    tmp_df[\"right\"] = np.maximum(tmp_df[\"query_ix\"], tmp_df[\"candidate_ix\"])\n",
    "    tmp_df = tmp_df.sort_values(by=\"pred\", ascending=False).drop_duplicates([\"left\", \"right\"])\n",
    "\n",
    "    graphs = {k: nx.Graph() for k in large_groups}\n",
    "    for large_group in large_groups:\n",
    "        for member in group_members[large_group]:\n",
    "            graphs[large_group].add_node(member)\n",
    "\n",
    "    neighbors = defaultdict(list)\n",
    "    for l, r, s in tmp_df[tmp_df[\"group\"].isin(large_groups)][[\"left\", \"right\", \"pred\"]].values:\n",
    "        l, r = int(l), int(r)\n",
    "        g = uft.find(l)\n",
    "        neighbors[l].append((r, s))\n",
    "        neighbors[r].append((l, s))\n",
    "        graphs[g].add_edge(l, r)\n",
    "\n",
    "    shortest_paths = {g: {k: d for k, d in nx.all_pairs_shortest_path_length(graphs[g])}\n",
    "                      for g in large_groups if len(group_members[g]) < 1000}\n",
    "\n",
    "    scores = []\n",
    "    for i in eval_points:\n",
    "        true_count = test_df.at[i, \"true_count\"]\n",
    "        qp = pids[i]\n",
    "        g = uft.find(i)\n",
    "        preds = []\n",
    "        if g in large_groups:\n",
    "            if g in shortest_paths.keys():\n",
    "                preds = []\n",
    "                for n, d in shortest_paths[g][i].items():\n",
    "                    if d <= max_dist:\n",
    "                        preds.append(n)\n",
    "            if (len(preds) > max_N) or (not g in shortest_paths.keys()):\n",
    "                searched = set()\n",
    "                heapq = [(-1., 0, i)]\n",
    "                while len(heapq) and (len(searched) < max_N):\n",
    "                    _, step, x = heappop(heapq)\n",
    "                    if x in searched:\n",
    "                        continue\n",
    "                    searched.add(x)\n",
    "                    if step >= max_dist:\n",
    "                        continue\n",
    "                    for n, s in neighbors[x]:\n",
    "                        if n in searched:\n",
    "                            continue\n",
    "                        heappush(heapq, (-s, step+1, n))\n",
    "                preds = list(searched)\n",
    "        else:\n",
    "            preds = group_members[g]\n",
    "        correct = sum([qp == pids[j] for j in preds])\n",
    "        scores.append(correct / (true_count + len(preds) - correct))\n",
    "\n",
    "    score = np.mean(scores)\n",
    "    if score > best_score:\n",
    "        best_score = score\n",
    "        best_th = th\n",
    "print(best_th, best_score)"
   ]
  },
  {
   "cell_type": "code",
   "execution_count": null,
   "metadata": {},
   "outputs": [],
   "source": [
    "lgb_model.save_model(nadare_feature_dir + \"lgb_model_pred30_mod2.lgb\")\n",
    "import seaborn as sns\n",
    "\n",
    "plt.figure(figsize=(20, 40))\n",
    "f_df = pd.DataFrame(lgb_model.feature_importance(importance_type=\"split\"), index=feature_cols).sort_values(by=0, ascending=False)\n",
    "\n",
    "sns.barplot(x=0, y=\"index\", data=f_df.reset_index())\n",
    "plt.savefig(nadare_feature_dir + \"feature_importances_split_pred29_mod2.png\")\n",
    "plt.show()\n"
   ]
  },
  {
   "cell_type": "code",
   "execution_count": 143,
   "metadata": {
    "ExecuteTime": {
     "end_time": "2022-07-04T07:07:01.202693Z",
     "start_time": "2022-07-04T07:06:59.554693Z"
    }
   },
   "outputs": [
    {
     "data": {
      "image/png": "[encoded data removed]",
      "text/plain": [
       "<Figure size 1440x2880 with 1 Axes>"
      ]
     },
     "metadata": {
      "needs_background": "light"
     },
     "output_type": "display_data"
    }
   ],
   "source": [
    "import seaborn as sns\n",
    "\n",
    "plt.figure(figsize=(20, 40))\n",
    "f_df = pd.DataFrame(lgb_model.feature_importance(importance_type=\"gain\"), index=feature_cols).sort_values(by=0, ascending=False).reset_index()#.iloc[2:]\n",
    "\n",
    "sns.barplot(x=0, y=\"index\", data=f_df.reset_index())\n",
    "plt.savefig(nadare_feature_dir + \"feature_importances_gain_pred30_mod1.png\")\n",
    "plt.show()\n"
   ]
  }
 ],
 "metadata": {
  "kernelspec": {
   "display_name": "Python 3 (ipykernel)",
   "language": "python",
   "name": "python3"
  },
  "language_info": {
   "codemirror_mode": {
    "name": "ipython",
    "version": 3
   },
   "file_extension": ".py",
   "mimetype": "text/x-python",
   "name": "python",
   "nbconvert_exporter": "python",
   "pygments_lexer": "ipython3",
   "version": "3.9.7"
  },
  "toc": {
   "base_numbering": 1,
   "nav_menu": {},
   "number_sections": true,
   "sideBar": true,
   "skip_h1_title": false,
   "title_cell": "Table of Contents",
   "title_sidebar": "Contents",
   "toc_cell": false,
   "toc_position": {},
   "toc_section_display": true,
   "toc_window_display": false
  }
 },
 "nbformat": 4,
 "nbformat_minor": 4
}
