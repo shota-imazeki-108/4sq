{
 "cells": [
  {
   "cell_type": "code",
   "execution_count": 1,
   "id": "d13210ba",
   "metadata": {},
   "outputs": [],
   "source": [
    "from kaggle.api.kaggle_api_extended import KaggleApi\n",
    "from kaggle import api\n",
    "import datetime\n",
    "from datetime import timezone\n",
    "import time"
   ]
  },
  {
   "cell_type": "code",
   "execution_count": 2,
   "id": "748638a3",
   "metadata": {
    "scrolled": true
   },
   "outputs": [],
   "source": [
    "# comps = api.competitions_list()\n",
    "# for comp in comps:\n",
    "#     print(comp.ref)"
   ]
  },
  {
   "cell_type": "code",
   "execution_count": 3,
   "id": "f7647a82",
   "metadata": {},
   "outputs": [
    {
     "name": "stdout",
     "output_type": "stream",
     "text": [
      " run-time: 552 min, LB: \n"
     ]
    }
   ],
   "source": [
    "api = KaggleApi()\n",
    "api.authenticate()\n",
    "\n",
    "COMPETITION =  'foursquare-location-matching'\n",
    "result_ = api.competition_submissions(COMPETITION)[0]\n",
    "latest_ref = str(result_)  # 最新のサブミット番号\n",
    "submit_time = result_.date\n",
    "\n",
    "status = ''\n",
    "\n",
    "while status != 'complete':\n",
    "    list_of_submission = api.competition_submissions(COMPETITION)\n",
    "    for result in list_of_submission:\n",
    "        if str(result.ref) == latest_ref:\n",
    "            break\n",
    "    status = result.status\n",
    "\n",
    "    now = datetime.datetime.now(timezone.utc).replace(tzinfo=None)\n",
    "    elapsed_time = int((now - submit_time).seconds / 60) + 1\n",
    "    if status == 'complete':\n",
    "        print('\\r', f'run-time: {elapsed_time} min, LB: {result.publicScore}')\n",
    "    else:\n",
    "        print('\\r', f'elapsed time: {elapsed_time} min', end='')\n",
    "        time.sleep(60)"
   ]
  },
  {
   "cell_type": "code",
   "execution_count": 7,
   "id": "c7bbcd6d",
   "metadata": {},
   "outputs": [
    {
     "data": {
      "text/plain": [
       "datetime.datetime(2022, 6, 10, 17, 6, 1)"
      ]
     },
     "execution_count": 7,
     "metadata": {},
     "output_type": "execute_result"
    }
   ],
   "source": [
    "COMPETITION =  'foursquare-location-matching'\n",
    "result_ = api.competition_submissions(COMPETITION)[1]\n",
    "latest_ref = str(result_)  # 最新のサブミット番号\n",
    "submit_time = result_.date\n",
    "submit_time"
   ]
  },
  {
   "cell_type": "code",
   "execution_count": null,
   "id": "1d0f0000",
   "metadata": {},
   "outputs": [],
   "source": []
  }
 ],
 "metadata": {
  "kernelspec": {
   "display_name": "Python 3 (ipykernel)",
   "language": "python",
   "name": "python3"
  },
  "language_info": {
   "codemirror_mode": {
    "name": "ipython",
    "version": 3
   },
   "file_extension": ".py",
   "mimetype": "text/x-python",
   "name": "python",
   "nbconvert_exporter": "python",
   "pygments_lexer": "ipython3",
   "version": "3.9.7"
  }
 },
 "nbformat": 4,
 "nbformat_minor": 5
}
